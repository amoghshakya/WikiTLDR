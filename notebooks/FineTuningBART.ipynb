{
  "nbformat": 4,
  "nbformat_minor": 0,
  "metadata": {
    "colab": {
      "provenance": [],
      "gpuType": "T4"
    },
    "kernelspec": {
      "name": "python3",
      "display_name": "Python 3"
    },
    "language_info": {
      "name": "python"
    },
    "widgets": {
      "application/vnd.jupyter.widget-state+json": {
        "cf87819ba4564e1a8041e29636d7d1ea": {
          "model_module": "@jupyter-widgets/controls",
          "model_name": "HBoxModel",
          "model_module_version": "1.5.0",
          "state": {
            "_dom_classes": [],
            "_model_module": "@jupyter-widgets/controls",
            "_model_module_version": "1.5.0",
            "_model_name": "HBoxModel",
            "_view_count": null,
            "_view_module": "@jupyter-widgets/controls",
            "_view_module_version": "1.5.0",
            "_view_name": "HBoxView",
            "box_style": "",
            "children": [
              "IPY_MODEL_666e87f9134f44b9b47fa146ffbfbdc0",
              "IPY_MODEL_80f1f8df370e44e695a361c9cd8c63c7",
              "IPY_MODEL_9c8b764097224af6899b4cf6c2d4f348"
            ],
            "layout": "IPY_MODEL_e4c31c6d5e13469dabbff71708001006"
          }
        },
        "666e87f9134f44b9b47fa146ffbfbdc0": {
          "model_module": "@jupyter-widgets/controls",
          "model_name": "HTMLModel",
          "model_module_version": "1.5.0",
          "state": {
            "_dom_classes": [],
            "_model_module": "@jupyter-widgets/controls",
            "_model_module_version": "1.5.0",
            "_model_name": "HTMLModel",
            "_view_count": null,
            "_view_module": "@jupyter-widgets/controls",
            "_view_module_version": "1.5.0",
            "_view_name": "HTMLView",
            "description": "",
            "description_tooltip": null,
            "layout": "IPY_MODEL_e19f91beeccf40ccb53948bb6caa3959",
            "placeholder": "​",
            "style": "IPY_MODEL_2ec0559285e246c3b0ad43b1dbaedf3c",
            "value": "Map: 100%"
          }
        },
        "80f1f8df370e44e695a361c9cd8c63c7": {
          "model_module": "@jupyter-widgets/controls",
          "model_name": "FloatProgressModel",
          "model_module_version": "1.5.0",
          "state": {
            "_dom_classes": [],
            "_model_module": "@jupyter-widgets/controls",
            "_model_module_version": "1.5.0",
            "_model_name": "FloatProgressModel",
            "_view_count": null,
            "_view_module": "@jupyter-widgets/controls",
            "_view_module_version": "1.5.0",
            "_view_name": "ProgressView",
            "bar_style": "success",
            "description": "",
            "description_tooltip": null,
            "layout": "IPY_MODEL_9887010a049f4e5ea54b8ae9e55f4fcf",
            "max": 7205,
            "min": 0,
            "orientation": "horizontal",
            "style": "IPY_MODEL_eab6a64616d945948e5d60d3c47c049a",
            "value": 7205
          }
        },
        "9c8b764097224af6899b4cf6c2d4f348": {
          "model_module": "@jupyter-widgets/controls",
          "model_name": "HTMLModel",
          "model_module_version": "1.5.0",
          "state": {
            "_dom_classes": [],
            "_model_module": "@jupyter-widgets/controls",
            "_model_module_version": "1.5.0",
            "_model_name": "HTMLModel",
            "_view_count": null,
            "_view_module": "@jupyter-widgets/controls",
            "_view_module_version": "1.5.0",
            "_view_name": "HTMLView",
            "description": "",
            "description_tooltip": null,
            "layout": "IPY_MODEL_5dadbffa6fa44df583e7d2b7aadc1a0b",
            "placeholder": "​",
            "style": "IPY_MODEL_f562c476194d471f86d17f172c851a86",
            "value": " 7205/7205 [00:16&lt;00:00, 456.98 examples/s]"
          }
        },
        "e4c31c6d5e13469dabbff71708001006": {
          "model_module": "@jupyter-widgets/base",
          "model_name": "LayoutModel",
          "model_module_version": "1.2.0",
          "state": {
            "_model_module": "@jupyter-widgets/base",
            "_model_module_version": "1.2.0",
            "_model_name": "LayoutModel",
            "_view_count": null,
            "_view_module": "@jupyter-widgets/base",
            "_view_module_version": "1.2.0",
            "_view_name": "LayoutView",
            "align_content": null,
            "align_items": null,
            "align_self": null,
            "border": null,
            "bottom": null,
            "display": null,
            "flex": null,
            "flex_flow": null,
            "grid_area": null,
            "grid_auto_columns": null,
            "grid_auto_flow": null,
            "grid_auto_rows": null,
            "grid_column": null,
            "grid_gap": null,
            "grid_row": null,
            "grid_template_areas": null,
            "grid_template_columns": null,
            "grid_template_rows": null,
            "height": null,
            "justify_content": null,
            "justify_items": null,
            "left": null,
            "margin": null,
            "max_height": null,
            "max_width": null,
            "min_height": null,
            "min_width": null,
            "object_fit": null,
            "object_position": null,
            "order": null,
            "overflow": null,
            "overflow_x": null,
            "overflow_y": null,
            "padding": null,
            "right": null,
            "top": null,
            "visibility": null,
            "width": null
          }
        },
        "e19f91beeccf40ccb53948bb6caa3959": {
          "model_module": "@jupyter-widgets/base",
          "model_name": "LayoutModel",
          "model_module_version": "1.2.0",
          "state": {
            "_model_module": "@jupyter-widgets/base",
            "_model_module_version": "1.2.0",
            "_model_name": "LayoutModel",
            "_view_count": null,
            "_view_module": "@jupyter-widgets/base",
            "_view_module_version": "1.2.0",
            "_view_name": "LayoutView",
            "align_content": null,
            "align_items": null,
            "align_self": null,
            "border": null,
            "bottom": null,
            "display": null,
            "flex": null,
            "flex_flow": null,
            "grid_area": null,
            "grid_auto_columns": null,
            "grid_auto_flow": null,
            "grid_auto_rows": null,
            "grid_column": null,
            "grid_gap": null,
            "grid_row": null,
            "grid_template_areas": null,
            "grid_template_columns": null,
            "grid_template_rows": null,
            "height": null,
            "justify_content": null,
            "justify_items": null,
            "left": null,
            "margin": null,
            "max_height": null,
            "max_width": null,
            "min_height": null,
            "min_width": null,
            "object_fit": null,
            "object_position": null,
            "order": null,
            "overflow": null,
            "overflow_x": null,
            "overflow_y": null,
            "padding": null,
            "right": null,
            "top": null,
            "visibility": null,
            "width": null
          }
        },
        "2ec0559285e246c3b0ad43b1dbaedf3c": {
          "model_module": "@jupyter-widgets/controls",
          "model_name": "DescriptionStyleModel",
          "model_module_version": "1.5.0",
          "state": {
            "_model_module": "@jupyter-widgets/controls",
            "_model_module_version": "1.5.0",
            "_model_name": "DescriptionStyleModel",
            "_view_count": null,
            "_view_module": "@jupyter-widgets/base",
            "_view_module_version": "1.2.0",
            "_view_name": "StyleView",
            "description_width": ""
          }
        },
        "9887010a049f4e5ea54b8ae9e55f4fcf": {
          "model_module": "@jupyter-widgets/base",
          "model_name": "LayoutModel",
          "model_module_version": "1.2.0",
          "state": {
            "_model_module": "@jupyter-widgets/base",
            "_model_module_version": "1.2.0",
            "_model_name": "LayoutModel",
            "_view_count": null,
            "_view_module": "@jupyter-widgets/base",
            "_view_module_version": "1.2.0",
            "_view_name": "LayoutView",
            "align_content": null,
            "align_items": null,
            "align_self": null,
            "border": null,
            "bottom": null,
            "display": null,
            "flex": null,
            "flex_flow": null,
            "grid_area": null,
            "grid_auto_columns": null,
            "grid_auto_flow": null,
            "grid_auto_rows": null,
            "grid_column": null,
            "grid_gap": null,
            "grid_row": null,
            "grid_template_areas": null,
            "grid_template_columns": null,
            "grid_template_rows": null,
            "height": null,
            "justify_content": null,
            "justify_items": null,
            "left": null,
            "margin": null,
            "max_height": null,
            "max_width": null,
            "min_height": null,
            "min_width": null,
            "object_fit": null,
            "object_position": null,
            "order": null,
            "overflow": null,
            "overflow_x": null,
            "overflow_y": null,
            "padding": null,
            "right": null,
            "top": null,
            "visibility": null,
            "width": null
          }
        },
        "eab6a64616d945948e5d60d3c47c049a": {
          "model_module": "@jupyter-widgets/controls",
          "model_name": "ProgressStyleModel",
          "model_module_version": "1.5.0",
          "state": {
            "_model_module": "@jupyter-widgets/controls",
            "_model_module_version": "1.5.0",
            "_model_name": "ProgressStyleModel",
            "_view_count": null,
            "_view_module": "@jupyter-widgets/base",
            "_view_module_version": "1.2.0",
            "_view_name": "StyleView",
            "bar_color": null,
            "description_width": ""
          }
        },
        "5dadbffa6fa44df583e7d2b7aadc1a0b": {
          "model_module": "@jupyter-widgets/base",
          "model_name": "LayoutModel",
          "model_module_version": "1.2.0",
          "state": {
            "_model_module": "@jupyter-widgets/base",
            "_model_module_version": "1.2.0",
            "_model_name": "LayoutModel",
            "_view_count": null,
            "_view_module": "@jupyter-widgets/base",
            "_view_module_version": "1.2.0",
            "_view_name": "LayoutView",
            "align_content": null,
            "align_items": null,
            "align_self": null,
            "border": null,
            "bottom": null,
            "display": null,
            "flex": null,
            "flex_flow": null,
            "grid_area": null,
            "grid_auto_columns": null,
            "grid_auto_flow": null,
            "grid_auto_rows": null,
            "grid_column": null,
            "grid_gap": null,
            "grid_row": null,
            "grid_template_areas": null,
            "grid_template_columns": null,
            "grid_template_rows": null,
            "height": null,
            "justify_content": null,
            "justify_items": null,
            "left": null,
            "margin": null,
            "max_height": null,
            "max_width": null,
            "min_height": null,
            "min_width": null,
            "object_fit": null,
            "object_position": null,
            "order": null,
            "overflow": null,
            "overflow_x": null,
            "overflow_y": null,
            "padding": null,
            "right": null,
            "top": null,
            "visibility": null,
            "width": null
          }
        },
        "f562c476194d471f86d17f172c851a86": {
          "model_module": "@jupyter-widgets/controls",
          "model_name": "DescriptionStyleModel",
          "model_module_version": "1.5.0",
          "state": {
            "_model_module": "@jupyter-widgets/controls",
            "_model_module_version": "1.5.0",
            "_model_name": "DescriptionStyleModel",
            "_view_count": null,
            "_view_module": "@jupyter-widgets/base",
            "_view_module_version": "1.2.0",
            "_view_name": "StyleView",
            "description_width": ""
          }
        },
        "302ca53832a84242939ae10a2f39bd84": {
          "model_module": "@jupyter-widgets/controls",
          "model_name": "HBoxModel",
          "model_module_version": "1.5.0",
          "state": {
            "_dom_classes": [],
            "_model_module": "@jupyter-widgets/controls",
            "_model_module_version": "1.5.0",
            "_model_name": "HBoxModel",
            "_view_count": null,
            "_view_module": "@jupyter-widgets/controls",
            "_view_module_version": "1.5.0",
            "_view_name": "HBoxView",
            "box_style": "",
            "children": [
              "IPY_MODEL_06492c5d805d4cfb8b5619fbe0703b86",
              "IPY_MODEL_dd786c2c02574520a6c99060d48c5e0b",
              "IPY_MODEL_d2bf99cd21fa45ca8513d9caae626e66"
            ],
            "layout": "IPY_MODEL_d433873b8f6a4dcb98a8f2c7de3cdc1d"
          }
        },
        "06492c5d805d4cfb8b5619fbe0703b86": {
          "model_module": "@jupyter-widgets/controls",
          "model_name": "HTMLModel",
          "model_module_version": "1.5.0",
          "state": {
            "_dom_classes": [],
            "_model_module": "@jupyter-widgets/controls",
            "_model_module_version": "1.5.0",
            "_model_name": "HTMLModel",
            "_view_count": null,
            "_view_module": "@jupyter-widgets/controls",
            "_view_module_version": "1.5.0",
            "_view_name": "HTMLView",
            "description": "",
            "description_tooltip": null,
            "layout": "IPY_MODEL_a8111a60bf53409ba3a96113177962c8",
            "placeholder": "​",
            "style": "IPY_MODEL_7c57032558544cc684d132a55d7a1b74",
            "value": "Map: 100%"
          }
        },
        "dd786c2c02574520a6c99060d48c5e0b": {
          "model_module": "@jupyter-widgets/controls",
          "model_name": "FloatProgressModel",
          "model_module_version": "1.5.0",
          "state": {
            "_dom_classes": [],
            "_model_module": "@jupyter-widgets/controls",
            "_model_module_version": "1.5.0",
            "_model_name": "FloatProgressModel",
            "_view_count": null,
            "_view_module": "@jupyter-widgets/controls",
            "_view_module_version": "1.5.0",
            "_view_name": "ProgressView",
            "bar_style": "success",
            "description": "",
            "description_tooltip": null,
            "layout": "IPY_MODEL_48913662a4c2465198737ecf49e7cc11",
            "max": 801,
            "min": 0,
            "orientation": "horizontal",
            "style": "IPY_MODEL_7d3081ae063b4c9cbf3c823b811b08f5",
            "value": 801
          }
        },
        "d2bf99cd21fa45ca8513d9caae626e66": {
          "model_module": "@jupyter-widgets/controls",
          "model_name": "HTMLModel",
          "model_module_version": "1.5.0",
          "state": {
            "_dom_classes": [],
            "_model_module": "@jupyter-widgets/controls",
            "_model_module_version": "1.5.0",
            "_model_name": "HTMLModel",
            "_view_count": null,
            "_view_module": "@jupyter-widgets/controls",
            "_view_module_version": "1.5.0",
            "_view_name": "HTMLView",
            "description": "",
            "description_tooltip": null,
            "layout": "IPY_MODEL_0d768edb1ae84d7c9faf5e19cb305c4a",
            "placeholder": "​",
            "style": "IPY_MODEL_c567bfc7841041a9aa0bc146fefac2c1",
            "value": " 801/801 [00:02&lt;00:00, 399.42 examples/s]"
          }
        },
        "d433873b8f6a4dcb98a8f2c7de3cdc1d": {
          "model_module": "@jupyter-widgets/base",
          "model_name": "LayoutModel",
          "model_module_version": "1.2.0",
          "state": {
            "_model_module": "@jupyter-widgets/base",
            "_model_module_version": "1.2.0",
            "_model_name": "LayoutModel",
            "_view_count": null,
            "_view_module": "@jupyter-widgets/base",
            "_view_module_version": "1.2.0",
            "_view_name": "LayoutView",
            "align_content": null,
            "align_items": null,
            "align_self": null,
            "border": null,
            "bottom": null,
            "display": null,
            "flex": null,
            "flex_flow": null,
            "grid_area": null,
            "grid_auto_columns": null,
            "grid_auto_flow": null,
            "grid_auto_rows": null,
            "grid_column": null,
            "grid_gap": null,
            "grid_row": null,
            "grid_template_areas": null,
            "grid_template_columns": null,
            "grid_template_rows": null,
            "height": null,
            "justify_content": null,
            "justify_items": null,
            "left": null,
            "margin": null,
            "max_height": null,
            "max_width": null,
            "min_height": null,
            "min_width": null,
            "object_fit": null,
            "object_position": null,
            "order": null,
            "overflow": null,
            "overflow_x": null,
            "overflow_y": null,
            "padding": null,
            "right": null,
            "top": null,
            "visibility": null,
            "width": null
          }
        },
        "a8111a60bf53409ba3a96113177962c8": {
          "model_module": "@jupyter-widgets/base",
          "model_name": "LayoutModel",
          "model_module_version": "1.2.0",
          "state": {
            "_model_module": "@jupyter-widgets/base",
            "_model_module_version": "1.2.0",
            "_model_name": "LayoutModel",
            "_view_count": null,
            "_view_module": "@jupyter-widgets/base",
            "_view_module_version": "1.2.0",
            "_view_name": "LayoutView",
            "align_content": null,
            "align_items": null,
            "align_self": null,
            "border": null,
            "bottom": null,
            "display": null,
            "flex": null,
            "flex_flow": null,
            "grid_area": null,
            "grid_auto_columns": null,
            "grid_auto_flow": null,
            "grid_auto_rows": null,
            "grid_column": null,
            "grid_gap": null,
            "grid_row": null,
            "grid_template_areas": null,
            "grid_template_columns": null,
            "grid_template_rows": null,
            "height": null,
            "justify_content": null,
            "justify_items": null,
            "left": null,
            "margin": null,
            "max_height": null,
            "max_width": null,
            "min_height": null,
            "min_width": null,
            "object_fit": null,
            "object_position": null,
            "order": null,
            "overflow": null,
            "overflow_x": null,
            "overflow_y": null,
            "padding": null,
            "right": null,
            "top": null,
            "visibility": null,
            "width": null
          }
        },
        "7c57032558544cc684d132a55d7a1b74": {
          "model_module": "@jupyter-widgets/controls",
          "model_name": "DescriptionStyleModel",
          "model_module_version": "1.5.0",
          "state": {
            "_model_module": "@jupyter-widgets/controls",
            "_model_module_version": "1.5.0",
            "_model_name": "DescriptionStyleModel",
            "_view_count": null,
            "_view_module": "@jupyter-widgets/base",
            "_view_module_version": "1.2.0",
            "_view_name": "StyleView",
            "description_width": ""
          }
        },
        "48913662a4c2465198737ecf49e7cc11": {
          "model_module": "@jupyter-widgets/base",
          "model_name": "LayoutModel",
          "model_module_version": "1.2.0",
          "state": {
            "_model_module": "@jupyter-widgets/base",
            "_model_module_version": "1.2.0",
            "_model_name": "LayoutModel",
            "_view_count": null,
            "_view_module": "@jupyter-widgets/base",
            "_view_module_version": "1.2.0",
            "_view_name": "LayoutView",
            "align_content": null,
            "align_items": null,
            "align_self": null,
            "border": null,
            "bottom": null,
            "display": null,
            "flex": null,
            "flex_flow": null,
            "grid_area": null,
            "grid_auto_columns": null,
            "grid_auto_flow": null,
            "grid_auto_rows": null,
            "grid_column": null,
            "grid_gap": null,
            "grid_row": null,
            "grid_template_areas": null,
            "grid_template_columns": null,
            "grid_template_rows": null,
            "height": null,
            "justify_content": null,
            "justify_items": null,
            "left": null,
            "margin": null,
            "max_height": null,
            "max_width": null,
            "min_height": null,
            "min_width": null,
            "object_fit": null,
            "object_position": null,
            "order": null,
            "overflow": null,
            "overflow_x": null,
            "overflow_y": null,
            "padding": null,
            "right": null,
            "top": null,
            "visibility": null,
            "width": null
          }
        },
        "7d3081ae063b4c9cbf3c823b811b08f5": {
          "model_module": "@jupyter-widgets/controls",
          "model_name": "ProgressStyleModel",
          "model_module_version": "1.5.0",
          "state": {
            "_model_module": "@jupyter-widgets/controls",
            "_model_module_version": "1.5.0",
            "_model_name": "ProgressStyleModel",
            "_view_count": null,
            "_view_module": "@jupyter-widgets/base",
            "_view_module_version": "1.2.0",
            "_view_name": "StyleView",
            "bar_color": null,
            "description_width": ""
          }
        },
        "0d768edb1ae84d7c9faf5e19cb305c4a": {
          "model_module": "@jupyter-widgets/base",
          "model_name": "LayoutModel",
          "model_module_version": "1.2.0",
          "state": {
            "_model_module": "@jupyter-widgets/base",
            "_model_module_version": "1.2.0",
            "_model_name": "LayoutModel",
            "_view_count": null,
            "_view_module": "@jupyter-widgets/base",
            "_view_module_version": "1.2.0",
            "_view_name": "LayoutView",
            "align_content": null,
            "align_items": null,
            "align_self": null,
            "border": null,
            "bottom": null,
            "display": null,
            "flex": null,
            "flex_flow": null,
            "grid_area": null,
            "grid_auto_columns": null,
            "grid_auto_flow": null,
            "grid_auto_rows": null,
            "grid_column": null,
            "grid_gap": null,
            "grid_row": null,
            "grid_template_areas": null,
            "grid_template_columns": null,
            "grid_template_rows": null,
            "height": null,
            "justify_content": null,
            "justify_items": null,
            "left": null,
            "margin": null,
            "max_height": null,
            "max_width": null,
            "min_height": null,
            "min_width": null,
            "object_fit": null,
            "object_position": null,
            "order": null,
            "overflow": null,
            "overflow_x": null,
            "overflow_y": null,
            "padding": null,
            "right": null,
            "top": null,
            "visibility": null,
            "width": null
          }
        },
        "c567bfc7841041a9aa0bc146fefac2c1": {
          "model_module": "@jupyter-widgets/controls",
          "model_name": "DescriptionStyleModel",
          "model_module_version": "1.5.0",
          "state": {
            "_model_module": "@jupyter-widgets/controls",
            "_model_module_version": "1.5.0",
            "_model_name": "DescriptionStyleModel",
            "_view_count": null,
            "_view_module": "@jupyter-widgets/base",
            "_view_module_version": "1.2.0",
            "_view_name": "StyleView",
            "description_width": ""
          }
        }
      }
    },
    "accelerator": "GPU"
  },
  "cells": [
    {
      "cell_type": "markdown",
      "source": [
        "# Install necessary libraries\n",
        "\n",
        "Using PyTorch here because huggingface models and facebook 😛"
      ],
      "metadata": {
        "id": "UwSH7Fh6JRrw"
      }
    },
    {
      "cell_type": "code",
      "source": [
        "%pip install -q torch transformers datasets accelerate"
      ],
      "metadata": {
        "id": "H8aKwg43rOex"
      },
      "execution_count": 2,
      "outputs": []
    },
    {
      "cell_type": "markdown",
      "source": [
        "# Load the dataset"
      ],
      "metadata": {
        "id": "xsL2i9gbsMie"
      }
    },
    {
      "cell_type": "code",
      "source": [
        "import pandas as pd\n",
        "\n",
        "dataset = pd.read_json(\"/content/data.jsonl\", lines=True)"
      ],
      "metadata": {
        "id": "EWtmHXgsrXJ9"
      },
      "execution_count": 3,
      "outputs": []
    },
    {
      "cell_type": "code",
      "source": [
        "cols = dataset.columns\n",
        "cols"
      ],
      "metadata": {
        "colab": {
          "base_uri": "https://localhost:8080/"
        },
        "id": "2ddp6tgEr_bt",
        "outputId": "ea9cad1f-b468-4b83-f4f3-97cb54b492b1"
      },
      "execution_count": 10,
      "outputs": [
        {
          "output_type": "execute_result",
          "data": {
            "text/plain": [
              "Index(['title', 'input_text', 'target_text', 'compression_ratio',\n",
              "       'readability_score', 'rouge-1', 'rouge-2', 'rouge-l'],\n",
              "      dtype='object')"
            ]
          },
          "metadata": {},
          "execution_count": 10
        }
      ]
    },
    {
      "cell_type": "code",
      "source": [
        "from datasets import load_dataset\n",
        "\n",
        "dataset = load_dataset(\"json\", data_files=\"/content/data.jsonl\")[\"train\"]\n",
        "\n",
        "# remove columns we don't need\n",
        "# for now, we just need input-output pairs\n",
        "dataset = dataset.remove_columns([\"title\", \"compression_ratio\",\n",
        "                                  \"readability_score\", \"rouge-1\",\n",
        "                                  \"rouge-2\", \"rouge-l\"])"
      ],
      "metadata": {
        "id": "NnKqVlRbr__z"
      },
      "execution_count": 23,
      "outputs": []
    },
    {
      "cell_type": "code",
      "source": [
        "split_dataset = dataset.train_test_split(test_size=0.1)\n",
        "print(split_dataset)"
      ],
      "metadata": {
        "colab": {
          "base_uri": "https://localhost:8080/"
        },
        "id": "LAYL6pu7uT6E",
        "outputId": "2291b7db-63c8-4fbb-a1fa-30500616ed33"
      },
      "execution_count": 24,
      "outputs": [
        {
          "output_type": "stream",
          "name": "stdout",
          "text": [
            "DatasetDict({\n",
            "    train: Dataset({\n",
            "        features: ['input_text', 'target_text'],\n",
            "        num_rows: 7205\n",
            "    })\n",
            "    test: Dataset({\n",
            "        features: ['input_text', 'target_text'],\n",
            "        num_rows: 801\n",
            "    })\n",
            "})\n"
          ]
        }
      ]
    },
    {
      "cell_type": "markdown",
      "source": [
        "# Tokenization"
      ],
      "metadata": {
        "id": "08fexnEbszV9"
      }
    },
    {
      "cell_type": "code",
      "source": [
        "from transformers import BartTokenizer\n",
        "\n",
        "tokenizer = BartTokenizer.from_pretrained(\"facebook/bart-base\")"
      ],
      "metadata": {
        "id": "mMGUWUxas1WI"
      },
      "execution_count": 25,
      "outputs": []
    },
    {
      "cell_type": "code",
      "source": [
        "def preprocess_function(examples):\n",
        "    model_inputs = tokenizer(examples[\"input_text\"],\n",
        "                             max_length=512,\n",
        "                             truncation=True,\n",
        "                             padding='max_length')\n",
        "    labels = tokenizer(examples[\"target_text\"],\n",
        "                       max_length=128,\n",
        "                       truncation=True,\n",
        "                       padding=\"max_length\")\n",
        "    model_inputs[\"labels\"] = labels[\"input_ids\"]\n",
        "    return model_inputs\n",
        "\n",
        "tokenized_dataset = split_dataset.map(preprocess_function,\n",
        "                                batched=True,\n",
        "                                remove_columns=[\"input_text\", \"target_text\"])"
      ],
      "metadata": {
        "colab": {
          "base_uri": "https://localhost:8080/",
          "height": 81,
          "referenced_widgets": [
            "cf87819ba4564e1a8041e29636d7d1ea",
            "666e87f9134f44b9b47fa146ffbfbdc0",
            "80f1f8df370e44e695a361c9cd8c63c7",
            "9c8b764097224af6899b4cf6c2d4f348",
            "e4c31c6d5e13469dabbff71708001006",
            "e19f91beeccf40ccb53948bb6caa3959",
            "2ec0559285e246c3b0ad43b1dbaedf3c",
            "9887010a049f4e5ea54b8ae9e55f4fcf",
            "eab6a64616d945948e5d60d3c47c049a",
            "5dadbffa6fa44df583e7d2b7aadc1a0b",
            "f562c476194d471f86d17f172c851a86",
            "302ca53832a84242939ae10a2f39bd84",
            "06492c5d805d4cfb8b5619fbe0703b86",
            "dd786c2c02574520a6c99060d48c5e0b",
            "d2bf99cd21fa45ca8513d9caae626e66",
            "d433873b8f6a4dcb98a8f2c7de3cdc1d",
            "a8111a60bf53409ba3a96113177962c8",
            "7c57032558544cc684d132a55d7a1b74",
            "48913662a4c2465198737ecf49e7cc11",
            "7d3081ae063b4c9cbf3c823b811b08f5",
            "0d768edb1ae84d7c9faf5e19cb305c4a",
            "c567bfc7841041a9aa0bc146fefac2c1"
          ]
        },
        "id": "_MtKG54Is75r",
        "outputId": "e164615b-bd34-4201-c782-579080bf06ba"
      },
      "execution_count": 26,
      "outputs": [
        {
          "output_type": "display_data",
          "data": {
            "text/plain": [
              "Map:   0%|          | 0/7205 [00:00<?, ? examples/s]"
            ],
            "application/vnd.jupyter.widget-view+json": {
              "version_major": 2,
              "version_minor": 0,
              "model_id": "cf87819ba4564e1a8041e29636d7d1ea"
            }
          },
          "metadata": {}
        },
        {
          "output_type": "display_data",
          "data": {
            "text/plain": [
              "Map:   0%|          | 0/801 [00:00<?, ? examples/s]"
            ],
            "application/vnd.jupyter.widget-view+json": {
              "version_major": 2,
              "version_minor": 0,
              "model_id": "302ca53832a84242939ae10a2f39bd84"
            }
          },
          "metadata": {}
        }
      ]
    },
    {
      "cell_type": "code",
      "source": [
        "tokenized_dataset"
      ],
      "metadata": {
        "colab": {
          "base_uri": "https://localhost:8080/"
        },
        "id": "lMuABxZtteV-",
        "outputId": "e5c2c0f5-100d-4219-8cd6-cc7904b9ad30"
      },
      "execution_count": 27,
      "outputs": [
        {
          "output_type": "execute_result",
          "data": {
            "text/plain": [
              "DatasetDict({\n",
              "    train: Dataset({\n",
              "        features: ['input_ids', 'attention_mask', 'labels'],\n",
              "        num_rows: 7205\n",
              "    })\n",
              "    test: Dataset({\n",
              "        features: ['input_ids', 'attention_mask', 'labels'],\n",
              "        num_rows: 801\n",
              "    })\n",
              "})"
            ]
          },
          "metadata": {},
          "execution_count": 27
        }
      ]
    },
    {
      "cell_type": "markdown",
      "source": [
        "# BART"
      ],
      "metadata": {
        "id": "3vhgzprBtoi0"
      }
    },
    {
      "cell_type": "code",
      "source": [
        "from transformers import BartForConditionalGeneration\n",
        "\n",
        "model = BartForConditionalGeneration.from_pretrained(\"facebook/bart-base\")"
      ],
      "metadata": {
        "id": "s-pfSK4StsmM"
      },
      "execution_count": 28,
      "outputs": []
    },
    {
      "cell_type": "markdown",
      "source": [
        "## Training"
      ],
      "metadata": {
        "id": "wcSb3obzt551"
      }
    },
    {
      "cell_type": "code",
      "source": [
        "from transformers import TrainingArguments, Trainer\n",
        "\n",
        "training_args = TrainingArguments(\n",
        "    output_dir=\"./bart-finetuned\",\n",
        "    eval_strategy=\"epoch\",\n",
        "    save_strategy=\"epoch\",\n",
        "    per_device_train_batch_size=8,\n",
        "    per_device_eval_batch_size=8,\n",
        "    learning_rate=5e-5,\n",
        "    weight_decay=0.01,\n",
        "    save_total_limit=3,\n",
        "    num_train_epochs=3,\n",
        "    logging_dir=\"./logs\",\n",
        "    report_to=\"none\"\n",
        ")"
      ],
      "metadata": {
        "id": "fzYBYsuRtuWn"
      },
      "execution_count": 29,
      "outputs": []
    },
    {
      "cell_type": "code",
      "source": [
        "trainer = Trainer(\n",
        "    model=model,\n",
        "    args=training_args,\n",
        "    train_dataset=tokenized_dataset[\"train\"],\n",
        "    eval_dataset=tokenized_dataset[\"test\"],\n",
        "    tokenizer=tokenizer\n",
        ")\n",
        "\n",
        "trainer.train()"
      ],
      "metadata": {
        "colab": {
          "base_uri": "https://localhost:8080/",
          "height": 311
        },
        "id": "-E8YHDL4tz_5",
        "outputId": "2b9c0761-5d69-401a-c246-4a6fb1700440"
      },
      "execution_count": 30,
      "outputs": [
        {
          "output_type": "stream",
          "name": "stderr",
          "text": [
            "<ipython-input-30-c6da3437dcb5>:1: FutureWarning: `tokenizer` is deprecated and will be removed in version 5.0.0 for `Trainer.__init__`. Use `processing_class` instead.\n",
            "  trainer = Trainer(\n"
          ]
        },
        {
          "output_type": "display_data",
          "data": {
            "text/plain": [
              "<IPython.core.display.HTML object>"
            ],
            "text/html": [
              "\n",
              "    <div>\n",
              "      \n",
              "      <progress value='2703' max='2703' style='width:300px; height:20px; vertical-align: middle;'></progress>\n",
              "      [2703/2703 31:59, Epoch 3/3]\n",
              "    </div>\n",
              "    <table border=\"1\" class=\"dataframe\">\n",
              "  <thead>\n",
              " <tr style=\"text-align: left;\">\n",
              "      <th>Epoch</th>\n",
              "      <th>Training Loss</th>\n",
              "      <th>Validation Loss</th>\n",
              "    </tr>\n",
              "  </thead>\n",
              "  <tbody>\n",
              "    <tr>\n",
              "      <td>1</td>\n",
              "      <td>1.431400</td>\n",
              "      <td>0.890182</td>\n",
              "    </tr>\n",
              "    <tr>\n",
              "      <td>2</td>\n",
              "      <td>0.891800</td>\n",
              "      <td>0.867856</td>\n",
              "    </tr>\n",
              "    <tr>\n",
              "      <td>3</td>\n",
              "      <td>0.806800</td>\n",
              "      <td>0.867155</td>\n",
              "    </tr>\n",
              "  </tbody>\n",
              "</table><p>"
            ]
          },
          "metadata": {}
        },
        {
          "output_type": "stream",
          "name": "stderr",
          "text": [
            "/usr/local/lib/python3.11/dist-packages/transformers/modeling_utils.py:2758: UserWarning: Moving the following attributes in the config to the generation config: {'early_stopping': True, 'num_beams': 4, 'no_repeat_ngram_size': 3, 'forced_bos_token_id': 0}. You are seeing this warning because you've set generation parameters in the model config, as opposed to in the generation config.\n",
            "  warnings.warn(\n"
          ]
        },
        {
          "output_type": "execute_result",
          "data": {
            "text/plain": [
              "TrainOutput(global_step=2703, training_loss=0.9863935294876353, metrics={'train_runtime': 1921.0564, 'train_samples_per_second': 11.252, 'train_steps_per_second': 1.407, 'total_flos': 6589726772428800.0, 'train_loss': 0.9863935294876353, 'epoch': 3.0})"
            ]
          },
          "metadata": {},
          "execution_count": 30
        }
      ]
    },
    {
      "cell_type": "code",
      "source": [
        "trainer.save_model(\"./bart-finetuned\")\n",
        "tokenizer.save_pretrained(\"./bart-finetuned\")"
      ],
      "metadata": {
        "colab": {
          "base_uri": "https://localhost:8080/"
        },
        "id": "B9bN2MVot9oA",
        "outputId": "c76c2dd0-8750-488b-92dd-5858f1293f86"
      },
      "execution_count": 31,
      "outputs": [
        {
          "output_type": "execute_result",
          "data": {
            "text/plain": [
              "('./bart-finetuned/tokenizer_config.json',\n",
              " './bart-finetuned/special_tokens_map.json',\n",
              " './bart-finetuned/vocab.json',\n",
              " './bart-finetuned/merges.txt',\n",
              " './bart-finetuned/added_tokens.json')"
            ]
          },
          "metadata": {},
          "execution_count": 31
        }
      ]
    },
    {
      "cell_type": "code",
      "source": [
        "!zip -r bart-finetuned.zip bart-finetuned"
      ],
      "metadata": {
        "colab": {
          "base_uri": "https://localhost:8080/"
        },
        "id": "Hus4vF2S2hPq",
        "outputId": "ae0ea0c2-d0cd-4990-e4bd-6ab9759f406c"
      },
      "execution_count": 43,
      "outputs": [
        {
          "output_type": "stream",
          "name": "stdout",
          "text": [
            "  adding: bart-finetuned/ (stored 0%)\n",
            "  adding: bart-finetuned/vocab.json (deflated 68%)\n",
            "  adding: bart-finetuned/merges.txt (deflated 53%)\n",
            "  adding: bart-finetuned/checkpoint-901/ (stored 0%)\n",
            "  adding: bart-finetuned/checkpoint-901/vocab.json (deflated 68%)\n",
            "  adding: bart-finetuned/checkpoint-901/merges.txt (deflated 53%)\n",
            "  adding: bart-finetuned/checkpoint-901/optimizer.pt (deflated 9%)\n",
            "  adding: bart-finetuned/checkpoint-901/training_args.bin (deflated 51%)\n",
            "  adding: bart-finetuned/checkpoint-901/special_tokens_map.json (deflated 85%)\n",
            "  adding: bart-finetuned/checkpoint-901/config.json (deflated 63%)\n",
            "  adding: bart-finetuned/checkpoint-901/tokenizer_config.json (deflated 75%)\n",
            "  adding: bart-finetuned/checkpoint-901/trainer_state.json (deflated 56%)\n",
            "  adding: bart-finetuned/checkpoint-901/rng_state.pth (deflated 25%)\n",
            "  adding: bart-finetuned/checkpoint-901/scheduler.pt (deflated 55%)\n",
            "  adding: bart-finetuned/checkpoint-901/model.safetensors (deflated 8%)\n",
            "  adding: bart-finetuned/checkpoint-901/generation_config.json (deflated 47%)\n",
            "  adding: bart-finetuned/training_args.bin (deflated 51%)\n",
            "  adding: bart-finetuned/special_tokens_map.json (deflated 85%)\n",
            "  adding: bart-finetuned/config.json (deflated 63%)\n",
            "  adding: bart-finetuned/tokenizer_config.json (deflated 75%)\n",
            "  adding: bart-finetuned/model.safetensors (deflated 8%)\n",
            "  adding: bart-finetuned/checkpoint-1802/ (stored 0%)\n",
            "  adding: bart-finetuned/checkpoint-1802/vocab.json (deflated 68%)\n",
            "  adding: bart-finetuned/checkpoint-1802/merges.txt (deflated 53%)\n",
            "  adding: bart-finetuned/checkpoint-1802/optimizer.pt (deflated 9%)\n",
            "  adding: bart-finetuned/checkpoint-1802/training_args.bin (deflated 51%)\n",
            "  adding: bart-finetuned/checkpoint-1802/special_tokens_map.json (deflated 85%)\n",
            "  adding: bart-finetuned/checkpoint-1802/config.json (deflated 63%)\n",
            "  adding: bart-finetuned/checkpoint-1802/tokenizer_config.json (deflated 75%)\n",
            "  adding: bart-finetuned/checkpoint-1802/trainer_state.json (deflated 62%)\n",
            "  adding: bart-finetuned/checkpoint-1802/rng_state.pth (deflated 25%)\n",
            "  adding: bart-finetuned/checkpoint-1802/scheduler.pt (deflated 55%)\n",
            "  adding: bart-finetuned/checkpoint-1802/model.safetensors (deflated 8%)\n",
            "  adding: bart-finetuned/checkpoint-1802/generation_config.json (deflated 47%)\n",
            "  adding: bart-finetuned/checkpoint-2703/ (stored 0%)\n",
            "  adding: bart-finetuned/checkpoint-2703/vocab.json (deflated 68%)\n",
            "  adding: bart-finetuned/checkpoint-2703/merges.txt (deflated 53%)\n",
            "  adding: bart-finetuned/checkpoint-2703/optimizer.pt (deflated 9%)\n",
            "  adding: bart-finetuned/checkpoint-2703/training_args.bin (deflated 51%)\n",
            "  adding: bart-finetuned/checkpoint-2703/special_tokens_map.json (deflated 85%)\n",
            "  adding: bart-finetuned/checkpoint-2703/config.json (deflated 63%)\n",
            "  adding: bart-finetuned/checkpoint-2703/tokenizer_config.json (deflated 75%)\n",
            "  adding: bart-finetuned/checkpoint-2703/trainer_state.json (deflated 66%)\n",
            "  adding: bart-finetuned/checkpoint-2703/rng_state.pth (deflated 25%)\n",
            "  adding: bart-finetuned/checkpoint-2703/scheduler.pt (deflated 56%)\n",
            "  adding: bart-finetuned/checkpoint-2703/model.safetensors (deflated 8%)\n",
            "  adding: bart-finetuned/checkpoint-2703/generation_config.json (deflated 47%)\n",
            "  adding: bart-finetuned/generation_config.json (deflated 47%)\n"
          ]
        }
      ]
    },
    {
      "cell_type": "code",
      "source": [],
      "metadata": {
        "id": "XI8fAA2V397_"
      },
      "execution_count": null,
      "outputs": []
    }
  ]
}