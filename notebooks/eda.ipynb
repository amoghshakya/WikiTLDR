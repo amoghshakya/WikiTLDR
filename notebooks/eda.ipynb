{
 "cells": [
  {
   "cell_type": "markdown",
   "metadata": {},
   "source": [
    "# WikiTLDR \n",
    "\n",
    "A summarization/simplification dataset"
   ]
  },
  {
   "cell_type": "code",
   "execution_count": 1,
   "metadata": {},
   "outputs": [],
   "source": [
    "import sqlite3\n",
    "import pandas as pd\n",
    "import numpy as np\n",
    "import matplotlib.pyplot as plt\n",
    "import seaborn as sns"
   ]
  },
  {
   "cell_type": "code",
   "execution_count": 2,
   "metadata": {},
   "outputs": [
    {
     "data": {
      "text/html": [
       "<div>\n",
       "<style scoped>\n",
       "    .dataframe tbody tr th:only-of-type {\n",
       "        vertical-align: middle;\n",
       "    }\n",
       "\n",
       "    .dataframe tbody tr th {\n",
       "        vertical-align: top;\n",
       "    }\n",
       "\n",
       "    .dataframe thead th {\n",
       "        text-align: right;\n",
       "    }\n",
       "</style>\n",
       "<table border=\"1\" class=\"dataframe\">\n",
       "  <thead>\n",
       "    <tr style=\"text-align: right;\">\n",
       "      <th></th>\n",
       "      <th>title</th>\n",
       "      <th>input_text</th>\n",
       "      <th>target_text</th>\n",
       "    </tr>\n",
       "  </thead>\n",
       "  <tbody>\n",
       "    <tr>\n",
       "      <th>0</th>\n",
       "      <td>Johan August Arfwedson</td>\n",
       "      <td>Johan August Arfwedson (12 January 1792 – 28 O...</td>\n",
       "      <td>Johan August Arfwedson (12 January 1792 – 28 O...</td>\n",
       "    </tr>\n",
       "    <tr>\n",
       "      <th>1</th>\n",
       "      <td>Kokarit frog</td>\n",
       "      <td>Humerana lateralis is a species of frog in the...</td>\n",
       "      <td>The Kokarit frog, meng-yang frog, yellow frog,...</td>\n",
       "    </tr>\n",
       "    <tr>\n",
       "      <th>2</th>\n",
       "      <td>Moundou</td>\n",
       "      <td>Moundou (Arabic: موندو) is the second-largest ...</td>\n",
       "      <td>Moundou is the capital of the Logone Occidenta...</td>\n",
       "    </tr>\n",
       "    <tr>\n",
       "      <th>3</th>\n",
       "      <td>Kamrieng District</td>\n",
       "      <td>Kamrieng (Khmer: កំរៀង) is a district (srok) o...</td>\n",
       "      <td>Kamrieng District (Khmer: កំរៀង) is a district...</td>\n",
       "    </tr>\n",
       "    <tr>\n",
       "      <th>4</th>\n",
       "      <td>Mother 1 + 2</td>\n",
       "      <td>Mother (known as EarthBound outside Japan) is ...</td>\n",
       "      <td>Mother 1 + 2 is a video game for the Game Boy ...</td>\n",
       "    </tr>\n",
       "  </tbody>\n",
       "</table>\n",
       "</div>"
      ],
      "text/plain": [
       "                    title                                         input_text  \\\n",
       "0  Johan August Arfwedson  Johan August Arfwedson (12 January 1792 – 28 O...   \n",
       "1            Kokarit frog  Humerana lateralis is a species of frog in the...   \n",
       "2                 Moundou  Moundou (Arabic: موندو) is the second-largest ...   \n",
       "3       Kamrieng District  Kamrieng (Khmer: កំរៀង) is a district (srok) o...   \n",
       "4            Mother 1 + 2  Mother (known as EarthBound outside Japan) is ...   \n",
       "\n",
       "                                         target_text  \n",
       "0  Johan August Arfwedson (12 January 1792 – 28 O...  \n",
       "1  The Kokarit frog, meng-yang frog, yellow frog,...  \n",
       "2  Moundou is the capital of the Logone Occidenta...  \n",
       "3  Kamrieng District (Khmer: កំរៀង) is a district...  \n",
       "4  Mother 1 + 2 is a video game for the Game Boy ...  "
      ]
     },
     "execution_count": 2,
     "metadata": {},
     "output_type": "execute_result"
    }
   ],
   "source": [
    "conn = sqlite3.connect('../raw_data/simple_en_wiki.db')\n",
    "cursor = conn.cursor()\n",
    "\n",
    "df = pd.read_sql_query(\"SELECT * FROM articles\", conn)\n",
    "df.drop(columns=['id'], inplace=True)\n",
    "df.head()"
   ]
  },
  {
   "cell_type": "code",
   "execution_count": 3,
   "metadata": {},
   "outputs": [
    {
     "name": "stdout",
     "output_type": "stream",
     "text": [
      "<class 'pandas.core.frame.DataFrame'>\n",
      "RangeIndex: 16295 entries, 0 to 16294\n",
      "Data columns (total 3 columns):\n",
      " #   Column       Non-Null Count  Dtype \n",
      "---  ------       --------------  ----- \n",
      " 0   title        16295 non-null  object\n",
      " 1   input_text   16295 non-null  object\n",
      " 2   target_text  16239 non-null  object\n",
      "dtypes: object(3)\n",
      "memory usage: 382.0+ KB\n"
     ]
    }
   ],
   "source": [
    "df.info()"
   ]
  },
  {
   "cell_type": "code",
   "execution_count": null,
   "metadata": {},
   "outputs": [
    {
     "data": {
      "text/plain": [
       "title           0\n",
       "input_text      0\n",
       "target_text    56\n",
       "dtype: int64"
      ]
     },
     "execution_count": 4,
     "metadata": {},
     "output_type": "execute_result"
    }
   ],
   "source": [
    "df.isna().sum()"
   ]
  },
  {
   "cell_type": "markdown",
   "metadata": {},
   "source": [
    "We replace empty strings `\"\"` with nulls. Because they *are* null values."
   ]
  },
  {
   "cell_type": "code",
   "execution_count": 5,
   "metadata": {},
   "outputs": [],
   "source": [
    "df.replace(\"\", np.nan, inplace=True)"
   ]
  },
  {
   "cell_type": "code",
   "execution_count": null,
   "metadata": {},
   "outputs": [
    {
     "data": {
      "text/plain": [
       "title           0\n",
       "input_text      0\n",
       "target_text    67\n",
       "dtype: int64"
      ]
     },
     "execution_count": 6,
     "metadata": {},
     "output_type": "execute_result"
    }
   ],
   "source": [
    "df.isna().sum()"
   ]
  },
  {
   "cell_type": "code",
   "execution_count": 7,
   "metadata": {},
   "outputs": [],
   "source": [
    "df.dropna(inplace=True)"
   ]
  },
  {
   "cell_type": "code",
   "execution_count": 8,
   "metadata": {},
   "outputs": [
    {
     "data": {
      "text/plain": [
       "824"
      ]
     },
     "execution_count": 8,
     "metadata": {},
     "output_type": "execute_result"
    }
   ],
   "source": [
    "df.duplicated().sum()"
   ]
  },
  {
   "cell_type": "code",
   "execution_count": 9,
   "metadata": {},
   "outputs": [
    {
     "data": {
      "text/html": [
       "<div>\n",
       "<style scoped>\n",
       "    .dataframe tbody tr th:only-of-type {\n",
       "        vertical-align: middle;\n",
       "    }\n",
       "\n",
       "    .dataframe tbody tr th {\n",
       "        vertical-align: top;\n",
       "    }\n",
       "\n",
       "    .dataframe thead th {\n",
       "        text-align: right;\n",
       "    }\n",
       "</style>\n",
       "<table border=\"1\" class=\"dataframe\">\n",
       "  <thead>\n",
       "    <tr style=\"text-align: right;\">\n",
       "      <th></th>\n",
       "      <th>title</th>\n",
       "      <th>input_text</th>\n",
       "      <th>target_text</th>\n",
       "    </tr>\n",
       "  </thead>\n",
       "  <tbody>\n",
       "    <tr>\n",
       "      <th>1515</th>\n",
       "      <td>Mizrahi music</td>\n",
       "      <td>Mizrahi music (Hebrew: מוזיקה מזרחית muzika mi...</td>\n",
       "      <td>Mizrahi music (Hebrew: מוזיקה מזרחית) is a mus...</td>\n",
       "    </tr>\n",
       "    <tr>\n",
       "      <th>1683</th>\n",
       "      <td>Fantaisie-Impromptu</td>\n",
       "      <td>Frédéric Chopin's Fantaisie-Impromptu (Polish:...</td>\n",
       "      <td>Frédéric Chopin's Fantaisie-Impromptu in C♯ mi...</td>\n",
       "    </tr>\n",
       "    <tr>\n",
       "      <th>1769</th>\n",
       "      <td>Stonewall County, Texas</td>\n",
       "      <td>Stonewall County is a county located in the U....</td>\n",
       "      <td>Stonewall County is a county in the U.S. state...</td>\n",
       "    </tr>\n",
       "    <tr>\n",
       "      <th>1844</th>\n",
       "      <td>Hanoi</td>\n",
       "      <td>Hanoi (Vietnamese: Hà Nội ) is the capital and...</td>\n",
       "      <td>Hanoi (Vietnamese: Hà Nội) is the capital of V...</td>\n",
       "    </tr>\n",
       "    <tr>\n",
       "      <th>1986</th>\n",
       "      <td>Saint-Martin, Gers</td>\n",
       "      <td>Saint-Martin (French pronunciation: [sɛ̃ maʁtɛ...</td>\n",
       "      <td>Saint-Martin is a commune in the Gers departme...</td>\n",
       "    </tr>\n",
       "    <tr>\n",
       "      <th>...</th>\n",
       "      <td>...</td>\n",
       "      <td>...</td>\n",
       "      <td>...</td>\n",
       "    </tr>\n",
       "    <tr>\n",
       "      <th>16234</th>\n",
       "      <td>Third constituency for French residents overseas</td>\n",
       "      <td>The third constituency for French residents ov...</td>\n",
       "      <td>The third constituency for French residents ov...</td>\n",
       "    </tr>\n",
       "    <tr>\n",
       "      <th>16250</th>\n",
       "      <td>Warangal</td>\n",
       "      <td>Warangal () is a city in the Indian state of T...</td>\n",
       "      <td>Warangal is a city in Telangana, India. It is ...</td>\n",
       "    </tr>\n",
       "    <tr>\n",
       "      <th>16264</th>\n",
       "      <td>Pierre Gamarra</td>\n",
       "      <td>Pierre Gamarra (French pronunciation: [pjɛʁ ga...</td>\n",
       "      <td>Pierre Gamarra (Toulouse, July 10, 1919 – Arge...</td>\n",
       "    </tr>\n",
       "    <tr>\n",
       "      <th>16281</th>\n",
       "      <td>José Ramos-Horta</td>\n",
       "      <td>José Manuel Ramos-Horta GCL GColIH (Portuguese...</td>\n",
       "      <td>José Manuel Ramos-Horta GCL AC (Portuguese pro...</td>\n",
       "    </tr>\n",
       "    <tr>\n",
       "      <th>16293</th>\n",
       "      <td>Yngve Brilioth</td>\n",
       "      <td>Yngve Torgny Brilioth (12 July 1891 – 27 April...</td>\n",
       "      <td>Yngve Brilioth, born 12 July 1891 in Västra Ed...</td>\n",
       "    </tr>\n",
       "  </tbody>\n",
       "</table>\n",
       "<p>824 rows × 3 columns</p>\n",
       "</div>"
      ],
      "text/plain": [
       "                                                  title  \\\n",
       "1515                                      Mizrahi music   \n",
       "1683                                Fantaisie-Impromptu   \n",
       "1769                            Stonewall County, Texas   \n",
       "1844                                              Hanoi   \n",
       "1986                                 Saint-Martin, Gers   \n",
       "...                                                 ...   \n",
       "16234  Third constituency for French residents overseas   \n",
       "16250                                          Warangal   \n",
       "16264                                    Pierre Gamarra   \n",
       "16281                                  José Ramos-Horta   \n",
       "16293                                    Yngve Brilioth   \n",
       "\n",
       "                                              input_text  \\\n",
       "1515   Mizrahi music (Hebrew: מוזיקה מזרחית muzika mi...   \n",
       "1683   Frédéric Chopin's Fantaisie-Impromptu (Polish:...   \n",
       "1769   Stonewall County is a county located in the U....   \n",
       "1844   Hanoi (Vietnamese: Hà Nội ) is the capital and...   \n",
       "1986   Saint-Martin (French pronunciation: [sɛ̃ maʁtɛ...   \n",
       "...                                                  ...   \n",
       "16234  The third constituency for French residents ov...   \n",
       "16250  Warangal () is a city in the Indian state of T...   \n",
       "16264  Pierre Gamarra (French pronunciation: [pjɛʁ ga...   \n",
       "16281  José Manuel Ramos-Horta GCL GColIH (Portuguese...   \n",
       "16293  Yngve Torgny Brilioth (12 July 1891 – 27 April...   \n",
       "\n",
       "                                             target_text  \n",
       "1515   Mizrahi music (Hebrew: מוזיקה מזרחית) is a mus...  \n",
       "1683   Frédéric Chopin's Fantaisie-Impromptu in C♯ mi...  \n",
       "1769   Stonewall County is a county in the U.S. state...  \n",
       "1844   Hanoi (Vietnamese: Hà Nội) is the capital of V...  \n",
       "1986   Saint-Martin is a commune in the Gers departme...  \n",
       "...                                                  ...  \n",
       "16234  The third constituency for French residents ov...  \n",
       "16250  Warangal is a city in Telangana, India. It is ...  \n",
       "16264  Pierre Gamarra (Toulouse, July 10, 1919 – Arge...  \n",
       "16281  José Manuel Ramos-Horta GCL AC (Portuguese pro...  \n",
       "16293  Yngve Brilioth, born 12 July 1891 in Västra Ed...  \n",
       "\n",
       "[824 rows x 3 columns]"
      ]
     },
     "execution_count": 9,
     "metadata": {},
     "output_type": "execute_result"
    }
   ],
   "source": [
    "df[df.duplicated()]"
   ]
  },
  {
   "cell_type": "code",
   "execution_count": 10,
   "metadata": {},
   "outputs": [
    {
     "data": {
      "text/html": [
       "<div>\n",
       "<style scoped>\n",
       "    .dataframe tbody tr th:only-of-type {\n",
       "        vertical-align: middle;\n",
       "    }\n",
       "\n",
       "    .dataframe tbody tr th {\n",
       "        vertical-align: top;\n",
       "    }\n",
       "\n",
       "    .dataframe thead th {\n",
       "        text-align: right;\n",
       "    }\n",
       "</style>\n",
       "<table border=\"1\" class=\"dataframe\">\n",
       "  <thead>\n",
       "    <tr style=\"text-align: right;\">\n",
       "      <th></th>\n",
       "      <th>title</th>\n",
       "      <th>input_text</th>\n",
       "      <th>target_text</th>\n",
       "    </tr>\n",
       "  </thead>\n",
       "  <tbody>\n",
       "    <tr>\n",
       "      <th>3718</th>\n",
       "      <td>Warangal</td>\n",
       "      <td>Warangal () is a city in the Indian state of T...</td>\n",
       "      <td>Warangal is a city in Telangana, India. It is ...</td>\n",
       "    </tr>\n",
       "    <tr>\n",
       "      <th>16250</th>\n",
       "      <td>Warangal</td>\n",
       "      <td>Warangal () is a city in the Indian state of T...</td>\n",
       "      <td>Warangal is a city in Telangana, India. It is ...</td>\n",
       "    </tr>\n",
       "  </tbody>\n",
       "</table>\n",
       "</div>"
      ],
      "text/plain": [
       "          title                                         input_text  \\\n",
       "3718   Warangal  Warangal () is a city in the Indian state of T...   \n",
       "16250  Warangal  Warangal () is a city in the Indian state of T...   \n",
       "\n",
       "                                             target_text  \n",
       "3718   Warangal is a city in Telangana, India. It is ...  \n",
       "16250  Warangal is a city in Telangana, India. It is ...  "
      ]
     },
     "execution_count": 10,
     "metadata": {},
     "output_type": "execute_result"
    }
   ],
   "source": [
    "df[df[\"title\"] == \"Warangal\"]"
   ]
  },
  {
   "cell_type": "code",
   "execution_count": 11,
   "metadata": {},
   "outputs": [],
   "source": [
    "df.drop_duplicates(inplace=True)"
   ]
  },
  {
   "cell_type": "code",
   "execution_count": 12,
   "metadata": {},
   "outputs": [
    {
     "name": "stdout",
     "output_type": "stream",
     "text": [
      "<class 'pandas.core.frame.DataFrame'>\n",
      "Index: 15404 entries, 0 to 16294\n",
      "Data columns (total 3 columns):\n",
      " #   Column       Non-Null Count  Dtype \n",
      "---  ------       --------------  ----- \n",
      " 0   title        15404 non-null  object\n",
      " 1   input_text   15404 non-null  object\n",
      " 2   target_text  15404 non-null  object\n",
      "dtypes: object(3)\n",
      "memory usage: 481.4+ KB\n",
      "Null values:  0\n",
      "Duplicates:  0\n"
     ]
    }
   ],
   "source": [
    "df.info()\n",
    "print(\"Null values: \", df.isna().sum().sum())\n",
    "print(\"Duplicates: \", df.duplicated().sum())"
   ]
  },
  {
   "cell_type": "markdown",
   "metadata": {},
   "source": [
    "Replace consecutive newlines `\\n` with a single one."
   ]
  },
  {
   "cell_type": "code",
   "execution_count": 13,
   "metadata": {},
   "outputs": [
    {
     "name": "stdout",
     "output_type": "stream",
     "text": [
      "4176\n",
      "458\n"
     ]
    }
   ],
   "source": [
    "print(df[\"input_text\"].str.contains(r\"\\n{2,}\", regex=True).sum())\n",
    "print(df[\"target_text\"].str.contains(r\"\\n{2,}\", regex=True).sum())"
   ]
  },
  {
   "cell_type": "code",
   "execution_count": 14,
   "metadata": {},
   "outputs": [],
   "source": [
    "df[\"input_text\"] = df[\"input_text\"].str.replace(r\"\\n{2,}\", \"\\n\", regex=True)\n",
    "df[\"target_text\"] = df[\"target_text\"].str.replace(r\"\\n{2,}\", \"\\n\", regex=True)"
   ]
  },
  {
   "cell_type": "markdown",
   "metadata": {},
   "source": [
    "## Compression Ratio\n",
    "\n",
    "This is the ratio of the length of the simplified text and the standard English text.\n",
    "\n",
    "$$\n",
    "\\text{compression\\_ratio} = \\frac{\\text{Length of simplified text}}{\\text{Length of standard English text}}\n",
    "$$\n",
    "\n",
    "Larger compression ratio values mean larger summaries."
   ]
  },
  {
   "cell_type": "code",
   "execution_count": 15,
   "metadata": {},
   "outputs": [],
   "source": [
    "df[\"compression_ratio\"] = df[\"target_text\"].str.len() / df[\"input_text\"].str.len()"
   ]
  },
  {
   "cell_type": "code",
   "execution_count": 16,
   "metadata": {},
   "outputs": [
    {
     "data": {
      "text/plain": [
       "count    15404.000000\n",
       "mean         0.842184\n",
       "std          1.267120\n",
       "min          0.004037\n",
       "25%          0.294284\n",
       "50%          0.591273\n",
       "75%          0.985289\n",
       "max         67.228571\n",
       "Name: compression_ratio, dtype: float64"
      ]
     },
     "execution_count": 16,
     "metadata": {},
     "output_type": "execute_result"
    }
   ],
   "source": [
    "df[\"compression_ratio\"].describe()"
   ]
  },
  {
   "cell_type": "code",
   "execution_count": 17,
   "metadata": {},
   "outputs": [
    {
     "data": {
      "image/png": "[encoded data removed]",
      "text/plain": [
       "<Figure size 1200x500 with 1 Axes>"
      ]
     },
     "metadata": {},
     "output_type": "display_data"
    }
   ],
   "source": [
    "plt.figure(figsize=(12, 5))\n",
    "sns.histplot(df['compression_ratio'], bins=80, log=True)\n",
    "plt.xlabel('Compression Ratio')\n",
    "plt.ylabel('Frequency')\n",
    "plt.title('Distribution of Compression Ratios')\n",
    "plt.show()"
   ]
  },
  {
   "cell_type": "code",
   "execution_count": 18,
   "metadata": {},
   "outputs": [
    {
     "name": "stdout",
     "output_type": "stream",
     "text": [
      "title                                         List of cities in Panama\n",
      "input_text                         This is a list of cities in Panama.\n",
      "target_text          This is a list of cities in Panama.\\nAchutupo\\...\n",
      "compression_ratio                                            67.228571\n",
      "Name: 5773, dtype: object\n",
      "This is a list of cities in Panama.\n",
      "\n",
      "This is a list of cities in Panama.\n",
      "Achutupo\n",
      "Agua Buena\n",
      "Aguadulce, Coclé\n",
      "Ailigandí\n",
      "Alanje\n",
      "Alcalde Díaz\n",
      "Almirante, Bocas del Toro\n",
      "Alto de la Estancia\n",
      "Alto del Espino\n",
      "Ancón, Panama\n",
      "Antón\n",
      "Arraiján\n",
      "Aserrío de Gariché\n",
      "Atalaya, Veraguas\n",
      "Berbá\n",
      "Bisira\n",
      "Boca de Parita\n",
      "Bocas Town, Bocas del Toro\n",
      "Boquerón, Chiriquí\n",
      "Boquete, Chiriquí\n",
      "Bugaba\n",
      "Burica\n",
      "Bágala\n",
      "Caimitillo\n",
      "Calobre\n",
      "Calzada Larga\n",
      "Canoa\n",
      "Capellanía\n",
      "Capetí\n",
      "Capira\n",
      "Cartí Sugtupu\n",
      "Cativá\n",
      "Cañazas\n",
      "Celmira\n",
      "Cermeño\n",
      "Cerro Cama\n",
      "Cerro Punta, Chiriquí\n",
      "Chame\n",
      "Changuinola\n",
      "Chepo\n",
      "Chichica, Ngöbe-Buglé\n",
      "Chigoré\n",
      "Chiguirí Arriba\n",
      "Chilibre\n",
      "Chimán\n",
      "Chiriquí Grande\n",
      "Chitré, Herrera\n",
      "Churuquita Chiquita\n",
      "Churuquita Grande\n",
      "Cirilo Guainora, Embera (Darién)\n",
      "Coetupo\n",
      "Colón, Panama\n",
      "Coloncito\n",
      "Cristóbal, Colón\n",
      "David, Chiriquí\n",
      "Divalá\n",
      "Dolega, Chiriquí\n",
      "El Caño\n",
      "El Copé\n",
      "El Cortezo\n",
      "El Cristo\n",
      "El Espavé\n",
      "El Espino de Santa Rosa\n",
      "El Giral\n",
      "El Porvenir, Kuna Yala\n",
      "El Real de Santa María\n",
      "El Rincón\n",
      "El Roble\n",
      "El Silencio\n",
      "El Uvito\n",
      "El Valle de la Unión\n",
      "Entradero\n",
      "Escobal\n",
      "Finca Blanco\n",
      "Finca Cincuenta y Uno\n",
      "Finca Corredor\n",
      "Garachiné\n",
      "Gariché\n",
      "Guabito\n",
      "Gualaca\n",
      "Guararé\n",
      "Guarumal\n",
      "Horconcitos\n",
      "Icantí\n",
      "Ipetí\n",
      "Jaqué\n",
      "Kanir-Dup\n",
      "Kankintú\n",
      "Kusapin\n",
      "La Cabima\n",
      "La Chorrera, Panama\n",
      "La Espigadilla\n",
      "La Loma\n",
      "La Mata\n",
      "La Mitra\n",
      "La Palma, Darién\n",
      "La Raya de Santa María\n",
      "La Tiza\n",
      "Las Cumbres\n",
      "Las Guías Oriente\n",
      "Las Minas\n",
      "Las Tablas, Los Santos\n",
      "Llano Largo\n",
      "Llano Marín\n",
      "Llano de Piedra\n",
      "Los Algarrobos\n",
      "Los Anastacios\n",
      "Los Boquerones\n",
      "Los Lotes\n",
      "Los Pollos\n",
      "Los Pozos, Herrera\n",
      "Lídice\n",
      "Macaracas\n",
      "Mamitipo\n",
      "María Chiquita\n",
      "Mata del Nance\n",
      "Metetí\n",
      "Monte Lirio\n",
      "Mortí\n",
      "Mulatupo\n",
      "Nata, Coclé\n",
      "Nombre de Dios, Colón\n",
      "Nueva Gorgona\n",
      "Nuevo Arraiján\n",
      "Nuevo Emperador\n",
      "Nuevo Guararé\n",
      "Nuevo San Juan\n",
      "Nuevo Vigía\n",
      "Ocú\n",
      "Olá\n",
      "Pacora\n",
      "Pacola\n",
      "Palmas Bellas\n",
      "Panama City – capital\n",
      "Parita\n",
      "Paso Blanco\n",
      "Pedasí township, Los Santos\n",
      "Pedregal\n",
      "Penonomé, Coclé\n",
      "Pesé\n",
      "Plaza de Caisán\n",
      "Pocrí\n",
      "Pocrí, Los Santos\n",
      "Portobelo, Colón\n",
      "Potrerillos Abajo\n",
      "Potrerillos Arriba\n",
      "Potrero Grande\n",
      "Puerto Armuelles, Chiriquí\n",
      "Puerto Caimito\n",
      "Puerto Indio\n",
      "Puerto Pilón\n",
      "Punta Peña\n",
      "Quebrada Bonita Adentro\n",
      "Río Alejandro\n",
      "Río Duque\n",
      "Río Hato\n",
      "Río Rita\n",
      "Río Sereno\n",
      "Río de Jesús\n",
      "Sabanitas\n",
      "Sajalices\n",
      "San Miguelito\n",
      "San Vicente de Bique\n",
      "Santa Ana Arriba\n",
      "Santa Fé, Veraguas\n",
      "Santa Rita Arriba\n",
      "Santiago de Veraguas, Veraguas\n",
      "Sasardi\n",
      "Sioguí Abajo\n",
      "Sioguí Arriba\n",
      "Sortová\n",
      "Tocumen\n",
      "Tolé\n",
      "Tonosí\n",
      "Tubualá\n",
      "Unión Chocó\n",
      "Ustupo\n",
      "Vacamonte\n",
      "Valle del Risco\n",
      "Villa Carmen\n",
      "Villa Rosario\n",
      "Volcán\n",
      "Yaviza\n"
     ]
    }
   ],
   "source": [
    "largest = df.iloc[np.argmax(df[\"compression_ratio\"])]\n",
    "print(largest)\n",
    "print(largest[\"input_text\"])\n",
    "print()\n",
    "print(largest[\"target_text\"])"
   ]
  },
  {
   "cell_type": "code",
   "execution_count": 19,
   "metadata": {},
   "outputs": [],
   "source": [
    "df.drop(index=np.argmax(df[\"compression_ratio\"]), inplace=True)"
   ]
  },
  {
   "cell_type": "code",
   "execution_count": 20,
   "metadata": {},
   "outputs": [
    {
     "data": {
      "text/html": [
       "<div>\n",
       "<style scoped>\n",
       "    .dataframe tbody tr th:only-of-type {\n",
       "        vertical-align: middle;\n",
       "    }\n",
       "\n",
       "    .dataframe tbody tr th {\n",
       "        vertical-align: top;\n",
       "    }\n",
       "\n",
       "    .dataframe thead th {\n",
       "        text-align: right;\n",
       "    }\n",
       "</style>\n",
       "<table border=\"1\" class=\"dataframe\">\n",
       "  <thead>\n",
       "    <tr style=\"text-align: right;\">\n",
       "      <th></th>\n",
       "      <th>title</th>\n",
       "      <th>input_text</th>\n",
       "      <th>target_text</th>\n",
       "      <th>compression_ratio</th>\n",
       "    </tr>\n",
       "  </thead>\n",
       "  <tbody>\n",
       "    <tr>\n",
       "      <th>0</th>\n",
       "      <td>Johan August Arfwedson</td>\n",
       "      <td>Johan August Arfwedson (12 January 1792 – 28 O...</td>\n",
       "      <td>Johan August Arfwedson (12 January 1792 – 28 O...</td>\n",
       "      <td>0.862500</td>\n",
       "    </tr>\n",
       "    <tr>\n",
       "      <th>1</th>\n",
       "      <td>Kokarit frog</td>\n",
       "      <td>Humerana lateralis is a species of frog in the...</td>\n",
       "      <td>The Kokarit frog, meng-yang frog, yellow frog,...</td>\n",
       "      <td>0.241987</td>\n",
       "    </tr>\n",
       "    <tr>\n",
       "      <th>2</th>\n",
       "      <td>Moundou</td>\n",
       "      <td>Moundou (Arabic: موندو) is the second-largest ...</td>\n",
       "      <td>Moundou is the capital of the Logone Occidenta...</td>\n",
       "      <td>0.617577</td>\n",
       "    </tr>\n",
       "    <tr>\n",
       "      <th>3</th>\n",
       "      <td>Kamrieng District</td>\n",
       "      <td>Kamrieng (Khmer: កំរៀង) is a district (srok) o...</td>\n",
       "      <td>Kamrieng District (Khmer: កំរៀង) is a district...</td>\n",
       "      <td>1.094737</td>\n",
       "    </tr>\n",
       "    <tr>\n",
       "      <th>4</th>\n",
       "      <td>Mother 1 + 2</td>\n",
       "      <td>Mother (known as EarthBound outside Japan) is ...</td>\n",
       "      <td>Mother 1 + 2 is a video game for the Game Boy ...</td>\n",
       "      <td>0.100660</td>\n",
       "    </tr>\n",
       "  </tbody>\n",
       "</table>\n",
       "</div>"
      ],
      "text/plain": [
       "                    title                                         input_text  \\\n",
       "0  Johan August Arfwedson  Johan August Arfwedson (12 January 1792 – 28 O...   \n",
       "1            Kokarit frog  Humerana lateralis is a species of frog in the...   \n",
       "2                 Moundou  Moundou (Arabic: موندو) is the second-largest ...   \n",
       "3       Kamrieng District  Kamrieng (Khmer: កំរៀង) is a district (srok) o...   \n",
       "4            Mother 1 + 2  Mother (known as EarthBound outside Japan) is ...   \n",
       "\n",
       "                                         target_text  compression_ratio  \n",
       "0  Johan August Arfwedson (12 January 1792 – 28 O...           0.862500  \n",
       "1  The Kokarit frog, meng-yang frog, yellow frog,...           0.241987  \n",
       "2  Moundou is the capital of the Logone Occidenta...           0.617577  \n",
       "3  Kamrieng District (Khmer: កំរៀង) is a district...           1.094737  \n",
       "4  Mother 1 + 2 is a video game for the Game Boy ...           0.100660  "
      ]
     },
     "execution_count": 20,
     "metadata": {},
     "output_type": "execute_result"
    }
   ],
   "source": [
    "df.head()"
   ]
  },
  {
   "cell_type": "code",
   "execution_count": 21,
   "metadata": {},
   "outputs": [],
   "source": [
    "df.drop(index=df[df[\"compression_ratio\"] > 20].index, inplace=True)\n",
    "df.reset_index(drop=True, inplace=True)"
   ]
  },
  {
   "cell_type": "markdown",
   "metadata": {},
   "source": [
    "Articles titled \"List of x things\" on Wikipedia are not considered proper summarizations because they typically consist of enumerations rather than narrative content. These lists do not provide much context or detailed information to summarize."
   ]
  },
  {
   "cell_type": "code",
   "execution_count": 22,
   "metadata": {},
   "outputs": [],
   "source": [
    "df.drop(df[df[\"title\"].str.contains(\"^List of\", regex=True)].index, inplace=True)"
   ]
  },
  {
   "cell_type": "code",
   "execution_count": 23,
   "metadata": {},
   "outputs": [],
   "source": [
    "large_summaries = df[df[\"compression_ratio\"] > 1.5]"
   ]
  },
  {
   "cell_type": "code",
   "execution_count": 24,
   "metadata": {},
   "outputs": [
    {
     "data": {
      "text/html": [
       "<div>\n",
       "<style scoped>\n",
       "    .dataframe tbody tr th:only-of-type {\n",
       "        vertical-align: middle;\n",
       "    }\n",
       "\n",
       "    .dataframe tbody tr th {\n",
       "        vertical-align: top;\n",
       "    }\n",
       "\n",
       "    .dataframe thead th {\n",
       "        text-align: right;\n",
       "    }\n",
       "</style>\n",
       "<table border=\"1\" class=\"dataframe\">\n",
       "  <thead>\n",
       "    <tr style=\"text-align: right;\">\n",
       "      <th></th>\n",
       "      <th>title</th>\n",
       "      <th>input_text</th>\n",
       "      <th>target_text</th>\n",
       "      <th>compression_ratio</th>\n",
       "    </tr>\n",
       "  </thead>\n",
       "  <tbody>\n",
       "    <tr>\n",
       "      <th>8411</th>\n",
       "      <td>Moira Yip</td>\n",
       "      <td>Moira Yip (b. 1949) is a British-American ling...</td>\n",
       "      <td>Moira Yip is a British linguist. She earned he...</td>\n",
       "      <td>18.039216</td>\n",
       "    </tr>\n",
       "    <tr>\n",
       "      <th>1069</th>\n",
       "      <td>John Rodriguez</td>\n",
       "      <td>John Rodríguez  may refer to:</td>\n",
       "      <td>John R. Rodriguez (February 12, 1937 – July 5,...</td>\n",
       "      <td>16.275862</td>\n",
       "    </tr>\n",
       "    <tr>\n",
       "      <th>10033</th>\n",
       "      <td>Christoph Probst</td>\n",
       "      <td>Christoph Ananda Probst (6 November 1919 – 22 ...</td>\n",
       "      <td>Christoph Probst (November 6, 1919-February 22...</td>\n",
       "      <td>15.130719</td>\n",
       "    </tr>\n",
       "    <tr>\n",
       "      <th>6117</th>\n",
       "      <td>Ramón Martínez</td>\n",
       "      <td>Ramon Martinez may refer to:</td>\n",
       "      <td>Ramón Martínez (31 August 1948 – 25 January 20...</td>\n",
       "      <td>14.857143</td>\n",
       "    </tr>\n",
       "    <tr>\n",
       "      <th>5276</th>\n",
       "      <td>Clarity (song)</td>\n",
       "      <td>Clarity may refer to:</td>\n",
       "      <td>Clarity is a progressive house/electronic hous...</td>\n",
       "      <td>14.476190</td>\n",
       "    </tr>\n",
       "  </tbody>\n",
       "</table>\n",
       "</div>"
      ],
      "text/plain": [
       "                  title                                         input_text  \\\n",
       "8411          Moira Yip  Moira Yip (b. 1949) is a British-American ling...   \n",
       "1069     John Rodriguez                      John Rodríguez  may refer to:   \n",
       "10033  Christoph Probst  Christoph Ananda Probst (6 November 1919 – 22 ...   \n",
       "6117     Ramón Martínez                       Ramon Martinez may refer to:   \n",
       "5276     Clarity (song)                              Clarity may refer to:   \n",
       "\n",
       "                                             target_text  compression_ratio  \n",
       "8411   Moira Yip is a British linguist. She earned he...          18.039216  \n",
       "1069   John R. Rodriguez (February 12, 1937 – July 5,...          16.275862  \n",
       "10033  Christoph Probst (November 6, 1919-February 22...          15.130719  \n",
       "6117   Ramón Martínez (31 August 1948 – 25 January 20...          14.857143  \n",
       "5276   Clarity is a progressive house/electronic hous...          14.476190  "
      ]
     },
     "execution_count": 24,
     "metadata": {},
     "output_type": "execute_result"
    }
   ],
   "source": [
    "large_summaries.sort_values(\"compression_ratio\", ascending=False).head()"
   ]
  },
  {
   "cell_type": "code",
   "execution_count": 25,
   "metadata": {},
   "outputs": [
    {
     "data": {
      "text/plain": [
       "1594"
      ]
     },
     "execution_count": 25,
     "metadata": {},
     "output_type": "execute_result"
    }
   ],
   "source": [
    "len(large_summaries)"
   ]
  },
  {
   "cell_type": "code",
   "execution_count": 26,
   "metadata": {},
   "outputs": [
    {
     "data": {
      "image/png": "[encoded data removed]",
      "text/plain": [
       "<Figure size 1200x500 with 1 Axes>"
      ]
     },
     "metadata": {},
     "output_type": "display_data"
    }
   ],
   "source": [
    "plt.figure(figsize=(12, 5))\n",
    "sns.histplot(large_summaries['compression_ratio'], bins=80, log=True)\n",
    "plt.xlabel('Compression Ratio')\n",
    "plt.ylabel('Frequency')\n",
    "plt.title('Distribution of Compression Ratios')\n",
    "plt.show()"
   ]
  },
  {
   "cell_type": "code",
   "execution_count": 27,
   "metadata": {},
   "outputs": [
    {
     "name": "stdout",
     "output_type": "stream",
     "text": [
      "Index([11179], dtype='int64')\n",
      "Rapetosaurus ( rə-PAY-too-SOR-əs) is a genus of titanosaurian sauropod dinosaur that lived in Madagascar from 70 to 66 million years ago, at the end of the Cretaceous Period. Only one species, Rapetosaurus krausei, has been identified.\n",
      "Like other sauropods, Rapetosaurus was a quadrupedal herbivore; it is calculated to have reached lengths of 15 metres (49 ft).\n",
      "----------------------------------------Target Text----------------------------------------\n",
      "Rapetosaurus is a genus of sauropod dinosaur. It lived in what is now Madagascar from 70 to 66 million years ago, at the end of the Cretaceous period. Only one species, Rapetosaurus krausei, has been found. Like other sauropods, Rapetosaurus was a quadrupedal herbivore.\n",
      "The discovery of Rapetosaurus was the first time a titanosaur had been recovered with an almost perfectly intact skeleton, complete with skull. It has helped to clarify some difficult issues in this large group of sauropod dinosaurs. It provides a baseline for the reconstruction of other titanosaurs that are known only from partial remains.\n",
      "By the early part of the Upper Cretaceous all sauropods, except the titanosaurs, were extinct. The titanosaurs were the dominant herbivores of the Upper Cretaceous on the southern continents which made up Gondwana. Their reign was cut short by the Cretaceous–Paleogene extinction event.\n"
     ]
    }
   ],
   "source": [
    "sample = large_summaries.sample(1)\n",
    "print(sample.index)\n",
    "print(sample[\"input_text\"].values[0])\n",
    "print(\"-\" * 40 + \"Target Text\" + \"-\" * 40)\n",
    "print(sample[\"target_text\"].values[0])"
   ]
  },
  {
   "cell_type": "code",
   "execution_count": 29,
   "metadata": {},
   "outputs": [
    {
     "data": {
      "text/html": [
       "<div>\n",
       "<style scoped>\n",
       "    .dataframe tbody tr th:only-of-type {\n",
       "        vertical-align: middle;\n",
       "    }\n",
       "\n",
       "    .dataframe tbody tr th {\n",
       "        vertical-align: top;\n",
       "    }\n",
       "\n",
       "    .dataframe thead th {\n",
       "        text-align: right;\n",
       "    }\n",
       "</style>\n",
       "<table border=\"1\" class=\"dataframe\">\n",
       "  <thead>\n",
       "    <tr style=\"text-align: right;\">\n",
       "      <th></th>\n",
       "      <th>title</th>\n",
       "      <th>input_text</th>\n",
       "      <th>target_text</th>\n",
       "      <th>compression_ratio</th>\n",
       "    </tr>\n",
       "  </thead>\n",
       "  <tbody>\n",
       "    <tr>\n",
       "      <th>509</th>\n",
       "      <td>Minnie Pearl</td>\n",
       "      <td>Sarah Ophelia Colley Cannon (October 25, 1912 ...</td>\n",
       "      <td>Sarah Ophelia Colley Cannon (October 25, 1912 ...</td>\n",
       "      <td>1.0</td>\n",
       "    </tr>\n",
       "    <tr>\n",
       "      <th>3743</th>\n",
       "      <td>Remetschwil</td>\n",
       "      <td>Remetschwil is a municipality in the district ...</td>\n",
       "      <td>Remetschwil is a municipality of the district ...</td>\n",
       "      <td>1.0</td>\n",
       "    </tr>\n",
       "    <tr>\n",
       "      <th>1569</th>\n",
       "      <td>Veena Sood</td>\n",
       "      <td>Veena Sood (born 21 November) is a Canadian ac...</td>\n",
       "      <td>Veena Sood (born 21 November), is a Canadian a...</td>\n",
       "      <td>1.0</td>\n",
       "    </tr>\n",
       "    <tr>\n",
       "      <th>8233</th>\n",
       "      <td>Harpsichord</td>\n",
       "      <td>A harpsichord is a musical instrument played b...</td>\n",
       "      <td>Harpsichords are keyboard instruments that mak...</td>\n",
       "      <td>1.0</td>\n",
       "    </tr>\n",
       "    <tr>\n",
       "      <th>12954</th>\n",
       "      <td>Les Cassés</td>\n",
       "      <td>Les Cassés (French pronunciation: [le kase] ; ...</td>\n",
       "      <td>Les Cassés is a commune of 295 people (2017). ...</td>\n",
       "      <td>1.0</td>\n",
       "    </tr>\n",
       "  </tbody>\n",
       "</table>\n",
       "</div>"
      ],
      "text/plain": [
       "              title                                         input_text  \\\n",
       "509    Minnie Pearl  Sarah Ophelia Colley Cannon (October 25, 1912 ...   \n",
       "3743    Remetschwil  Remetschwil is a municipality in the district ...   \n",
       "1569     Veena Sood  Veena Sood (born 21 November) is a Canadian ac...   \n",
       "8233    Harpsichord  A harpsichord is a musical instrument played b...   \n",
       "12954    Les Cassés  Les Cassés (French pronunciation: [le kase] ; ...   \n",
       "\n",
       "                                             target_text  compression_ratio  \n",
       "509    Sarah Ophelia Colley Cannon (October 25, 1912 ...                1.0  \n",
       "3743   Remetschwil is a municipality of the district ...                1.0  \n",
       "1569   Veena Sood (born 21 November), is a Canadian a...                1.0  \n",
       "8233   Harpsichords are keyboard instruments that mak...                1.0  \n",
       "12954  Les Cassés is a commune of 295 people (2017). ...                1.0  "
      ]
     },
     "execution_count": 29,
     "metadata": {},
     "output_type": "execute_result"
    }
   ],
   "source": [
    "# minimum length thresholds\n",
    "min_input_length = 50\n",
    "min_target_length = 20\n",
    "\n",
    "min_compression_ratio = 0.2\n",
    "max_compression_ratio = 1.\n",
    "\n",
    "\n",
    "filtered_df = df[\n",
    "    (df['input_text'].str.len() >= min_input_length) &\n",
    "    (df['target_text'].str.len() >= min_target_length) &\n",
    "    (df['compression_ratio'] >= min_compression_ratio) &\n",
    "    (df['compression_ratio'] <= max_compression_ratio)\n",
    "]\n",
    "\n",
    "filtered_df.sort_values(\"compression_ratio\", ascending=False).head()"
   ]
  },
  {
   "cell_type": "code",
   "execution_count": 38,
   "metadata": {},
   "outputs": [
    {
     "name": "stdout",
     "output_type": "stream",
     "text": [
      "<class 'pandas.core.frame.DataFrame'>\n",
      "Index: 9571 entries, 0 to 15395\n",
      "Data columns (total 4 columns):\n",
      " #   Column             Non-Null Count  Dtype  \n",
      "---  ------             --------------  -----  \n",
      " 0   title              9571 non-null   object \n",
      " 1   input_text         9571 non-null   object \n",
      " 2   target_text        9571 non-null   object \n",
      " 3   compression_ratio  9571 non-null   float64\n",
      "dtypes: float64(1), object(3)\n",
      "memory usage: 373.9+ KB\n",
      "\n"
     ]
    },
    {
     "data": {
      "text/html": [
       "<div>\n",
       "<style scoped>\n",
       "    .dataframe tbody tr th:only-of-type {\n",
       "        vertical-align: middle;\n",
       "    }\n",
       "\n",
       "    .dataframe tbody tr th {\n",
       "        vertical-align: top;\n",
       "    }\n",
       "\n",
       "    .dataframe thead th {\n",
       "        text-align: right;\n",
       "    }\n",
       "</style>\n",
       "<table border=\"1\" class=\"dataframe\">\n",
       "  <thead>\n",
       "    <tr style=\"text-align: right;\">\n",
       "      <th></th>\n",
       "      <th>compression_ratio</th>\n",
       "    </tr>\n",
       "  </thead>\n",
       "  <tbody>\n",
       "    <tr>\n",
       "      <th>count</th>\n",
       "      <td>9571.000000</td>\n",
       "    </tr>\n",
       "    <tr>\n",
       "      <th>mean</th>\n",
       "      <td>0.558549</td>\n",
       "    </tr>\n",
       "    <tr>\n",
       "      <th>std</th>\n",
       "      <td>0.239236</td>\n",
       "    </tr>\n",
       "    <tr>\n",
       "      <th>min</th>\n",
       "      <td>0.200000</td>\n",
       "    </tr>\n",
       "    <tr>\n",
       "      <th>25%</th>\n",
       "      <td>0.346510</td>\n",
       "    </tr>\n",
       "    <tr>\n",
       "      <th>50%</th>\n",
       "      <td>0.529262</td>\n",
       "    </tr>\n",
       "    <tr>\n",
       "      <th>75%</th>\n",
       "      <td>0.757563</td>\n",
       "    </tr>\n",
       "    <tr>\n",
       "      <th>max</th>\n",
       "      <td>1.000000</td>\n",
       "    </tr>\n",
       "  </tbody>\n",
       "</table>\n",
       "</div>"
      ],
      "text/plain": [
       "       compression_ratio\n",
       "count        9571.000000\n",
       "mean            0.558549\n",
       "std             0.239236\n",
       "min             0.200000\n",
       "25%             0.346510\n",
       "50%             0.529262\n",
       "75%             0.757563\n",
       "max             1.000000"
      ]
     },
     "execution_count": 38,
     "metadata": {},
     "output_type": "execute_result"
    }
   ],
   "source": [
    "filtered_df.info()\n",
    "print()\n",
    "filtered_df.describe()"
   ]
  },
  {
   "cell_type": "code",
   "execution_count": 45,
   "metadata": {},
   "outputs": [
    {
     "name": "stdout",
     "output_type": "stream",
     "text": [
      "Index([92], dtype='int64')\n",
      "Marcel Sabitzer (born 17 March 1994) is an Austrian professional footballer who plays as a midfielder for Bundesliga club Borussia Dortmund and captains the Austria national team. Predominantly a central midfielder, Sabitzer can play in a multitude of roles, including attacking midfielder, defensive midfielder, winger and second striker.\n",
      "Sabitzer began his professional career in Austria with Admira Wacker and Rapid Wien. He joined German club RB Leipzig in 2014 and was immediately loaned to Red Bull Salzburg for a season. Sabitzer made more than 200 appearances for RB Leipzig, before Bayern Munich signed him in August 2021 for a reported transfer fee of €16 million.\n",
      "Sabitzer represented Austria at multiple youth international levels and made his senior international debut at the age of 18 in June 2012. He has earned over 80 caps for Austria and played at the UEFA European Championship in 2016, 2020 and 2024.\n",
      "----------------------------------------Target Text----------------------------------------\n",
      "Marcel Sabitzer (born 17 March 1994) is an Austrian professional footballer who plays as a midfielder for Bundesliga club Borussia Dortmund and the Austria national team. Mainly he plays as central midfielder, but he also plays as  attacking midfielder, second striker, winger and defensive midfielder.\n"
     ]
    }
   ],
   "source": [
    "sample = filtered_df.sample(1)\n",
    "print(sample.index)\n",
    "print(sample[\"input_text\"].values[0])\n",
    "print(\"-\" * 40 + \"Target Text\" + \"-\" * 40)\n",
    "print(sample[\"target_text\"].values[0])"
   ]
  },
  {
   "cell_type": "code",
   "execution_count": null,
   "metadata": {},
   "outputs": [
    {
     "name": "stderr",
     "output_type": "stream",
     "text": [
      "/tmp/ipykernel_21193/2186245230.py:5: SettingWithCopyWarning: \n",
      "A value is trying to be set on a copy of a slice from a DataFrame.\n",
      "Try using .loc[row_indexer,col_indexer] = value instead\n",
      "\n",
      "See the caveats in the documentation: https://pandas.pydata.org/pandas-docs/stable/user_guide/indexing.html#returning-a-view-versus-a-copy\n",
      "  filtered_df['readability_score'] = filtered_df['input_text'].apply(textstat.flesch_reading_ease)\n"
     ]
    }
   ],
   "source": [
    "from textstat import textstat\n",
    "from rouge import Rouge\n",
    "\n",
    "# calculate readability score\n",
    "filtered_df['readability_score'] = filtered_df['input_text'].apply(textstat.flesch_reading_ease)\n",
    "\n",
    "# calculating ROUGE scores\n",
    "rouge = Rouge()\n",
    "\n",
    "def calculate_rouge(row):\n",
    "    scores = rouge.get_scores(row['target_text'], row['input_text'])[0]\n",
    "    return scores['rouge-1']['f'], scores['rouge-2']['f'], scores['rouge-l']['f']\n",
    "\n",
    "filtered_df[['rouge-1', 'rouge-2', 'rouge-l']] = filtered_df.apply(calculate_rouge, axis=1, result_type='expand')\n",
    "\n",
    "filtered_df.head()"
   ]
  },
  {
   "cell_type": "code",
   "execution_count": null,
   "metadata": {},
   "outputs": [],
   "source": []
  }
 ],
 "metadata": {
  "kernelspec": {
   "display_name": "base",
   "language": "python",
   "name": "python3"
  },
  "language_info": {
   "codemirror_mode": {
    "name": "ipython",
    "version": 3
   },
   "file_extension": ".py",
   "mimetype": "text/x-python",
   "name": "python",
   "nbconvert_exporter": "python",
   "pygments_lexer": "ipython3",
   "version": "3.11.11"
  }
 },
 "nbformat": 4,
 "nbformat_minor": 2
}
