{
 "cells": [
  {
   "cell_type": "code",
   "execution_count": 1,
   "metadata": {},
   "outputs": [],
   "source": [
    "import sqlite3\n",
    "import pandas as pd"
   ]
  },
  {
   "cell_type": "code",
   "execution_count": 2,
   "metadata": {},
   "outputs": [
    {
     "data": {
      "text/html": [
       "<div>\n",
       "<style scoped>\n",
       "    .dataframe tbody tr th:only-of-type {\n",
       "        vertical-align: middle;\n",
       "    }\n",
       "\n",
       "    .dataframe tbody tr th {\n",
       "        vertical-align: top;\n",
       "    }\n",
       "\n",
       "    .dataframe thead th {\n",
       "        text-align: right;\n",
       "    }\n",
       "</style>\n",
       "<table border=\"1\" class=\"dataframe\">\n",
       "  <thead>\n",
       "    <tr style=\"text-align: right;\">\n",
       "      <th></th>\n",
       "      <th>id</th>\n",
       "      <th>title</th>\n",
       "      <th>input_text</th>\n",
       "      <th>target_text</th>\n",
       "    </tr>\n",
       "  </thead>\n",
       "  <tbody>\n",
       "    <tr>\n",
       "      <th>0</th>\n",
       "      <td>1</td>\n",
       "      <td>Guachochi</td>\n",
       "      <td>Guachochi is a city in the south-western porti...</td>\n",
       "      <td>Guachochi is a city in the south-western  Chih...</td>\n",
       "    </tr>\n",
       "    <tr>\n",
       "      <th>1</th>\n",
       "      <td>2</td>\n",
       "      <td>Around the Fur</td>\n",
       "      <td>Around the Fur is the second studio album by t...</td>\n",
       "      <td>Around the Fur is the second Studio Album by A...</td>\n",
       "    </tr>\n",
       "    <tr>\n",
       "      <th>2</th>\n",
       "      <td>3</td>\n",
       "      <td>Thunbergia</td>\n",
       "      <td>Thunbergia is a genus of flowering plants in t...</td>\n",
       "      <td>Thunbergia Retz. is a genus of flowering plant...</td>\n",
       "    </tr>\n",
       "    <tr>\n",
       "      <th>3</th>\n",
       "      <td>4</td>\n",
       "      <td>Whaler</td>\n",
       "      <td>A whaler or whaling ship is a specialized vess...</td>\n",
       "      <td>A whaler is a person who hunts whales, or the ...</td>\n",
       "    </tr>\n",
       "    <tr>\n",
       "      <th>4</th>\n",
       "      <td>5</td>\n",
       "      <td>On the Beach (Chris Rea album)</td>\n",
       "      <td>On the Beach is the eighth studio album by Bri...</td>\n",
       "      <td>On the Beach is the eighth studio album by Eng...</td>\n",
       "    </tr>\n",
       "  </tbody>\n",
       "</table>\n",
       "</div>"
      ],
      "text/plain": [
       "   id                           title  \\\n",
       "0   1                       Guachochi   \n",
       "1   2                  Around the Fur   \n",
       "2   3                      Thunbergia   \n",
       "3   4                          Whaler   \n",
       "4   5  On the Beach (Chris Rea album)   \n",
       "\n",
       "                                          input_text  \\\n",
       "0  Guachochi is a city in the south-western porti...   \n",
       "1  Around the Fur is the second studio album by t...   \n",
       "2  Thunbergia is a genus of flowering plants in t...   \n",
       "3  A whaler or whaling ship is a specialized vess...   \n",
       "4  On the Beach is the eighth studio album by Bri...   \n",
       "\n",
       "                                         target_text  \n",
       "0  Guachochi is a city in the south-western  Chih...  \n",
       "1  Around the Fur is the second Studio Album by A...  \n",
       "2  Thunbergia Retz. is a genus of flowering plant...  \n",
       "3  A whaler is a person who hunts whales, or the ...  \n",
       "4  On the Beach is the eighth studio album by Eng...  "
      ]
     },
     "execution_count": 2,
     "metadata": {},
     "output_type": "execute_result"
    }
   ],
   "source": [
    "conn = sqlite3.connect('../raw_data/simple_en_wiki.db')\n",
    "cursor = conn.cursor()\n",
    "\n",
    "df = pd.read_sql_query(\"SELECT * FROM articles\", conn)\n",
    "df.head()"
   ]
  },
  {
   "cell_type": "code",
   "execution_count": 3,
   "metadata": {},
   "outputs": [
    {
     "name": "stdout",
     "output_type": "stream",
     "text": [
      "<class 'pandas.core.frame.DataFrame'>\n",
      "RangeIndex: 460 entries, 0 to 459\n",
      "Data columns (total 4 columns):\n",
      " #   Column       Non-Null Count  Dtype \n",
      "---  ------       --------------  ----- \n",
      " 0   id           460 non-null    int64 \n",
      " 1   title        460 non-null    object\n",
      " 2   input_text   460 non-null    object\n",
      " 3   target_text  457 non-null    object\n",
      "dtypes: int64(1), object(3)\n",
      "memory usage: 14.5+ KB\n"
     ]
    }
   ],
   "source": [
    "df.info()"
   ]
  },
  {
   "cell_type": "code",
   "execution_count": 5,
   "metadata": {},
   "outputs": [],
   "source": [
    "df[\"compression_ratio\"] = df[\"input_text\"].str.len() / df[\"target_text\"].str.len()"
   ]
  },
  {
   "cell_type": "code",
   "execution_count": 6,
   "metadata": {},
   "outputs": [
    {
     "data": {
      "text/plain": [
       "count    457.000000\n",
       "mean       2.932721\n",
       "std        4.120004\n",
       "min        0.086483\n",
       "25%        1.000000\n",
       "50%        1.561404\n",
       "75%        3.332722\n",
       "max       45.765625\n",
       "Name: compression_ratio, dtype: float64"
      ]
     },
     "execution_count": 6,
     "metadata": {},
     "output_type": "execute_result"
    }
   ],
   "source": [
    "df[\"compression_ratio\"].describe()"
   ]
  },
  {
   "cell_type": "code",
   "execution_count": 7,
   "metadata": {},
   "outputs": [
    {
     "data": {
      "text/plain": [
       "id                                                                  69\n",
       "title                            List of songs recorded by Demi Lovato\n",
       "input_text           American singer Demi Lovato has recorded mater...\n",
       "target_text          This is a list of songs recorded by American s...\n",
       "compression_ratio                                            45.765625\n",
       "Name: 68, dtype: object"
      ]
     },
     "execution_count": 7,
     "metadata": {},
     "output_type": "execute_result"
    }
   ],
   "source": [
    "import numpy as np\n",
    "\n",
    "df.loc[np.argmax(df[\"compression_ratio\"])]"
   ]
  },
  {
   "cell_type": "code",
   "execution_count": 8,
   "metadata": {},
   "outputs": [],
   "source": [
    "df.drop(np.argmax(df[\"compression_ratio\"]), inplace=True)"
   ]
  },
  {
   "cell_type": "code",
   "execution_count": 10,
   "metadata": {},
   "outputs": [],
   "source": [
    "large_summaries = df[df[\"compression_ratio\"] > 1.3]"
   ]
  },
  {
   "cell_type": "code",
   "execution_count": 11,
   "metadata": {},
   "outputs": [
    {
     "data": {
      "text/html": [
       "<div>\n",
       "<style scoped>\n",
       "    .dataframe tbody tr th:only-of-type {\n",
       "        vertical-align: middle;\n",
       "    }\n",
       "\n",
       "    .dataframe tbody tr th {\n",
       "        vertical-align: top;\n",
       "    }\n",
       "\n",
       "    .dataframe thead th {\n",
       "        text-align: right;\n",
       "    }\n",
       "</style>\n",
       "<table border=\"1\" class=\"dataframe\">\n",
       "  <thead>\n",
       "    <tr style=\"text-align: right;\">\n",
       "      <th></th>\n",
       "      <th>id</th>\n",
       "      <th>title</th>\n",
       "      <th>input_text</th>\n",
       "      <th>target_text</th>\n",
       "      <th>compression_ratio</th>\n",
       "    </tr>\n",
       "  </thead>\n",
       "  <tbody>\n",
       "    <tr>\n",
       "      <th>0</th>\n",
       "      <td>1</td>\n",
       "      <td>Guachochi</td>\n",
       "      <td>Guachochi is a city in the south-western porti...</td>\n",
       "      <td>Guachochi is a city in the south-western  Chih...</td>\n",
       "      <td>1.404145</td>\n",
       "    </tr>\n",
       "    <tr>\n",
       "      <th>1</th>\n",
       "      <td>2</td>\n",
       "      <td>Around the Fur</td>\n",
       "      <td>Around the Fur is the second studio album by t...</td>\n",
       "      <td>Around the Fur is the second Studio Album by A...</td>\n",
       "      <td>4.220930</td>\n",
       "    </tr>\n",
       "    <tr>\n",
       "      <th>2</th>\n",
       "      <td>3</td>\n",
       "      <td>Thunbergia</td>\n",
       "      <td>Thunbergia is a genus of flowering plants in t...</td>\n",
       "      <td>Thunbergia Retz. is a genus of flowering plant...</td>\n",
       "      <td>1.696154</td>\n",
       "    </tr>\n",
       "    <tr>\n",
       "      <th>4</th>\n",
       "      <td>5</td>\n",
       "      <td>On the Beach (Chris Rea album)</td>\n",
       "      <td>On the Beach is the eighth studio album by Bri...</td>\n",
       "      <td>On the Beach is the eighth studio album by Eng...</td>\n",
       "      <td>1.320413</td>\n",
       "    </tr>\n",
       "    <tr>\n",
       "      <th>6</th>\n",
       "      <td>7</td>\n",
       "      <td>Carl Adolph Agardh</td>\n",
       "      <td>Carl Adolph Agardh (23 January 1785 in Båstad,...</td>\n",
       "      <td>Carl Adolph Agardh was a Swedish botanist and ...</td>\n",
       "      <td>1.612613</td>\n",
       "    </tr>\n",
       "  </tbody>\n",
       "</table>\n",
       "</div>"
      ],
      "text/plain": [
       "   id                           title  \\\n",
       "0   1                       Guachochi   \n",
       "1   2                  Around the Fur   \n",
       "2   3                      Thunbergia   \n",
       "4   5  On the Beach (Chris Rea album)   \n",
       "6   7              Carl Adolph Agardh   \n",
       "\n",
       "                                          input_text  \\\n",
       "0  Guachochi is a city in the south-western porti...   \n",
       "1  Around the Fur is the second studio album by t...   \n",
       "2  Thunbergia is a genus of flowering plants in t...   \n",
       "4  On the Beach is the eighth studio album by Bri...   \n",
       "6  Carl Adolph Agardh (23 January 1785 in Båstad,...   \n",
       "\n",
       "                                         target_text  compression_ratio  \n",
       "0  Guachochi is a city in the south-western  Chih...           1.404145  \n",
       "1  Around the Fur is the second Studio Album by A...           4.220930  \n",
       "2  Thunbergia Retz. is a genus of flowering plant...           1.696154  \n",
       "4  On the Beach is the eighth studio album by Eng...           1.320413  \n",
       "6  Carl Adolph Agardh was a Swedish botanist and ...           1.612613  "
      ]
     },
     "execution_count": 11,
     "metadata": {},
     "output_type": "execute_result"
    }
   ],
   "source": [
    "large_summaries.head()"
   ]
  },
  {
   "cell_type": "code",
   "execution_count": 12,
   "metadata": {},
   "outputs": [
    {
     "name": "stdout",
     "output_type": "stream",
     "text": [
      "<class 'pandas.core.frame.DataFrame'>\n",
      "Index: 270 entries, 0 to 459\n",
      "Data columns (total 5 columns):\n",
      " #   Column             Non-Null Count  Dtype  \n",
      "---  ------             --------------  -----  \n",
      " 0   id                 270 non-null    int64  \n",
      " 1   title              270 non-null    object \n",
      " 2   input_text         270 non-null    object \n",
      " 3   target_text        270 non-null    object \n",
      " 4   compression_ratio  270 non-null    float64\n",
      "dtypes: float64(1), int64(1), object(3)\n",
      "memory usage: 12.7+ KB\n"
     ]
    }
   ],
   "source": [
    "large_summaries.info()"
   ]
  },
  {
   "cell_type": "code",
   "execution_count": null,
   "metadata": {},
   "outputs": [],
   "source": []
  }
 ],
 "metadata": {
  "kernelspec": {
   "display_name": "base",
   "language": "python",
   "name": "python3"
  },
  "language_info": {
   "codemirror_mode": {
    "name": "ipython",
    "version": 3
   },
   "file_extension": ".py",
   "mimetype": "text/x-python",
   "name": "python",
   "nbconvert_exporter": "python",
   "pygments_lexer": "ipython3",
   "version": "3.11.11"
  }
 },
 "nbformat": 4,
 "nbformat_minor": 2
}
