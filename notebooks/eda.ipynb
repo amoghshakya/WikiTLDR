{
 "cells": [
  {
   "cell_type": "code",
   "execution_count": 16,
   "metadata": {},
   "outputs": [],
   "source": [
    "import sqlite3\n",
    "import pandas as pd"
   ]
  },
  {
   "cell_type": "code",
   "execution_count": 17,
   "metadata": {},
   "outputs": [
    {
     "data": {
      "text/html": [
       "<div>\n",
       "<style scoped>\n",
       "    .dataframe tbody tr th:only-of-type {\n",
       "        vertical-align: middle;\n",
       "    }\n",
       "\n",
       "    .dataframe tbody tr th {\n",
       "        vertical-align: top;\n",
       "    }\n",
       "\n",
       "    .dataframe thead th {\n",
       "        text-align: right;\n",
       "    }\n",
       "</style>\n",
       "<table border=\"1\" class=\"dataframe\">\n",
       "  <thead>\n",
       "    <tr style=\"text-align: right;\">\n",
       "      <th></th>\n",
       "      <th>id</th>\n",
       "      <th>title</th>\n",
       "      <th>input_text</th>\n",
       "      <th>target_text</th>\n",
       "    </tr>\n",
       "  </thead>\n",
       "  <tbody>\n",
       "    <tr>\n",
       "      <th>0</th>\n",
       "      <td>1</td>\n",
       "      <td>Johan August Arfwedson</td>\n",
       "      <td>Johan August Arfwedson (12 January 1792 – 28 O...</td>\n",
       "      <td>Johan August Arfwedson (12 January 1792 – 28 O...</td>\n",
       "    </tr>\n",
       "    <tr>\n",
       "      <th>1</th>\n",
       "      <td>2</td>\n",
       "      <td>Kokarit frog</td>\n",
       "      <td>Humerana lateralis is a species of frog in the...</td>\n",
       "      <td>The Kokarit frog, meng-yang frog, yellow frog,...</td>\n",
       "    </tr>\n",
       "    <tr>\n",
       "      <th>2</th>\n",
       "      <td>3</td>\n",
       "      <td>Moundou</td>\n",
       "      <td>Moundou (Arabic: موندو) is the second-largest ...</td>\n",
       "      <td>Moundou is the capital of the Logone Occidenta...</td>\n",
       "    </tr>\n",
       "    <tr>\n",
       "      <th>3</th>\n",
       "      <td>4</td>\n",
       "      <td>Kamrieng District</td>\n",
       "      <td>Kamrieng (Khmer: កំរៀង) is a district (srok) o...</td>\n",
       "      <td>Kamrieng District (Khmer: កំរៀង) is a district...</td>\n",
       "    </tr>\n",
       "    <tr>\n",
       "      <th>4</th>\n",
       "      <td>5</td>\n",
       "      <td>Mother 1 + 2</td>\n",
       "      <td>Mother (known as EarthBound outside Japan) is ...</td>\n",
       "      <td>Mother 1 + 2 is a video game for the Game Boy ...</td>\n",
       "    </tr>\n",
       "  </tbody>\n",
       "</table>\n",
       "</div>"
      ],
      "text/plain": [
       "   id                   title  \\\n",
       "0   1  Johan August Arfwedson   \n",
       "1   2            Kokarit frog   \n",
       "2   3                 Moundou   \n",
       "3   4       Kamrieng District   \n",
       "4   5            Mother 1 + 2   \n",
       "\n",
       "                                          input_text  \\\n",
       "0  Johan August Arfwedson (12 January 1792 – 28 O...   \n",
       "1  Humerana lateralis is a species of frog in the...   \n",
       "2  Moundou (Arabic: موندو) is the second-largest ...   \n",
       "3  Kamrieng (Khmer: កំរៀង) is a district (srok) o...   \n",
       "4  Mother (known as EarthBound outside Japan) is ...   \n",
       "\n",
       "                                         target_text  \n",
       "0  Johan August Arfwedson (12 January 1792 – 28 O...  \n",
       "1  The Kokarit frog, meng-yang frog, yellow frog,...  \n",
       "2  Moundou is the capital of the Logone Occidenta...  \n",
       "3  Kamrieng District (Khmer: កំរៀង) is a district...  \n",
       "4  Mother 1 + 2 is a video game for the Game Boy ...  "
      ]
     },
     "execution_count": 17,
     "metadata": {},
     "output_type": "execute_result"
    }
   ],
   "source": [
    "conn = sqlite3.connect('../raw_data/simple_en_wiki.db')\n",
    "cursor = conn.cursor()\n",
    "\n",
    "df = pd.read_sql_query(\"SELECT * FROM articles\", conn)\n",
    "df.head()"
   ]
  },
  {
   "cell_type": "code",
   "execution_count": 18,
   "metadata": {},
   "outputs": [
    {
     "name": "stdout",
     "output_type": "stream",
     "text": [
      "<class 'pandas.core.frame.DataFrame'>\n",
      "RangeIndex: 1385 entries, 0 to 1384\n",
      "Data columns (total 4 columns):\n",
      " #   Column       Non-Null Count  Dtype \n",
      "---  ------       --------------  ----- \n",
      " 0   id           1385 non-null   int64 \n",
      " 1   title        1385 non-null   object\n",
      " 2   input_text   1385 non-null   object\n",
      " 3   target_text  1378 non-null   object\n",
      "dtypes: int64(1), object(3)\n",
      "memory usage: 43.4+ KB\n"
     ]
    }
   ],
   "source": [
    "df.info()"
   ]
  },
  {
   "cell_type": "code",
   "execution_count": 8,
   "metadata": {},
   "outputs": [],
   "source": [
    "df[\"compression_ratio\"] = df[\"input_text\"].str.len() / df[\"target_text\"].str.len()"
   ]
  },
  {
   "cell_type": "code",
   "execution_count": 9,
   "metadata": {},
   "outputs": [
    {
     "name": "stderr",
     "output_type": "stream",
     "text": [
      "/home/am/miniforge3/lib/python3.11/site-packages/pandas/core/nanops.py:1016: RuntimeWarning: invalid value encountered in subtract\n",
      "  sqr = _ensure_numeric((avg - values) ** 2)\n"
     ]
    },
    {
     "data": {
      "text/plain": [
       "count    926.000000\n",
       "mean            inf\n",
       "std             NaN\n",
       "min        0.036534\n",
       "25%        1.075848\n",
       "50%        1.802617\n",
       "75%        3.427325\n",
       "max             inf\n",
       "Name: compression_ratio, dtype: float64"
      ]
     },
     "execution_count": 9,
     "metadata": {},
     "output_type": "execute_result"
    }
   ],
   "source": [
    "df[\"compression_ratio\"].describe()"
   ]
  },
  {
   "cell_type": "code",
   "execution_count": 10,
   "metadata": {},
   "outputs": [
    {
     "data": {
      "text/plain": [
       "id                                                                 505\n",
       "title                                               Black widow pulsar\n",
       "input_text           The Black Widow Pulsar (PSR B1957+20) is an ec...\n",
       "target_text                                                           \n",
       "compression_ratio                                                  inf\n",
       "Name: 504, dtype: object"
      ]
     },
     "execution_count": 10,
     "metadata": {},
     "output_type": "execute_result"
    }
   ],
   "source": [
    "import numpy as np\n",
    "\n",
    "df.loc[np.argmax(df[\"compression_ratio\"])]"
   ]
  },
  {
   "cell_type": "code",
   "execution_count": 11,
   "metadata": {},
   "outputs": [],
   "source": [
    "df.drop(np.argmax(df[\"compression_ratio\"]), inplace=True)"
   ]
  },
  {
   "cell_type": "code",
   "execution_count": 12,
   "metadata": {},
   "outputs": [],
   "source": [
    "large_summaries = df[df[\"compression_ratio\"] > 1.3]"
   ]
  },
  {
   "cell_type": "code",
   "execution_count": 14,
   "metadata": {},
   "outputs": [
    {
     "data": {
      "text/html": [
       "<div>\n",
       "<style scoped>\n",
       "    .dataframe tbody tr th:only-of-type {\n",
       "        vertical-align: middle;\n",
       "    }\n",
       "\n",
       "    .dataframe tbody tr th {\n",
       "        vertical-align: top;\n",
       "    }\n",
       "\n",
       "    .dataframe thead th {\n",
       "        text-align: right;\n",
       "    }\n",
       "</style>\n",
       "<table border=\"1\" class=\"dataframe\">\n",
       "  <thead>\n",
       "    <tr style=\"text-align: right;\">\n",
       "      <th></th>\n",
       "      <th>id</th>\n",
       "      <th>title</th>\n",
       "      <th>input_text</th>\n",
       "      <th>target_text</th>\n",
       "      <th>compression_ratio</th>\n",
       "    </tr>\n",
       "  </thead>\n",
       "  <tbody>\n",
       "    <tr>\n",
       "      <th>62</th>\n",
       "      <td>63</td>\n",
       "      <td>Red Star F.C.</td>\n",
       "      <td>Red Star Football Club (French pronunciation: ...</td>\n",
       "      <td>Red Star F.C. 93 is a football club which play...</td>\n",
       "      <td>27.724138</td>\n",
       "    </tr>\n",
       "    <tr>\n",
       "      <th>471</th>\n",
       "      <td>472</td>\n",
       "      <td>Haakon IV</td>\n",
       "      <td>Haakon IV Haakonsson (c. March/April 1204 – 16...</td>\n",
       "      <td>Haakon IV Haakonsson is known as King of Norwa...</td>\n",
       "      <td>24.523256</td>\n",
       "    </tr>\n",
       "    <tr>\n",
       "      <th>573</th>\n",
       "      <td>574</td>\n",
       "      <td>Valenzuela, Philippines</td>\n",
       "      <td>Valenzuela (, Tagalog: [valensˈwela]), officia...</td>\n",
       "      <td>Valenzuela is a city in the Philippines. It is...</td>\n",
       "      <td>24.169014</td>\n",
       "    </tr>\n",
       "    <tr>\n",
       "      <th>279</th>\n",
       "      <td>280</td>\n",
       "      <td>Lynx (constellation)</td>\n",
       "      <td>Lynx is a constellation named after the animal...</td>\n",
       "      <td>Lynx is a constellation in the northern sky.</td>\n",
       "      <td>23.909091</td>\n",
       "    </tr>\n",
       "    <tr>\n",
       "      <th>58</th>\n",
       "      <td>59</td>\n",
       "      <td>1975 Formula One season</td>\n",
       "      <td>The 1975 Formula One season was the 29th seaso...</td>\n",
       "      <td>The 1975 Formula One season saw Niki Lauda cro...</td>\n",
       "      <td>21.174603</td>\n",
       "    </tr>\n",
       "  </tbody>\n",
       "</table>\n",
       "</div>"
      ],
      "text/plain": [
       "      id                    title  \\\n",
       "62    63            Red Star F.C.   \n",
       "471  472                Haakon IV   \n",
       "573  574  Valenzuela, Philippines   \n",
       "279  280     Lynx (constellation)   \n",
       "58    59  1975 Formula One season   \n",
       "\n",
       "                                            input_text  \\\n",
       "62   Red Star Football Club (French pronunciation: ...   \n",
       "471  Haakon IV Haakonsson (c. March/April 1204 – 16...   \n",
       "573  Valenzuela (, Tagalog: [valensˈwela]), officia...   \n",
       "279  Lynx is a constellation named after the animal...   \n",
       "58   The 1975 Formula One season was the 29th seaso...   \n",
       "\n",
       "                                           target_text  compression_ratio  \n",
       "62   Red Star F.C. 93 is a football club which play...          27.724138  \n",
       "471  Haakon IV Haakonsson is known as King of Norwa...          24.523256  \n",
       "573  Valenzuela is a city in the Philippines. It is...          24.169014  \n",
       "279       Lynx is a constellation in the northern sky.          23.909091  \n",
       "58   The 1975 Formula One season saw Niki Lauda cro...          21.174603  "
      ]
     },
     "execution_count": 14,
     "metadata": {},
     "output_type": "execute_result"
    }
   ],
   "source": [
    "large_summaries.sort_values(\"compression_ratio\", ascending=False).head()"
   ]
  },
  {
   "cell_type": "code",
   "execution_count": 15,
   "metadata": {},
   "outputs": [
    {
     "name": "stdout",
     "output_type": "stream",
     "text": [
      "<class 'pandas.core.frame.DataFrame'>\n",
      "Index: 597 entries, 1 to 929\n",
      "Data columns (total 5 columns):\n",
      " #   Column             Non-Null Count  Dtype  \n",
      "---  ------             --------------  -----  \n",
      " 0   id                 597 non-null    int64  \n",
      " 1   title              597 non-null    object \n",
      " 2   input_text         597 non-null    object \n",
      " 3   target_text        597 non-null    object \n",
      " 4   compression_ratio  597 non-null    float64\n",
      "dtypes: float64(1), int64(1), object(3)\n",
      "memory usage: 28.0+ KB\n"
     ]
    }
   ],
   "source": [
    "large_summaries.info()"
   ]
  },
  {
   "cell_type": "code",
   "execution_count": null,
   "metadata": {},
   "outputs": [],
   "source": []
  }
 ],
 "metadata": {
  "kernelspec": {
   "display_name": "base",
   "language": "python",
   "name": "python3"
  },
  "language_info": {
   "codemirror_mode": {
    "name": "ipython",
    "version": 3
   },
   "file_extension": ".py",
   "mimetype": "text/x-python",
   "name": "python",
   "nbconvert_exporter": "python",
   "pygments_lexer": "ipython3",
   "version": "3.11.11"
  }
 },
 "nbformat": 4,
 "nbformat_minor": 2
}
