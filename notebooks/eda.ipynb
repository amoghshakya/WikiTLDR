{
  "cells": [
    {
      "cell_type": "markdown",
      "metadata": {
        "id": "LUed8TSzkKKh"
      },
      "source": [
        "# WikiTLDR\n",
        "\n",
        "A summarization/simplification dataset"
      ]
    },
    {
      "cell_type": "code",
      "execution_count": 42,
      "metadata": {
        "id": "tdJnm-dqkKKj"
      },
      "outputs": [],
      "source": [
        "import sqlite3\n",
        "import pandas as pd\n",
        "import numpy as np\n",
        "import matplotlib.pyplot as plt\n",
        "import re"
      ]
    },
    {
      "cell_type": "code",
      "execution_count": 43,
      "metadata": {
        "colab": {
          "base_uri": "https://localhost:8080/",
          "height": 293
        },
        "id": "zUQELxoukKKl",
        "outputId": "0841a225-92e0-4536-e960-061edb5f1906"
      },
      "outputs": [
        {
          "data": {
            "text/html": [
              "<div>\n",
              "<style scoped>\n",
              "    .dataframe tbody tr th:only-of-type {\n",
              "        vertical-align: middle;\n",
              "    }\n",
              "\n",
              "    .dataframe tbody tr th {\n",
              "        vertical-align: top;\n",
              "    }\n",
              "\n",
              "    .dataframe thead th {\n",
              "        text-align: right;\n",
              "    }\n",
              "</style>\n",
              "<table border=\"1\" class=\"dataframe\">\n",
              "  <thead>\n",
              "    <tr style=\"text-align: right;\">\n",
              "      <th></th>\n",
              "      <th>title</th>\n",
              "      <th>input_text</th>\n",
              "      <th>target_text</th>\n",
              "    </tr>\n",
              "  </thead>\n",
              "  <tbody>\n",
              "    <tr>\n",
              "      <th>0</th>\n",
              "      <td>Johan August Arfwedson</td>\n",
              "      <td>Johan August Arfwedson (12 January 1792 – 28 O...</td>\n",
              "      <td>Johan August Arfwedson (12 January 1792 – 28 O...</td>\n",
              "    </tr>\n",
              "    <tr>\n",
              "      <th>1</th>\n",
              "      <td>Kokarit frog</td>\n",
              "      <td>Humerana lateralis is a species of frog in the...</td>\n",
              "      <td>The Kokarit frog, meng-yang frog, yellow frog,...</td>\n",
              "    </tr>\n",
              "    <tr>\n",
              "      <th>2</th>\n",
              "      <td>Moundou</td>\n",
              "      <td>Moundou (Arabic: موندو) is the second-largest ...</td>\n",
              "      <td>Moundou is the capital of the Logone Occidenta...</td>\n",
              "    </tr>\n",
              "    <tr>\n",
              "      <th>3</th>\n",
              "      <td>Kamrieng District</td>\n",
              "      <td>Kamrieng (Khmer: កំរៀង) is a district (srok) o...</td>\n",
              "      <td>Kamrieng District (Khmer: កំរៀង) is a district...</td>\n",
              "    </tr>\n",
              "    <tr>\n",
              "      <th>4</th>\n",
              "      <td>Mother 1 + 2</td>\n",
              "      <td>Mother (known as EarthBound outside Japan) is ...</td>\n",
              "      <td>Mother 1 + 2 is a video game for the Game Boy ...</td>\n",
              "    </tr>\n",
              "  </tbody>\n",
              "</table>\n",
              "</div>"
            ],
            "text/plain": [
              "                    title                                         input_text  \\\n",
              "0  Johan August Arfwedson  Johan August Arfwedson (12 January 1792 – 28 O...   \n",
              "1            Kokarit frog  Humerana lateralis is a species of frog in the...   \n",
              "2                 Moundou  Moundou (Arabic: موندو) is the second-largest ...   \n",
              "3       Kamrieng District  Kamrieng (Khmer: កំរៀង) is a district (srok) o...   \n",
              "4            Mother 1 + 2  Mother (known as EarthBound outside Japan) is ...   \n",
              "\n",
              "                                         target_text  \n",
              "0  Johan August Arfwedson (12 January 1792 – 28 O...  \n",
              "1  The Kokarit frog, meng-yang frog, yellow frog,...  \n",
              "2  Moundou is the capital of the Logone Occidenta...  \n",
              "3  Kamrieng District (Khmer: កំរៀង) is a district...  \n",
              "4  Mother 1 + 2 is a video game for the Game Boy ...  "
            ]
          },
          "execution_count": 43,
          "metadata": {},
          "output_type": "execute_result"
        }
      ],
      "source": [
        "conn = sqlite3.connect('../raw_data/simple_en_wiki.db')\n",
        "cursor = conn.cursor()\n",
        "\n",
        "df = pd.read_sql_query(\"SELECT * FROM articles\", conn)\n",
        "df.drop(columns=['id'], inplace=True)\n",
        "df.head()"
      ]
    },
    {
      "cell_type": "code",
      "execution_count": 44,
      "metadata": {
        "colab": {
          "base_uri": "https://localhost:8080/"
        },
        "id": "T0Kt_KbKkKKm",
        "outputId": "cd9b579e-6de1-4bff-942a-94fe03e18b39"
      },
      "outputs": [
        {
          "name": "stdout",
          "output_type": "stream",
          "text": [
            "<class 'pandas.core.frame.DataFrame'>\n",
            "RangeIndex: 38295 entries, 0 to 38294\n",
            "Data columns (total 3 columns):\n",
            " #   Column       Non-Null Count  Dtype \n",
            "---  ------       --------------  ----- \n",
            " 0   title        38295 non-null  object\n",
            " 1   input_text   38295 non-null  object\n",
            " 2   target_text  38163 non-null  object\n",
            "dtypes: object(3)\n",
            "memory usage: 897.7+ KB\n"
          ]
        }
      ],
      "source": [
        "df.info()"
      ]
    },
    {
      "cell_type": "code",
      "execution_count": 45,
      "metadata": {
        "colab": {
          "base_uri": "https://localhost:8080/",
          "height": 178
        },
        "id": "jzrmABXukKKm",
        "outputId": "a2b5a904-9b78-41a3-fbc2-c03d2e6b54ad"
      },
      "outputs": [
        {
          "data": {
            "text/plain": [
              "title            0\n",
              "input_text       0\n",
              "target_text    132\n",
              "dtype: int64"
            ]
          },
          "execution_count": 45,
          "metadata": {},
          "output_type": "execute_result"
        }
      ],
      "source": [
        "df.isna().sum()"
      ]
    },
    {
      "cell_type": "markdown",
      "metadata": {
        "id": "qztOU5q_kKKn"
      },
      "source": [
        "We replace empty strings `\"\"` with nulls. Because they *are* null values."
      ]
    },
    {
      "cell_type": "code",
      "execution_count": 46,
      "metadata": {
        "id": "nkBzpVXgkKKn"
      },
      "outputs": [],
      "source": [
        "df.replace(\"\", np.nan, inplace=True)"
      ]
    },
    {
      "cell_type": "code",
      "execution_count": 47,
      "metadata": {
        "colab": {
          "base_uri": "https://localhost:8080/",
          "height": 178
        },
        "id": "Nxq3aq0IkKKn",
        "outputId": "ad91015e-203e-4d27-8413-c16d1c6b217a"
      },
      "outputs": [
        {
          "data": {
            "text/plain": [
              "title            0\n",
              "input_text       0\n",
              "target_text    167\n",
              "dtype: int64"
            ]
          },
          "execution_count": 47,
          "metadata": {},
          "output_type": "execute_result"
        }
      ],
      "source": [
        "df.isna().sum()"
      ]
    },
    {
      "cell_type": "code",
      "execution_count": 48,
      "metadata": {
        "id": "KPsVCoj9kKKn"
      },
      "outputs": [],
      "source": [
        "df.dropna(inplace=True)"
      ]
    },
    {
      "cell_type": "code",
      "execution_count": 49,
      "metadata": {
        "colab": {
          "base_uri": "https://localhost:8080/"
        },
        "id": "29y1EGRqkKKo",
        "outputId": "47ba763f-eaf4-4055-c357-e06374adc653"
      },
      "outputs": [
        {
          "data": {
            "text/plain": [
              "3876"
            ]
          },
          "execution_count": 49,
          "metadata": {},
          "output_type": "execute_result"
        }
      ],
      "source": [
        "df.duplicated().sum()"
      ]
    },
    {
      "cell_type": "code",
      "execution_count": 50,
      "metadata": {
        "colab": {
          "base_uri": "https://localhost:8080/",
          "height": 597
        },
        "id": "fU4AMngVkKKo",
        "outputId": "01621856-5fa0-43f6-d599-989bfd2f9ef1"
      },
      "outputs": [
        {
          "data": {
            "text/html": [
              "<div>\n",
              "<style scoped>\n",
              "    .dataframe tbody tr th:only-of-type {\n",
              "        vertical-align: middle;\n",
              "    }\n",
              "\n",
              "    .dataframe tbody tr th {\n",
              "        vertical-align: top;\n",
              "    }\n",
              "\n",
              "    .dataframe thead th {\n",
              "        text-align: right;\n",
              "    }\n",
              "</style>\n",
              "<table border=\"1\" class=\"dataframe\">\n",
              "  <thead>\n",
              "    <tr style=\"text-align: right;\">\n",
              "      <th></th>\n",
              "      <th>title</th>\n",
              "      <th>input_text</th>\n",
              "      <th>target_text</th>\n",
              "    </tr>\n",
              "  </thead>\n",
              "  <tbody>\n",
              "    <tr>\n",
              "      <th>1515</th>\n",
              "      <td>Mizrahi music</td>\n",
              "      <td>Mizrahi music (Hebrew: מוזיקה מזרחית muzika mi...</td>\n",
              "      <td>Mizrahi music (Hebrew: מוזיקה מזרחית) is a mus...</td>\n",
              "    </tr>\n",
              "    <tr>\n",
              "      <th>1683</th>\n",
              "      <td>Fantaisie-Impromptu</td>\n",
              "      <td>Frédéric Chopin's Fantaisie-Impromptu (Polish:...</td>\n",
              "      <td>Frédéric Chopin's Fantaisie-Impromptu in C♯ mi...</td>\n",
              "    </tr>\n",
              "    <tr>\n",
              "      <th>1769</th>\n",
              "      <td>Stonewall County, Texas</td>\n",
              "      <td>Stonewall County is a county located in the U....</td>\n",
              "      <td>Stonewall County is a county in the U.S. state...</td>\n",
              "    </tr>\n",
              "    <tr>\n",
              "      <th>1844</th>\n",
              "      <td>Hanoi</td>\n",
              "      <td>Hanoi (Vietnamese: Hà Nội ) is the capital and...</td>\n",
              "      <td>Hanoi (Vietnamese: Hà Nội) is the capital of V...</td>\n",
              "    </tr>\n",
              "    <tr>\n",
              "      <th>1986</th>\n",
              "      <td>Saint-Martin, Gers</td>\n",
              "      <td>Saint-Martin (French pronunciation: [sɛ̃ maʁtɛ...</td>\n",
              "      <td>Saint-Martin is a commune in the Gers departme...</td>\n",
              "    </tr>\n",
              "    <tr>\n",
              "      <th>...</th>\n",
              "      <td>...</td>\n",
              "      <td>...</td>\n",
              "      <td>...</td>\n",
              "    </tr>\n",
              "    <tr>\n",
              "      <th>38251</th>\n",
              "      <td>K. Balachander filmography</td>\n",
              "      <td>This following is the list of films to which K...</td>\n",
              "      <td>K. Balachander has written, directed nearly 80...</td>\n",
              "    </tr>\n",
              "    <tr>\n",
              "      <th>38266</th>\n",
              "      <td>Magda Amo Rius</td>\n",
              "      <td>Magda Amo Rius (born July 23, 1973, in Barcelo...</td>\n",
              "      <td>Magda Amo Rius (born July 23, 1973 in Barcelon...</td>\n",
              "    </tr>\n",
              "    <tr>\n",
              "      <th>38272</th>\n",
              "      <td>Ohio Players</td>\n",
              "      <td>Ohio Players are an American funk band, most p...</td>\n",
              "      <td>The Ohio Players were a funk and R&amp;B band from...</td>\n",
              "    </tr>\n",
              "    <tr>\n",
              "      <th>38273</th>\n",
              "      <td>Valbonne</td>\n",
              "      <td>Valbonne (French pronunciation: [valbɔn]; Occi...</td>\n",
              "      <td>Valbonne is a commune. It is found in the regi...</td>\n",
              "    </tr>\n",
              "    <tr>\n",
              "      <th>38276</th>\n",
              "      <td>Deportivo Cali</td>\n",
              "      <td>Asociación Deportivo Cali, best known as Depor...</td>\n",
              "      <td>Asociación Deportivo Cali is a Colombian sport...</td>\n",
              "    </tr>\n",
              "  </tbody>\n",
              "</table>\n",
              "<p>3876 rows × 3 columns</p>\n",
              "</div>"
            ],
            "text/plain": [
              "                            title  \\\n",
              "1515                Mizrahi music   \n",
              "1683          Fantaisie-Impromptu   \n",
              "1769      Stonewall County, Texas   \n",
              "1844                        Hanoi   \n",
              "1986           Saint-Martin, Gers   \n",
              "...                           ...   \n",
              "38251  K. Balachander filmography   \n",
              "38266              Magda Amo Rius   \n",
              "38272                Ohio Players   \n",
              "38273                    Valbonne   \n",
              "38276              Deportivo Cali   \n",
              "\n",
              "                                              input_text  \\\n",
              "1515   Mizrahi music (Hebrew: מוזיקה מזרחית muzika mi...   \n",
              "1683   Frédéric Chopin's Fantaisie-Impromptu (Polish:...   \n",
              "1769   Stonewall County is a county located in the U....   \n",
              "1844   Hanoi (Vietnamese: Hà Nội ) is the capital and...   \n",
              "1986   Saint-Martin (French pronunciation: [sɛ̃ maʁtɛ...   \n",
              "...                                                  ...   \n",
              "38251  This following is the list of films to which K...   \n",
              "38266  Magda Amo Rius (born July 23, 1973, in Barcelo...   \n",
              "38272  Ohio Players are an American funk band, most p...   \n",
              "38273  Valbonne (French pronunciation: [valbɔn]; Occi...   \n",
              "38276  Asociación Deportivo Cali, best known as Depor...   \n",
              "\n",
              "                                             target_text  \n",
              "1515   Mizrahi music (Hebrew: מוזיקה מזרחית) is a mus...  \n",
              "1683   Frédéric Chopin's Fantaisie-Impromptu in C♯ mi...  \n",
              "1769   Stonewall County is a county in the U.S. state...  \n",
              "1844   Hanoi (Vietnamese: Hà Nội) is the capital of V...  \n",
              "1986   Saint-Martin is a commune in the Gers departme...  \n",
              "...                                                  ...  \n",
              "38251  K. Balachander has written, directed nearly 80...  \n",
              "38266  Magda Amo Rius (born July 23, 1973 in Barcelon...  \n",
              "38272  The Ohio Players were a funk and R&B band from...  \n",
              "38273  Valbonne is a commune. It is found in the regi...  \n",
              "38276  Asociación Deportivo Cali is a Colombian sport...  \n",
              "\n",
              "[3876 rows x 3 columns]"
            ]
          },
          "execution_count": 50,
          "metadata": {},
          "output_type": "execute_result"
        }
      ],
      "source": [
        "df[df.duplicated()]"
      ]
    },
    {
      "cell_type": "code",
      "execution_count": 51,
      "metadata": {
        "colab": {
          "base_uri": "https://localhost:8080/",
          "height": 112
        },
        "id": "xkz3mBuqkKKo",
        "outputId": "4395e395-d608-47ff-b57b-3ed6908e9f09"
      },
      "outputs": [
        {
          "data": {
            "text/html": [
              "<div>\n",
              "<style scoped>\n",
              "    .dataframe tbody tr th:only-of-type {\n",
              "        vertical-align: middle;\n",
              "    }\n",
              "\n",
              "    .dataframe tbody tr th {\n",
              "        vertical-align: top;\n",
              "    }\n",
              "\n",
              "    .dataframe thead th {\n",
              "        text-align: right;\n",
              "    }\n",
              "</style>\n",
              "<table border=\"1\" class=\"dataframe\">\n",
              "  <thead>\n",
              "    <tr style=\"text-align: right;\">\n",
              "      <th></th>\n",
              "      <th>title</th>\n",
              "      <th>input_text</th>\n",
              "      <th>target_text</th>\n",
              "    </tr>\n",
              "  </thead>\n",
              "  <tbody>\n",
              "    <tr>\n",
              "      <th>3718</th>\n",
              "      <td>Warangal</td>\n",
              "      <td>Warangal () is a city in the Indian state of T...</td>\n",
              "      <td>Warangal is a city in Telangana, India. It is ...</td>\n",
              "    </tr>\n",
              "    <tr>\n",
              "      <th>16250</th>\n",
              "      <td>Warangal</td>\n",
              "      <td>Warangal () is a city in the Indian state of T...</td>\n",
              "      <td>Warangal is a city in Telangana, India. It is ...</td>\n",
              "    </tr>\n",
              "  </tbody>\n",
              "</table>\n",
              "</div>"
            ],
            "text/plain": [
              "          title                                         input_text  \\\n",
              "3718   Warangal  Warangal () is a city in the Indian state of T...   \n",
              "16250  Warangal  Warangal () is a city in the Indian state of T...   \n",
              "\n",
              "                                             target_text  \n",
              "3718   Warangal is a city in Telangana, India. It is ...  \n",
              "16250  Warangal is a city in Telangana, India. It is ...  "
            ]
          },
          "execution_count": 51,
          "metadata": {},
          "output_type": "execute_result"
        }
      ],
      "source": [
        "df[df[\"title\"] == \"Warangal\"]"
      ]
    },
    {
      "cell_type": "code",
      "execution_count": 52,
      "metadata": {
        "id": "XJHiLMmzkKKp"
      },
      "outputs": [],
      "source": [
        "df.drop_duplicates(inplace=True)"
      ]
    },
    {
      "cell_type": "code",
      "execution_count": 53,
      "metadata": {
        "colab": {
          "base_uri": "https://localhost:8080/"
        },
        "id": "Z2ZnmlCwkKKp",
        "outputId": "dc40b15a-0770-4e74-80e0-6302c56d3772"
      },
      "outputs": [
        {
          "name": "stdout",
          "output_type": "stream",
          "text": [
            "<class 'pandas.core.frame.DataFrame'>\n",
            "Index: 34252 entries, 0 to 38294\n",
            "Data columns (total 3 columns):\n",
            " #   Column       Non-Null Count  Dtype \n",
            "---  ------       --------------  ----- \n",
            " 0   title        34252 non-null  object\n",
            " 1   input_text   34252 non-null  object\n",
            " 2   target_text  34252 non-null  object\n",
            "dtypes: object(3)\n",
            "memory usage: 1.0+ MB\n",
            "Null values:  0\n",
            "Duplicates:  0\n"
          ]
        }
      ],
      "source": [
        "df.info()\n",
        "print(\"Null values: \", df.isna().sum().sum())\n",
        "print(\"Duplicates: \", df.duplicated().sum())"
      ]
    },
    {
      "cell_type": "markdown",
      "metadata": {
        "id": "rIdAElyBkKKp"
      },
      "source": [
        "Replace consecutive newlines `\\n` with a single one."
      ]
    },
    {
      "cell_type": "code",
      "execution_count": 54,
      "metadata": {
        "colab": {
          "base_uri": "https://localhost:8080/"
        },
        "id": "tPdW_Ea-kKKp",
        "outputId": "4951b978-4359-45e9-b5d0-6ccf7c079c02"
      },
      "outputs": [
        {
          "name": "stdout",
          "output_type": "stream",
          "text": [
            "8875\n",
            "1033\n"
          ]
        }
      ],
      "source": [
        "print(df[\"input_text\"].str.contains(r\"\\n{2,}\", regex=True).sum())\n",
        "print(df[\"target_text\"].str.contains(r\"\\n{2,}\", regex=True).sum())"
      ]
    },
    {
      "cell_type": "code",
      "execution_count": 55,
      "metadata": {
        "id": "EXJ27m-bkKKp"
      },
      "outputs": [],
      "source": [
        "df[\"input_text\"] = df[\"input_text\"].str.replace(r\"\\n{2,}\", \"\\n\", regex=True)\n",
        "df[\"target_text\"] = df[\"target_text\"].str.replace(r\"\\n{2,}\", \"\\n\", regex=True)"
      ]
    },
    {
      "cell_type": "markdown",
      "metadata": {
        "id": "ZE-rP_hNkKKq"
      },
      "source": [
        "## Compression Ratio\n",
        "\n",
        "This is the ratio of the length of the simplified text and the standard English text.\n",
        "\n",
        "$$\n",
        "\\text{compression\\_ratio} = \\frac{\\text{Length of simplified text}}{\\text{Length of standard English text}}\n",
        "$$\n",
        "\n",
        "Larger compression ratio values mean larger summaries."
      ]
    },
    {
      "cell_type": "code",
      "execution_count": 56,
      "metadata": {
        "id": "FrinoB3dkKKq"
      },
      "outputs": [],
      "source": [
        "df[\"compression_ratio\"] = df[\"target_text\"].str.len() / \\\n",
        "    df[\"input_text\"].str.len()"
      ]
    },
    {
      "cell_type": "code",
      "execution_count": 57,
      "metadata": {
        "colab": {
          "base_uri": "https://localhost:8080/",
          "height": 335
        },
        "id": "1UW82AZckKKq",
        "outputId": "02e9512d-eb87-4e54-a858-da66ee5be79f"
      },
      "outputs": [
        {
          "data": {
            "text/plain": [
              "count    34252.000000\n",
              "mean         0.841302\n",
              "std          1.313101\n",
              "min          0.004037\n",
              "25%          0.292763\n",
              "50%          0.586799\n",
              "75%          0.979604\n",
              "max         82.583333\n",
              "Name: compression_ratio, dtype: float64"
            ]
          },
          "execution_count": 57,
          "metadata": {},
          "output_type": "execute_result"
        }
      ],
      "source": [
        "df[\"compression_ratio\"].describe()"
      ]
    },
    {
      "cell_type": "code",
      "execution_count": 58,
      "metadata": {
        "colab": {
          "base_uri": "https://localhost:8080/",
          "height": 399
        },
        "id": "TNvoXWn7kKKq",
        "outputId": "9a92abbb-9302-4dd0-f81e-840f9798fb08"
      },
      "outputs": [
        {
          "data": {
            "image/png": "[encoded data removed]",
            "text/plain": [
              "<Figure size 1200x500 with 1 Axes>"
            ]
          },
          "metadata": {},
          "output_type": "display_data"
        }
      ],
      "source": [
        "plt.figure(figsize=(12, 5))\n",
        "plt.hist(df['compression_ratio'], bins=80, log=True)\n",
        "plt.xlabel('Compression Ratio')\n",
        "plt.ylabel('Frequency')\n",
        "plt.title('Distribution of Compression Ratios')\n",
        "plt.show()"
      ]
    },
    {
      "cell_type": "code",
      "execution_count": 59,
      "metadata": {
        "colab": {
          "base_uri": "https://localhost:8080/"
        },
        "id": "28VJ_5-8kKKr",
        "outputId": "5844dbdc-bb49-427a-e298-e32a4415ed33"
      },
      "outputs": [
        {
          "name": "stdout",
          "output_type": "stream",
          "text": [
            "title                                                           S.A.S.\n",
            "input_text                                    SAS or Sas may refer to:\n",
            "target_text          The S.A.S. or Special Air Service, is a Specia...\n",
            "compression_ratio                                            82.583333\n",
            "Name: 37696, dtype: object\n",
            "SAS or Sas may refer to:\n",
            "\n",
            "The S.A.S. or Special Air Service, is a Special Operations Organisation of the British Army. It was founded in 1941 to attack behind the German line of defence in North Africa, in World War II. They are one of the best schooled units in the world, that makes them very valuable. There are about 500 active SAS soldiers.\n",
            "The SAS is a secret organisation. Its members often do not tell anyone except close family that they are in it. The British Ministry of Defence (MOD) rarely speaks of the SAS and mission details are never released until much later.\n",
            "The badge of the organisation was originally designed as a flaming sword of Damocles but ended up as a winged dagger. It shows the motto: Who Dares Wins.\n",
            "Current SAS roles include:\n",
            "Gathering intelligence behind enemy lines.\n",
            "Destroying targets far behind enemy lines.\n",
            "Protecting The Royal Family, and important government members.\n",
            "Training special forces of other nations.\n",
            "Performing counter-terrorism operations.\n",
            "The SAS is thought of all over the world as one of the best, if not the best Special Operations organisations.\n",
            "This is mainly because of the intense training they are put through. The hardest part of this is intense interrogation (questioning while under torture) which the trainees must go through.\n",
            "The SAS is respected worldwide and used to train many other Special Forces Units. Several special operations units are modeled after the SAS. For example, the U.S. Army's Delta Force was founded due in large part to Charles Beckwith, a U.S. Army special operations officer, serving as an exchange officer with the SAS. He felt  the U.S. Army was vulnerable in not having a unit comparable to the SAS. \n",
            "One fact is that the SAS are not often talked about, therefore the other countries tend to mention that they are never really talked about. At the same time they get announced as one of the best because they are so secret that the last mission heard about was performed in Iraq, which states how secretive they are.\n"
          ]
        }
      ],
      "source": [
        "largest = df.iloc[np.argmax(df[\"compression_ratio\"])]\n",
        "print(largest)\n",
        "print(largest[\"input_text\"])\n",
        "print()\n",
        "print(largest[\"target_text\"])"
      ]
    },
    {
      "cell_type": "code",
      "execution_count": 60,
      "metadata": {
        "id": "pMzrQXg6kKKr"
      },
      "outputs": [],
      "source": [
        "df = df[(df[\"compression_ratio\"] > 0.2) & (df[\"compression_ratio\"] < 1.2)]"
      ]
    },
    {
      "cell_type": "markdown",
      "metadata": {
        "id": "1SJOoBKikKKs"
      },
      "source": [
        "Articles titled \"List of x things\" on Wikipedia are not considered proper summarizations because they typically consist of enumerations rather than narrative content. These lists do not provide much context or detailed information to summarize."
      ]
    },
    {
      "cell_type": "code",
      "execution_count": 61,
      "metadata": {
        "id": "AIcUGwepkKKs"
      },
      "outputs": [],
      "source": [
        "df.drop(df[df[\"title\"].str.contains(\"^List of\", regex=True)].index, inplace=True)"
      ]
    },
    {
      "cell_type": "code",
      "execution_count": 62,
      "metadata": {
        "id": "dupaYpdRkKKs"
      },
      "outputs": [],
      "source": [
        "large_summaries = df[df[\"compression_ratio\"] > 1]"
      ]
    },
    {
      "cell_type": "code",
      "execution_count": 63,
      "metadata": {
        "colab": {
          "base_uri": "https://localhost:8080/",
          "height": 310
        },
        "id": "mfSS8pMbkKKs",
        "outputId": "3d41f9c7-fb05-4d4a-9d3e-4b9382e09e0a"
      },
      "outputs": [
        {
          "data": {
            "text/html": [
              "<div>\n",
              "<style scoped>\n",
              "    .dataframe tbody tr th:only-of-type {\n",
              "        vertical-align: middle;\n",
              "    }\n",
              "\n",
              "    .dataframe tbody tr th {\n",
              "        vertical-align: top;\n",
              "    }\n",
              "\n",
              "    .dataframe thead th {\n",
              "        text-align: right;\n",
              "    }\n",
              "</style>\n",
              "<table border=\"1\" class=\"dataframe\">\n",
              "  <thead>\n",
              "    <tr style=\"text-align: right;\">\n",
              "      <th></th>\n",
              "      <th>title</th>\n",
              "      <th>input_text</th>\n",
              "      <th>target_text</th>\n",
              "      <th>compression_ratio</th>\n",
              "    </tr>\n",
              "  </thead>\n",
              "  <tbody>\n",
              "    <tr>\n",
              "      <th>385</th>\n",
              "      <td>Zip drive</td>\n",
              "      <td>The Zip drive is a removable floppy disk stora...</td>\n",
              "      <td>The Zip drive is a data storage device. The co...</td>\n",
              "      <td>1.199732</td>\n",
              "    </tr>\n",
              "    <tr>\n",
              "      <th>14029</th>\n",
              "      <td>Tanjong Pagar MRT station</td>\n",
              "      <td>Tanjong Pagar MRT station is an underground Ma...</td>\n",
              "      <td>Tanjong Pagar MRT Station (EW15) is an undergr...</td>\n",
              "      <td>1.199541</td>\n",
              "    </tr>\n",
              "    <tr>\n",
              "      <th>3393</th>\n",
              "      <td>I've Been to the Mountaintop</td>\n",
              "      <td>\"I've Been to the Mountaintop\" is the popular ...</td>\n",
              "      <td>I've Been to the Mountaintop is the name of th...</td>\n",
              "      <td>1.199187</td>\n",
              "    </tr>\n",
              "    <tr>\n",
              "      <th>2102</th>\n",
              "      <td>Carlos Squeo</td>\n",
              "      <td>Carlos Vicente Squeo (4 June 1948 in Dock Sud,...</td>\n",
              "      <td>Carlos Vicente Squeo (4 June 1948 in Dock Sud,...</td>\n",
              "      <td>1.199187</td>\n",
              "    </tr>\n",
              "    <tr>\n",
              "      <th>2712</th>\n",
              "      <td>Fixed-point theorem</td>\n",
              "      <td>In mathematics, a fixed-point theorem is a res...</td>\n",
              "      <td>In mathematics, a fixed-point theorem is a the...</td>\n",
              "      <td>1.199029</td>\n",
              "    </tr>\n",
              "  </tbody>\n",
              "</table>\n",
              "</div>"
            ],
            "text/plain": [
              "                              title  \\\n",
              "385                       Zip drive   \n",
              "14029     Tanjong Pagar MRT station   \n",
              "3393   I've Been to the Mountaintop   \n",
              "2102                   Carlos Squeo   \n",
              "2712            Fixed-point theorem   \n",
              "\n",
              "                                              input_text  \\\n",
              "385    The Zip drive is a removable floppy disk stora...   \n",
              "14029  Tanjong Pagar MRT station is an underground Ma...   \n",
              "3393   \"I've Been to the Mountaintop\" is the popular ...   \n",
              "2102   Carlos Vicente Squeo (4 June 1948 in Dock Sud,...   \n",
              "2712   In mathematics, a fixed-point theorem is a res...   \n",
              "\n",
              "                                             target_text  compression_ratio  \n",
              "385    The Zip drive is a data storage device. The co...           1.199732  \n",
              "14029  Tanjong Pagar MRT Station (EW15) is an undergr...           1.199541  \n",
              "3393   I've Been to the Mountaintop is the name of th...           1.199187  \n",
              "2102   Carlos Vicente Squeo (4 June 1948 in Dock Sud,...           1.199187  \n",
              "2712   In mathematics, a fixed-point theorem is a the...           1.199029  "
            ]
          },
          "execution_count": 63,
          "metadata": {},
          "output_type": "execute_result"
        }
      ],
      "source": [
        "large_summaries.sort_values(\"compression_ratio\", ascending=False).head()"
      ]
    },
    {
      "cell_type": "code",
      "execution_count": 64,
      "metadata": {
        "colab": {
          "base_uri": "https://localhost:8080/"
        },
        "id": "ONvJsgfCkKKt",
        "outputId": "8334a095-b413-40c5-c714-3900d4a342de"
      },
      "outputs": [
        {
          "data": {
            "text/plain": [
              "2444"
            ]
          },
          "execution_count": 64,
          "metadata": {},
          "output_type": "execute_result"
        }
      ],
      "source": [
        "len(large_summaries)"
      ]
    },
    {
      "cell_type": "code",
      "execution_count": 65,
      "metadata": {
        "colab": {
          "base_uri": "https://localhost:8080/",
          "height": 400
        },
        "id": "9YvF_v-DkKKt",
        "outputId": "22a45562-b356-4199-eb3a-d2a7df7499b9"
      },
      "outputs": [
        {
          "data": {
            "image/png": "[encoded data removed]",
            "text/plain": [
              "<Figure size 1200x500 with 1 Axes>"
            ]
          },
          "metadata": {},
          "output_type": "display_data"
        }
      ],
      "source": [
        "plt.figure(figsize=(12, 5))\n",
        "plt.hist(large_summaries['compression_ratio'], bins=80, log=True)\n",
        "plt.xlabel('Compression Ratio')\n",
        "plt.ylabel('Frequency')\n",
        "plt.title('Distribution of Compression Ratios')\n",
        "plt.show()"
      ]
    },
    {
      "cell_type": "code",
      "execution_count": 67,
      "metadata": {
        "colab": {
          "base_uri": "https://localhost:8080/"
        },
        "id": "VZQBzLKskKKt",
        "outputId": "565d5ba2-848e-4393-e5ab-b8db24e1011a"
      },
      "outputs": [
        {
          "name": "stdout",
          "output_type": "stream",
          "text": [
            "Index([32999], dtype='int64')\n",
            "José Ignacio Gabriel Jorge Retes Balzaretti (March 25, 1947 – April 20, 2020) was a Mexican film director, writer, producer, and actor. His 1977 film Paper Flowers was entered into the 28th Berlin International Film Festival. His 1979 film Broken Flag was entered into the 11th Moscow International Film Festival. His 1999 film A Sweet Scent of Death was entered into the 21st Moscow International Film Festival.\n",
            "\n",
            "----------------------------------------Target Text----------------------------------------\n",
            "José Ignacio Gabriel Jorge Retes Balzaretti (25 March 1947 – 20 April 2020) was a Mexican movie director, writer, producer and actor. His movie, Paper Flowers (1977), was entered into the 28th Berlin International Film Festival. Two of his other movies, Broken Flag (1979) and A Sweet Scent of Death (1999), were both entered into the Moscow International Film Festival.\n",
            "Retes died on 20 April 2020 at the age of 73.\n"
          ]
        }
      ],
      "source": [
        "sample = large_summaries.sample(1)\n",
        "print(sample.index)\n",
        "print(sample[\"input_text\"].values[0])\n",
        "print(\"-\" * 40 + \"Target Text\" + \"-\" * 40)\n",
        "print(sample[\"target_text\"].values[0])"
      ]
    },
    {
      "cell_type": "code",
      "execution_count": 68,
      "metadata": {
        "id": "sarxu9LGpH7D"
      },
      "outputs": [],
      "source": [
        "refer_to_articles = df[\"input_text\"].str.contains(r\"may refer to\",\n",
        "                                                  case=False,\n",
        "                                                  regex=True)\n",
        "df = df[~refer_to_articles]"
      ]
    },
    {
      "cell_type": "code",
      "execution_count": 69,
      "metadata": {
        "colab": {
          "base_uri": "https://localhost:8080/",
          "height": 335
        },
        "id": "woGU1SeHkKKw",
        "outputId": "e060b5d5-9fc4-46e5-a7a9-414eb13bd0d5"
      },
      "outputs": [
        {
          "data": {
            "text/plain": [
              "count    23751.000000\n",
              "mean         0.612055\n",
              "std          0.277431\n",
              "min          0.200065\n",
              "25%          0.365253\n",
              "50%          0.581197\n",
              "75%          0.844174\n",
              "max          1.199732\n",
              "Name: compression_ratio, dtype: float64"
            ]
          },
          "execution_count": 69,
          "metadata": {},
          "output_type": "execute_result"
        }
      ],
      "source": [
        "df[\"compression_ratio\"].describe()"
      ]
    },
    {
      "cell_type": "code",
      "execution_count": 72,
      "metadata": {
        "colab": {
          "base_uri": "https://localhost:8080/"
        },
        "id": "frExTYCBkKKx",
        "outputId": "30fd0a05-77c0-4a74-a8bd-7658f641e6eb"
      },
      "outputs": [
        {
          "name": "stdout",
          "output_type": "stream",
          "text": [
            "Original dataset size: 23751\n",
            "Filtered dataset size: 23749\n",
            "Removed entries: 2\n"
          ]
        }
      ],
      "source": [
        "# minimum length thresholds\n",
        "min_input_words = 10\n",
        "min_target_words = 5\n",
        "\n",
        "min_compression_ratio = 0.2\n",
        "max_compression_ratio = 1.\n",
        "\n",
        "\n",
        "filtered_df = df[\n",
        "    (df['input_text'].str.split().str.len() >= min_input_words) &\n",
        "    (df['target_text'].str.split().str.len() >= min_target_words)\n",
        "    # (df['compression_ratio'] >= min_compression_ratio) &\n",
        "    # (df['compression_ratio'] <= max_compression_ratio)\n",
        "]\n",
        "\n",
        "print(f\"Original dataset size: {len(df)}\")\n",
        "print(f\"Filtered dataset size: {len(filtered_df)}\")\n",
        "print(f\"Removed entries: {len(df) - len(filtered_df)}\")"
      ]
    },
    {
      "cell_type": "code",
      "execution_count": 73,
      "metadata": {
        "colab": {
          "base_uri": "https://localhost:8080/",
          "height": 293
        },
        "id": "8Z-DmycWe6Ht",
        "outputId": "71546ad0-c70d-4007-a023-e6960fda27ec"
      },
      "outputs": [
        {
          "data": {
            "text/html": [
              "<div>\n",
              "<style scoped>\n",
              "    .dataframe tbody tr th:only-of-type {\n",
              "        vertical-align: middle;\n",
              "    }\n",
              "\n",
              "    .dataframe tbody tr th {\n",
              "        vertical-align: top;\n",
              "    }\n",
              "\n",
              "    .dataframe thead th {\n",
              "        text-align: right;\n",
              "    }\n",
              "</style>\n",
              "<table border=\"1\" class=\"dataframe\">\n",
              "  <thead>\n",
              "    <tr style=\"text-align: right;\">\n",
              "      <th></th>\n",
              "      <th>title</th>\n",
              "      <th>input_text</th>\n",
              "      <th>target_text</th>\n",
              "      <th>compression_ratio</th>\n",
              "    </tr>\n",
              "  </thead>\n",
              "  <tbody>\n",
              "    <tr>\n",
              "      <th>385</th>\n",
              "      <td>Zip drive</td>\n",
              "      <td>The Zip drive is a removable floppy disk stora...</td>\n",
              "      <td>The Zip drive is a data storage device. The co...</td>\n",
              "      <td>1.199732</td>\n",
              "    </tr>\n",
              "    <tr>\n",
              "      <th>14029</th>\n",
              "      <td>Tanjong Pagar MRT station</td>\n",
              "      <td>Tanjong Pagar MRT station is an underground Ma...</td>\n",
              "      <td>Tanjong Pagar MRT Station (EW15) is an undergr...</td>\n",
              "      <td>1.199541</td>\n",
              "    </tr>\n",
              "    <tr>\n",
              "      <th>3393</th>\n",
              "      <td>I've Been to the Mountaintop</td>\n",
              "      <td>\"I've Been to the Mountaintop\" is the popular ...</td>\n",
              "      <td>I've Been to the Mountaintop is the name of th...</td>\n",
              "      <td>1.199187</td>\n",
              "    </tr>\n",
              "    <tr>\n",
              "      <th>2102</th>\n",
              "      <td>Carlos Squeo</td>\n",
              "      <td>Carlos Vicente Squeo (4 June 1948 in Dock Sud,...</td>\n",
              "      <td>Carlos Vicente Squeo (4 June 1948 in Dock Sud,...</td>\n",
              "      <td>1.199187</td>\n",
              "    </tr>\n",
              "    <tr>\n",
              "      <th>2712</th>\n",
              "      <td>Fixed-point theorem</td>\n",
              "      <td>In mathematics, a fixed-point theorem is a res...</td>\n",
              "      <td>In mathematics, a fixed-point theorem is a the...</td>\n",
              "      <td>1.199029</td>\n",
              "    </tr>\n",
              "  </tbody>\n",
              "</table>\n",
              "</div>"
            ],
            "text/plain": [
              "                              title  \\\n",
              "385                       Zip drive   \n",
              "14029     Tanjong Pagar MRT station   \n",
              "3393   I've Been to the Mountaintop   \n",
              "2102                   Carlos Squeo   \n",
              "2712            Fixed-point theorem   \n",
              "\n",
              "                                              input_text  \\\n",
              "385    The Zip drive is a removable floppy disk stora...   \n",
              "14029  Tanjong Pagar MRT station is an underground Ma...   \n",
              "3393   \"I've Been to the Mountaintop\" is the popular ...   \n",
              "2102   Carlos Vicente Squeo (4 June 1948 in Dock Sud,...   \n",
              "2712   In mathematics, a fixed-point theorem is a res...   \n",
              "\n",
              "                                             target_text  compression_ratio  \n",
              "385    The Zip drive is a data storage device. The co...           1.199732  \n",
              "14029  Tanjong Pagar MRT Station (EW15) is an undergr...           1.199541  \n",
              "3393   I've Been to the Mountaintop is the name of th...           1.199187  \n",
              "2102   Carlos Vicente Squeo (4 June 1948 in Dock Sud,...           1.199187  \n",
              "2712   In mathematics, a fixed-point theorem is a the...           1.199029  "
            ]
          },
          "execution_count": 73,
          "metadata": {},
          "output_type": "execute_result"
        }
      ],
      "source": [
        "filtered_df.sort_values(\"compression_ratio\", ascending=False).head()"
      ]
    },
    {
      "cell_type": "code",
      "execution_count": 74,
      "metadata": {
        "colab": {
          "base_uri": "https://localhost:8080/",
          "height": 508
        },
        "id": "-qjBXVARkKK4",
        "outputId": "effe48ca-452f-4bcc-d0e2-a5b8961ed685"
      },
      "outputs": [
        {
          "name": "stdout",
          "output_type": "stream",
          "text": [
            "<class 'pandas.core.frame.DataFrame'>\n",
            "Index: 23749 entries, 0 to 38293\n",
            "Data columns (total 4 columns):\n",
            " #   Column             Non-Null Count  Dtype  \n",
            "---  ------             --------------  -----  \n",
            " 0   title              23749 non-null  object \n",
            " 1   input_text         23749 non-null  object \n",
            " 2   target_text        23749 non-null  object \n",
            " 3   compression_ratio  23749 non-null  float64\n",
            "dtypes: float64(1), object(3)\n",
            "memory usage: 927.7+ KB\n",
            "\n"
          ]
        },
        {
          "data": {
            "text/html": [
              "<div>\n",
              "<style scoped>\n",
              "    .dataframe tbody tr th:only-of-type {\n",
              "        vertical-align: middle;\n",
              "    }\n",
              "\n",
              "    .dataframe tbody tr th {\n",
              "        vertical-align: top;\n",
              "    }\n",
              "\n",
              "    .dataframe thead th {\n",
              "        text-align: right;\n",
              "    }\n",
              "</style>\n",
              "<table border=\"1\" class=\"dataframe\">\n",
              "  <thead>\n",
              "    <tr style=\"text-align: right;\">\n",
              "      <th></th>\n",
              "      <th>compression_ratio</th>\n",
              "    </tr>\n",
              "  </thead>\n",
              "  <tbody>\n",
              "    <tr>\n",
              "      <th>count</th>\n",
              "      <td>23749.000000</td>\n",
              "    </tr>\n",
              "    <tr>\n",
              "      <th>mean</th>\n",
              "      <td>0.612022</td>\n",
              "    </tr>\n",
              "    <tr>\n",
              "      <th>std</th>\n",
              "      <td>0.277420</td>\n",
              "    </tr>\n",
              "    <tr>\n",
              "      <th>min</th>\n",
              "      <td>0.200065</td>\n",
              "    </tr>\n",
              "    <tr>\n",
              "      <th>25%</th>\n",
              "      <td>0.365209</td>\n",
              "    </tr>\n",
              "    <tr>\n",
              "      <th>50%</th>\n",
              "      <td>0.581126</td>\n",
              "    </tr>\n",
              "    <tr>\n",
              "      <th>75%</th>\n",
              "      <td>0.844046</td>\n",
              "    </tr>\n",
              "    <tr>\n",
              "      <th>max</th>\n",
              "      <td>1.199732</td>\n",
              "    </tr>\n",
              "  </tbody>\n",
              "</table>\n",
              "</div>"
            ],
            "text/plain": [
              "       compression_ratio\n",
              "count       23749.000000\n",
              "mean            0.612022\n",
              "std             0.277420\n",
              "min             0.200065\n",
              "25%             0.365209\n",
              "50%             0.581126\n",
              "75%             0.844046\n",
              "max             1.199732"
            ]
          },
          "execution_count": 74,
          "metadata": {},
          "output_type": "execute_result"
        }
      ],
      "source": [
        "filtered_df.info()\n",
        "print()\n",
        "filtered_df.describe()"
      ]
    },
    {
      "cell_type": "code",
      "execution_count": 75,
      "metadata": {
        "colab": {
          "base_uri": "https://localhost:8080/"
        },
        "id": "InDbetlFkKK4",
        "outputId": "4e3af1b2-3e6a-47a9-aa7d-c3de94d3bb91"
      },
      "outputs": [
        {
          "name": "stdout",
          "output_type": "stream",
          "text": [
            "Index([15220], dtype='int64')\n",
            "Pouldergat (French pronunciation: [puldɛʁɡat]; Breton: Pouldregad) is a commune in the Finistère department of Brittany in north-western France.\n",
            "----------------------------------------Target Text----------------------------------------\n",
            "Pouldergat (Breton: Pouldregad) is a commune. It is found in the region Brittany in the Finistère department in the northwest of France.\n"
          ]
        }
      ],
      "source": [
        "sample = filtered_df.sample(1)\n",
        "print(sample.index)\n",
        "print(sample[\"input_text\"].values[0])\n",
        "print(\"-\" * 40 + \"Target Text\" + \"-\" * 40)\n",
        "print(sample[\"target_text\"].values[0])"
      ]
    },
    {
      "cell_type": "markdown",
      "metadata": {
        "id": "lsKxs0wNoMP6"
      },
      "source": [
        "Text within parenthesis may contain unicode values like non English charactes. Like Japanese kanji or greek letters.\n",
        "\n",
        "It may be lazy but I'd rather remove the parenthesis and the text within it"
      ]
    },
    {
      "cell_type": "code",
      "execution_count": 76,
      "metadata": {
        "colab": {
          "base_uri": "https://localhost:8080/"
        },
        "id": "QGjtn_qloMP6",
        "outputId": "e67347df-39ef-4eb1-b99a-bcffdb17365a"
      },
      "outputs": [
        {
          "name": "stderr",
          "output_type": "stream",
          "text": [
            "/tmp/ipykernel_85996/1992106834.py:7: SettingWithCopyWarning: \n",
            "A value is trying to be set on a copy of a slice from a DataFrame.\n",
            "Try using .loc[row_indexer,col_indexer] = value instead\n",
            "\n",
            "See the caveats in the documentation: https://pandas.pydata.org/pandas-docs/stable/user_guide/indexing.html#returning-a-view-versus-a-copy\n",
            "  filtered_df[\"input_text\"] = filtered_df[\"input_text\"].apply(\n",
            "/tmp/ipykernel_85996/1992106834.py:9: SettingWithCopyWarning: \n",
            "A value is trying to be set on a copy of a slice from a DataFrame.\n",
            "Try using .loc[row_indexer,col_indexer] = value instead\n",
            "\n",
            "See the caveats in the documentation: https://pandas.pydata.org/pandas-docs/stable/user_guide/indexing.html#returning-a-view-versus-a-copy\n",
            "  filtered_df[\"target_text\"] = filtered_df[\"target_text\"].apply(\n"
          ]
        }
      ],
      "source": [
        "# find contents within parentheses\n",
        "def rm_parentheses_content(text):\n",
        "    return re.sub(r\"\\([^)]*\\)\", \"\", text)\n",
        "\n",
        "\n",
        "# remove them\n",
        "filtered_df[\"input_text\"] = filtered_df[\"input_text\"].apply(\n",
        "    rm_parentheses_content)\n",
        "filtered_df[\"target_text\"] = filtered_df[\"target_text\"].apply(\n",
        "    rm_parentheses_content)"
      ]
    },
    {
      "cell_type": "code",
      "execution_count": 77,
      "metadata": {
        "colab": {
          "base_uri": "https://localhost:8080/",
          "height": 597
        },
        "id": "lFzG1CW_oMP7",
        "outputId": "eb1a6216-7a5c-44b9-c343-15dabc4df0ba"
      },
      "outputs": [
        {
          "data": {
            "text/html": [
              "<div>\n",
              "<style scoped>\n",
              "    .dataframe tbody tr th:only-of-type {\n",
              "        vertical-align: middle;\n",
              "    }\n",
              "\n",
              "    .dataframe tbody tr th {\n",
              "        vertical-align: top;\n",
              "    }\n",
              "\n",
              "    .dataframe thead th {\n",
              "        text-align: right;\n",
              "    }\n",
              "</style>\n",
              "<table border=\"1\" class=\"dataframe\">\n",
              "  <thead>\n",
              "    <tr style=\"text-align: right;\">\n",
              "      <th></th>\n",
              "      <th>title</th>\n",
              "      <th>input_text</th>\n",
              "      <th>target_text</th>\n",
              "      <th>compression_ratio</th>\n",
              "    </tr>\n",
              "  </thead>\n",
              "  <tbody>\n",
              "    <tr>\n",
              "      <th>0</th>\n",
              "      <td>Johan August Arfwedson</td>\n",
              "      <td>Johan August Arfwedson  was a  Swedish chemist...</td>\n",
              "      <td>Johan August Arfwedson  was a Swedish chemist....</td>\n",
              "      <td>0.862500</td>\n",
              "    </tr>\n",
              "    <tr>\n",
              "      <th>1</th>\n",
              "      <td>Kokarit frog</td>\n",
              "      <td>Humerana lateralis is a species of frog in the...</td>\n",
              "      <td>The Kokarit frog, meng-yang frog, yellow frog,...</td>\n",
              "      <td>0.241987</td>\n",
              "    </tr>\n",
              "    <tr>\n",
              "      <th>2</th>\n",
              "      <td>Moundou</td>\n",
              "      <td>Moundou  is the second-largest city in Chad an...</td>\n",
              "      <td>Moundou is the capital of the Logone Occidenta...</td>\n",
              "      <td>0.617577</td>\n",
              "    </tr>\n",
              "    <tr>\n",
              "      <th>3</th>\n",
              "      <td>Kamrieng District</td>\n",
              "      <td>Kamrieng  is a district  of Battambang provinc...</td>\n",
              "      <td>Kamrieng District  is a district  of Battamban...</td>\n",
              "      <td>1.094737</td>\n",
              "    </tr>\n",
              "    <tr>\n",
              "      <th>6</th>\n",
              "      <td>Lone Rock, Iowa</td>\n",
              "      <td>Lone Rock is a city in Kossuth County, Iowa, U...</td>\n",
              "      <td>Lone Rock is a city in Iowa in the United States.</td>\n",
              "      <td>0.230047</td>\n",
              "    </tr>\n",
              "    <tr>\n",
              "      <th>...</th>\n",
              "      <td>...</td>\n",
              "      <td>...</td>\n",
              "      <td>...</td>\n",
              "      <td>...</td>\n",
              "    </tr>\n",
              "    <tr>\n",
              "      <th>38288</th>\n",
              "      <td>Shabestar</td>\n",
              "      <td>Shabestar  is a city in the Central District o...</td>\n",
              "      <td>Shabestar  is a city and is the capital of Sha...</td>\n",
              "      <td>0.461874</td>\n",
              "    </tr>\n",
              "    <tr>\n",
              "      <th>38290</th>\n",
              "      <td>Jack Garfein</td>\n",
              "      <td>Jakob Garfein  was an American film and theatr...</td>\n",
              "      <td>Jack Garfein  was an American director and act...</td>\n",
              "      <td>0.426441</td>\n",
              "    </tr>\n",
              "    <tr>\n",
              "      <th>38291</th>\n",
              "      <td>Balinghem</td>\n",
              "      <td>Balinghem  is a commune in the Pas-de-Calais d...</td>\n",
              "      <td>Balinghem is a commune. It is found in the reg...</td>\n",
              "      <td>0.870504</td>\n",
              "    </tr>\n",
              "    <tr>\n",
              "      <th>38292</th>\n",
              "      <td>Limony</td>\n",
              "      <td>Limony  is a commune in the Ardèche department...</td>\n",
              "      <td>Limony  is a commune in the Ardèche départemen...</td>\n",
              "      <td>0.582609</td>\n",
              "    </tr>\n",
              "    <tr>\n",
              "      <th>38293</th>\n",
              "      <td>Cuxac-Cabardès</td>\n",
              "      <td>Cuxac-Cabardès  is a commune in the Aude depar...</td>\n",
              "      <td>Cuxac-Cabardès is a commune of 911 people . It...</td>\n",
              "      <td>0.887324</td>\n",
              "    </tr>\n",
              "  </tbody>\n",
              "</table>\n",
              "<p>23749 rows × 4 columns</p>\n",
              "</div>"
            ],
            "text/plain": [
              "                        title  \\\n",
              "0      Johan August Arfwedson   \n",
              "1                Kokarit frog   \n",
              "2                     Moundou   \n",
              "3           Kamrieng District   \n",
              "6             Lone Rock, Iowa   \n",
              "...                       ...   \n",
              "38288               Shabestar   \n",
              "38290            Jack Garfein   \n",
              "38291               Balinghem   \n",
              "38292                  Limony   \n",
              "38293          Cuxac-Cabardès   \n",
              "\n",
              "                                              input_text  \\\n",
              "0      Johan August Arfwedson  was a  Swedish chemist...   \n",
              "1      Humerana lateralis is a species of frog in the...   \n",
              "2      Moundou  is the second-largest city in Chad an...   \n",
              "3      Kamrieng  is a district  of Battambang provinc...   \n",
              "6      Lone Rock is a city in Kossuth County, Iowa, U...   \n",
              "...                                                  ...   \n",
              "38288  Shabestar  is a city in the Central District o...   \n",
              "38290  Jakob Garfein  was an American film and theatr...   \n",
              "38291  Balinghem  is a commune in the Pas-de-Calais d...   \n",
              "38292  Limony  is a commune in the Ardèche department...   \n",
              "38293  Cuxac-Cabardès  is a commune in the Aude depar...   \n",
              "\n",
              "                                             target_text  compression_ratio  \n",
              "0      Johan August Arfwedson  was a Swedish chemist....           0.862500  \n",
              "1      The Kokarit frog, meng-yang frog, yellow frog,...           0.241987  \n",
              "2      Moundou is the capital of the Logone Occidenta...           0.617577  \n",
              "3      Kamrieng District  is a district  of Battamban...           1.094737  \n",
              "6      Lone Rock is a city in Iowa in the United States.           0.230047  \n",
              "...                                                  ...                ...  \n",
              "38288  Shabestar  is a city and is the capital of Sha...           0.461874  \n",
              "38290  Jack Garfein  was an American director and act...           0.426441  \n",
              "38291  Balinghem is a commune. It is found in the reg...           0.870504  \n",
              "38292  Limony  is a commune in the Ardèche départemen...           0.582609  \n",
              "38293  Cuxac-Cabardès is a commune of 911 people . It...           0.887324  \n",
              "\n",
              "[23749 rows x 4 columns]"
            ]
          },
          "execution_count": 77,
          "metadata": {},
          "output_type": "execute_result"
        }
      ],
      "source": [
        "filtered_df"
      ]
    },
    {
      "cell_type": "code",
      "execution_count": 78,
      "metadata": {
        "colab": {
          "base_uri": "https://localhost:8080/"
        },
        "id": "p_ET1FuLks6Z",
        "outputId": "c05821fa-b0cb-471a-de1c-a72ee194fe5e"
      },
      "outputs": [
        {
          "name": "stdout",
          "output_type": "stream",
          "text": [
            "Note: you may need to restart the kernel to use updated packages.\n"
          ]
        }
      ],
      "source": [
        "%pip install -q textstat rouge"
      ]
    },
    {
      "cell_type": "code",
      "execution_count": 79,
      "metadata": {},
      "outputs": [],
      "source": [
        "from textstat import textstat\n",
        "from rouge import Rouge"
      ]
    },
    {
      "cell_type": "code",
      "execution_count": 80,
      "metadata": {},
      "outputs": [
        {
          "name": "stderr",
          "output_type": "stream",
          "text": [
            "/tmp/ipykernel_85996/3904329003.py:2: SettingWithCopyWarning: \n",
            "A value is trying to be set on a copy of a slice from a DataFrame.\n",
            "Try using .loc[row_indexer,col_indexer] = value instead\n",
            "\n",
            "See the caveats in the documentation: https://pandas.pydata.org/pandas-docs/stable/user_guide/indexing.html#returning-a-view-versus-a-copy\n",
            "  filtered_df['readability_score'] = filtered_df['target_text'].apply(\n"
          ]
        }
      ],
      "source": [
        "# calculate readability score\n",
        "filtered_df['readability_score'] = filtered_df['target_text'].apply(\n",
        "    textstat.flesch_reading_ease)"
      ]
    },
    {
      "cell_type": "code",
      "execution_count": null,
      "metadata": {
        "colab": {
          "base_uri": "https://localhost:8080/",
          "height": 955
        },
        "id": "n3fje7XmkKK4",
        "outputId": "a29a56e5-e678-4926-c7f4-fbea46bb3ce9"
      },
      "outputs": [
        {
          "name": "stderr",
          "output_type": "stream",
          "text": [
            "<ipython-input-43-52d23af727b7>:5: SettingWithCopyWarning: \n",
            "A value is trying to be set on a copy of a slice from a DataFrame.\n",
            "Try using .loc[row_indexer,col_indexer] = value instead\n",
            "\n",
            "See the caveats in the documentation: https://pandas.pydata.org/pandas-docs/stable/user_guide/indexing.html#returning-a-view-versus-a-copy\n",
            "  filtered_df['readability_score'] = filtered_df['target_text'].apply(\n",
            "<ipython-input-43-52d23af727b7>:17: SettingWithCopyWarning: \n",
            "A value is trying to be set on a copy of a slice from a DataFrame.\n",
            "Try using .loc[row_indexer,col_indexer] = value instead\n",
            "\n",
            "See the caveats in the documentation: https://pandas.pydata.org/pandas-docs/stable/user_guide/indexing.html#returning-a-view-versus-a-copy\n",
            "  filtered_df[['rouge-1', 'rouge-2', 'rouge-l']\n",
            "<ipython-input-43-52d23af727b7>:17: SettingWithCopyWarning: \n",
            "A value is trying to be set on a copy of a slice from a DataFrame.\n",
            "Try using .loc[row_indexer,col_indexer] = value instead\n",
            "\n",
            "See the caveats in the documentation: https://pandas.pydata.org/pandas-docs/stable/user_guide/indexing.html#returning-a-view-versus-a-copy\n",
            "  filtered_df[['rouge-1', 'rouge-2', 'rouge-l']\n",
            "<ipython-input-43-52d23af727b7>:17: SettingWithCopyWarning: \n",
            "A value is trying to be set on a copy of a slice from a DataFrame.\n",
            "Try using .loc[row_indexer,col_indexer] = value instead\n",
            "\n",
            "See the caveats in the documentation: https://pandas.pydata.org/pandas-docs/stable/user_guide/indexing.html#returning-a-view-versus-a-copy\n",
            "  filtered_df[['rouge-1', 'rouge-2', 'rouge-l']\n"
          ]
        },
        {
          "data": {
            "application/vnd.google.colaboratory.intrinsic+json": {
              "summary": "{\n  \"name\": \"filtered_df\",\n  \"rows\": 9544,\n  \"fields\": [\n    {\n      \"column\": \"title\",\n      \"properties\": {\n        \"dtype\": \"string\",\n        \"num_unique_values\": 9494,\n        \"samples\": [\n          \"Wendy Davis (politician)\",\n          \"Gadjo\",\n          \"COVID-19 pandemic in Bhutan\"\n        ],\n        \"semantic_type\": \"\",\n        \"description\": \"\"\n      }\n    },\n    {\n      \"column\": \"input_text\",\n      \"properties\": {\n        \"dtype\": \"string\",\n        \"num_unique_values\": 9536,\n        \"samples\": [\n          \"Ryoichi Kurisawa  is a Japanese football manager, he is the currently assistant head coach for J1 League club Kashiwa Reysol and former player.\",\n          \"Down Mexico Way is a 1941 American western film directed by Joseph Santley and starring Gene Autry, Smiley Burnette, and Fay McKenzie. Based on a story by Dorrell and Stuart E. McGowan, the film is about a singing cowboy who comes to the aid of the townspeople of Sage City who are victims of a nefarious scam.\\n\",\n          \"Ren\\u00e9-Robert Cavelier, Sieur de La Salle , was a 17th-century French explorer and fur trader in North America. He explored the Great Lakes region of the United States and Canada, and the Mississippi River. He is best known for an early 1682 expedition in which he canoed the lower Mississippi River from the mouth of the Illinois River to the Gulf of Mexico; there, on 9 April 1682, he claimed the Mississippi River basin for France after giving it the name La Louisiane, in honor of Saint Louis and Louis XIV. One source states that \\\"he acquired for France the most fertile half of the North American continent\\\". A later ill-fated expedition to the Gulf coast of Mexico  gave the United States a claim to Texas in the purchase of the Louisiana Territory from France in 1803. La Salle was assassinated \\nin 1687 during that expedition.\\nAlthough Joliet and Marquette preceded him on the upper Mississippi in their journey of 1673\\u201374, La Salle extended exploration, and France's claims, all the way to the river's mouth, while the existing historical evidence does not indicate that La Salle ever reached the Ohio/Allegheny Valley.\\n\"\n        ],\n        \"semantic_type\": \"\",\n        \"description\": \"\"\n      }\n    },\n    {\n      \"column\": \"target_text\",\n      \"properties\": {\n        \"dtype\": \"string\",\n        \"num_unique_values\": 9494,\n        \"samples\": [\n          \"Wendy Russell Davis  is an American lawyer and  Democratic politician. She was born in West Warwick, Rhode Island, but was raised in Fort Worth, Texas.\\nDavis represented District 10 in the Texas Senate from 2009 to 2015. She previously served on the Fort Worth City Council.\\nDavis ran for the office of Governor of Texas in the 2014 election but lost to Greg Abbott with 59-38 percent.\",\n          \"In Romani culture, a gadjo  or gadji  is a person who has no Romanipen. This usually corresponds to not being an ethnic Romani, but it can also be an ethnic Romani who does not live within Romani culture. It is often used by Roma people to address or denote outsider neighbors living within or very near their community.\",\n          \"The COVID-19 pandemic was confirmed to have reached Bhutan on 6 March 2020.\\nOn 6 March 2020, Bhutan confirmed its first COVID-19 case, a 76-year-old US male who travelled to the country through India. \\nAround 90 people who came directly in contact with him, along with his 59-year-old partner, driver, and guide were quarantined.\\nFarmers reported large increases in sales, as Bhutanese buy local produce, due to facing import hurdles.\\nAll schools were closed countrywide, leaving almost 190,000 students to attend classes online. Printed study material were given to students that do not have access to the internet, in addition to radio broadcasts.\\nBhutan Airlines suspended all flights, leaving only Druk Air to provide air transport to and from Bhutan. As of March 23, only one tourist was still remaining in the country.\"\n        ],\n        \"semantic_type\": \"\",\n        \"description\": \"\"\n      }\n    },\n    {\n      \"column\": \"compression_ratio\",\n      \"properties\": {\n        \"dtype\": \"number\",\n        \"std\": 0.23919476274328264,\n        \"min\": 0.20011210762331838,\n        \"max\": 1.0,\n        \"num_unique_values\": 8479,\n        \"samples\": [\n          0.967828418230563,\n          0.20219123505976094,\n          0.5095541401273885\n        ],\n        \"semantic_type\": \"\",\n        \"description\": \"\"\n      }\n    },\n    {\n      \"column\": \"readability_score\",\n      \"properties\": {\n        \"dtype\": \"number\",\n        \"std\": 18.191804601216,\n        \"min\": -48.99,\n        \"max\": 109.04,\n        \"num_unique_values\": 1431,\n        \"samples\": [\n          80.78,\n          -35.8,\n          63.09\n        ],\n        \"semantic_type\": \"\",\n        \"description\": \"\"\n      }\n    },\n    {\n      \"column\": \"rouge-1\",\n      \"properties\": {\n        \"dtype\": \"number\",\n        \"std\": 0.21078165729176992,\n        \"min\": 0.07100591373971515,\n        \"max\": 0.999999995,\n        \"num_unique_values\": 7621,\n        \"samples\": [\n          0.3622047194122389,\n          0.17187499525665298,\n          0.6147540935088015\n        ],\n        \"semantic_type\": \"\",\n        \"description\": \"\"\n      }\n    },\n    {\n      \"column\": \"rouge-2\",\n      \"properties\": {\n        \"dtype\": \"number\",\n        \"std\": 0.2367110322404854,\n        \"min\": 0.0,\n        \"max\": 0.999999995,\n        \"num_unique_values\": 8202,\n        \"samples\": [\n          0.2111111061413581,\n          0.05223880197259999,\n          0.38999999545\n        ],\n        \"semantic_type\": \"\",\n        \"description\": \"\"\n      }\n    },\n    {\n      \"column\": \"rouge-l\",\n      \"properties\": {\n        \"dtype\": \"number\",\n        \"std\": 0.2115821976662293,\n        \"min\": 0.07100591373971515,\n        \"max\": 0.999999995,\n        \"num_unique_values\": 7673,\n        \"samples\": [\n          0.34234233831669514,\n          0.49999999558109504,\n          0.26190475718820866\n        ],\n        \"semantic_type\": \"\",\n        \"description\": \"\"\n      }\n    }\n  ]\n}",
              "type": "dataframe",
              "variable_name": "filtered_df"
            },
            "text/html": [
              "\n",
              "  <div id=\"df-907247b0-e473-47f5-b58d-d7a4643b5c85\" class=\"colab-df-container\">\n",
              "    <div>\n",
              "<style scoped>\n",
              "    .dataframe tbody tr th:only-of-type {\n",
              "        vertical-align: middle;\n",
              "    }\n",
              "\n",
              "    .dataframe tbody tr th {\n",
              "        vertical-align: top;\n",
              "    }\n",
              "\n",
              "    .dataframe thead th {\n",
              "        text-align: right;\n",
              "    }\n",
              "</style>\n",
              "<table border=\"1\" class=\"dataframe\">\n",
              "  <thead>\n",
              "    <tr style=\"text-align: right;\">\n",
              "      <th></th>\n",
              "      <th>title</th>\n",
              "      <th>input_text</th>\n",
              "      <th>target_text</th>\n",
              "      <th>compression_ratio</th>\n",
              "      <th>readability_score</th>\n",
              "      <th>rouge-1</th>\n",
              "      <th>rouge-2</th>\n",
              "      <th>rouge-l</th>\n",
              "    </tr>\n",
              "  </thead>\n",
              "  <tbody>\n",
              "    <tr>\n",
              "      <th>0</th>\n",
              "      <td>Johan August Arfwedson</td>\n",
              "      <td>Johan August Arfwedson  was a  Swedish chemist...</td>\n",
              "      <td>Johan August Arfwedson  was a Swedish chemist....</td>\n",
              "      <td>0.862500</td>\n",
              "      <td>53.88</td>\n",
              "      <td>0.864865</td>\n",
              "      <td>0.756757</td>\n",
              "      <td>0.864865</td>\n",
              "    </tr>\n",
              "    <tr>\n",
              "      <th>1</th>\n",
              "      <td>Kokarit frog</td>\n",
              "      <td>Humerana lateralis is a species of frog in the...</td>\n",
              "      <td>The Kokarit frog, meng-yang frog, yellow frog,...</td>\n",
              "      <td>0.241987</td>\n",
              "      <td>58.62</td>\n",
              "      <td>0.224719</td>\n",
              "      <td>0.051282</td>\n",
              "      <td>0.224719</td>\n",
              "    </tr>\n",
              "    <tr>\n",
              "      <th>2</th>\n",
              "      <td>Moundou</td>\n",
              "      <td>Moundou  is the second-largest city in Chad an...</td>\n",
              "      <td>Moundou is the capital of the Logone Occidenta...</td>\n",
              "      <td>0.617577</td>\n",
              "      <td>86.71</td>\n",
              "      <td>0.538462</td>\n",
              "      <td>0.333333</td>\n",
              "      <td>0.538462</td>\n",
              "    </tr>\n",
              "    <tr>\n",
              "      <th>6</th>\n",
              "      <td>Lone Rock, Iowa</td>\n",
              "      <td>Lone Rock is a city in Kossuth County, Iowa, U...</td>\n",
              "      <td>Lone Rock is a city in Iowa in the United States.</td>\n",
              "      <td>0.230047</td>\n",
              "      <td>68.77</td>\n",
              "      <td>0.465116</td>\n",
              "      <td>0.285714</td>\n",
              "      <td>0.465116</td>\n",
              "    </tr>\n",
              "    <tr>\n",
              "      <th>8</th>\n",
              "      <td>Japan Mint</td>\n",
              "      <td>The Japan Mint  is an Independent Administrati...</td>\n",
              "      <td>The Japan Mint  is an Incorporated Administrat...</td>\n",
              "      <td>0.628272</td>\n",
              "      <td>43.69</td>\n",
              "      <td>0.470588</td>\n",
              "      <td>0.303797</td>\n",
              "      <td>0.470588</td>\n",
              "    </tr>\n",
              "  </tbody>\n",
              "</table>\n",
              "</div>\n",
              "    <div class=\"colab-df-buttons\">\n",
              "\n",
              "  <div class=\"colab-df-container\">\n",
              "    <button class=\"colab-df-convert\" onclick=\"convertToInteractive('df-907247b0-e473-47f5-b58d-d7a4643b5c85')\"\n",
              "            title=\"Convert this dataframe to an interactive table.\"\n",
              "            style=\"display:none;\">\n",
              "\n",
              "  <svg xmlns=\"http://www.w3.org/2000/svg\" height=\"24px\" viewBox=\"0 -960 960 960\">\n",
              "    <path d=\"M120-120v-720h720v720H120Zm60-500h600v-160H180v160Zm220 220h160v-160H400v160Zm0 220h160v-160H400v160ZM180-400h160v-160H180v160Zm440 0h160v-160H620v160ZM180-180h160v-160H180v160Zm440 0h160v-160H620v160Z\"/>\n",
              "  </svg>\n",
              "    </button>\n",
              "\n",
              "  <style>\n",
              "    .colab-df-container {\n",
              "      display:flex;\n",
              "      gap: 12px;\n",
              "    }\n",
              "\n",
              "    .colab-df-convert {\n",
              "      background-color: #E8F0FE;\n",
              "      border: none;\n",
              "      border-radius: 50%;\n",
              "      cursor: pointer;\n",
              "      display: none;\n",
              "      fill: #1967D2;\n",
              "      height: 32px;\n",
              "      padding: 0 0 0 0;\n",
              "      width: 32px;\n",
              "    }\n",
              "\n",
              "    .colab-df-convert:hover {\n",
              "      background-color: #E2EBFA;\n",
              "      box-shadow: 0px 1px 2px rgba(60, 64, 67, 0.3), 0px 1px 3px 1px rgba(60, 64, 67, 0.15);\n",
              "      fill: #174EA6;\n",
              "    }\n",
              "\n",
              "    .colab-df-buttons div {\n",
              "      margin-bottom: 4px;\n",
              "    }\n",
              "\n",
              "    [theme=dark] .colab-df-convert {\n",
              "      background-color: #3B4455;\n",
              "      fill: #D2E3FC;\n",
              "    }\n",
              "\n",
              "    [theme=dark] .colab-df-convert:hover {\n",
              "      background-color: #434B5C;\n",
              "      box-shadow: 0px 1px 3px 1px rgba(0, 0, 0, 0.15);\n",
              "      filter: drop-shadow(0px 1px 2px rgba(0, 0, 0, 0.3));\n",
              "      fill: #FFFFFF;\n",
              "    }\n",
              "  </style>\n",
              "\n",
              "    <script>\n",
              "      const buttonEl =\n",
              "        document.querySelector('#df-907247b0-e473-47f5-b58d-d7a4643b5c85 button.colab-df-convert');\n",
              "      buttonEl.style.display =\n",
              "        google.colab.kernel.accessAllowed ? 'block' : 'none';\n",
              "\n",
              "      async function convertToInteractive(key) {\n",
              "        const element = document.querySelector('#df-907247b0-e473-47f5-b58d-d7a4643b5c85');\n",
              "        const dataTable =\n",
              "          await google.colab.kernel.invokeFunction('convertToInteractive',\n",
              "                                                    [key], {});\n",
              "        if (!dataTable) return;\n",
              "\n",
              "        const docLinkHtml = 'Like what you see? Visit the ' +\n",
              "          '<a target=\"_blank\" href=https://colab.research.google.com/notebooks/data_table.ipynb>data table notebook</a>'\n",
              "          + ' to learn more about interactive tables.';\n",
              "        element.innerHTML = '';\n",
              "        dataTable['output_type'] = 'display_data';\n",
              "        await google.colab.output.renderOutput(dataTable, element);\n",
              "        const docLink = document.createElement('div');\n",
              "        docLink.innerHTML = docLinkHtml;\n",
              "        element.appendChild(docLink);\n",
              "      }\n",
              "    </script>\n",
              "  </div>\n",
              "\n",
              "\n",
              "<div id=\"df-4c285d05-0dca-4fcc-bcd6-f7e9232adeea\">\n",
              "  <button class=\"colab-df-quickchart\" onclick=\"quickchart('df-4c285d05-0dca-4fcc-bcd6-f7e9232adeea')\"\n",
              "            title=\"Suggest charts\"\n",
              "            style=\"display:none;\">\n",
              "\n",
              "<svg xmlns=\"http://www.w3.org/2000/svg\" height=\"24px\"viewBox=\"0 0 24 24\"\n",
              "     width=\"24px\">\n",
              "    <g>\n",
              "        <path d=\"M19 3H5c-1.1 0-2 .9-2 2v14c0 1.1.9 2 2 2h14c1.1 0 2-.9 2-2V5c0-1.1-.9-2-2-2zM9 17H7v-7h2v7zm4 0h-2V7h2v10zm4 0h-2v-4h2v4z\"/>\n",
              "    </g>\n",
              "</svg>\n",
              "  </button>\n",
              "\n",
              "<style>\n",
              "  .colab-df-quickchart {\n",
              "      --bg-color: #E8F0FE;\n",
              "      --fill-color: #1967D2;\n",
              "      --hover-bg-color: #E2EBFA;\n",
              "      --hover-fill-color: #174EA6;\n",
              "      --disabled-fill-color: #AAA;\n",
              "      --disabled-bg-color: #DDD;\n",
              "  }\n",
              "\n",
              "  [theme=dark] .colab-df-quickchart {\n",
              "      --bg-color: #3B4455;\n",
              "      --fill-color: #D2E3FC;\n",
              "      --hover-bg-color: #434B5C;\n",
              "      --hover-fill-color: #FFFFFF;\n",
              "      --disabled-bg-color: #3B4455;\n",
              "      --disabled-fill-color: #666;\n",
              "  }\n",
              "\n",
              "  .colab-df-quickchart {\n",
              "    background-color: var(--bg-color);\n",
              "    border: none;\n",
              "    border-radius: 50%;\n",
              "    cursor: pointer;\n",
              "    display: none;\n",
              "    fill: var(--fill-color);\n",
              "    height: 32px;\n",
              "    padding: 0;\n",
              "    width: 32px;\n",
              "  }\n",
              "\n",
              "  .colab-df-quickchart:hover {\n",
              "    background-color: var(--hover-bg-color);\n",
              "    box-shadow: 0 1px 2px rgba(60, 64, 67, 0.3), 0 1px 3px 1px rgba(60, 64, 67, 0.15);\n",
              "    fill: var(--button-hover-fill-color);\n",
              "  }\n",
              "\n",
              "  .colab-df-quickchart-complete:disabled,\n",
              "  .colab-df-quickchart-complete:disabled:hover {\n",
              "    background-color: var(--disabled-bg-color);\n",
              "    fill: var(--disabled-fill-color);\n",
              "    box-shadow: none;\n",
              "  }\n",
              "\n",
              "  .colab-df-spinner {\n",
              "    border: 2px solid var(--fill-color);\n",
              "    border-color: transparent;\n",
              "    border-bottom-color: var(--fill-color);\n",
              "    animation:\n",
              "      spin 1s steps(1) infinite;\n",
              "  }\n",
              "\n",
              "  @keyframes spin {\n",
              "    0% {\n",
              "      border-color: transparent;\n",
              "      border-bottom-color: var(--fill-color);\n",
              "      border-left-color: var(--fill-color);\n",
              "    }\n",
              "    20% {\n",
              "      border-color: transparent;\n",
              "      border-left-color: var(--fill-color);\n",
              "      border-top-color: var(--fill-color);\n",
              "    }\n",
              "    30% {\n",
              "      border-color: transparent;\n",
              "      border-left-color: var(--fill-color);\n",
              "      border-top-color: var(--fill-color);\n",
              "      border-right-color: var(--fill-color);\n",
              "    }\n",
              "    40% {\n",
              "      border-color: transparent;\n",
              "      border-right-color: var(--fill-color);\n",
              "      border-top-color: var(--fill-color);\n",
              "    }\n",
              "    60% {\n",
              "      border-color: transparent;\n",
              "      border-right-color: var(--fill-color);\n",
              "    }\n",
              "    80% {\n",
              "      border-color: transparent;\n",
              "      border-right-color: var(--fill-color);\n",
              "      border-bottom-color: var(--fill-color);\n",
              "    }\n",
              "    90% {\n",
              "      border-color: transparent;\n",
              "      border-bottom-color: var(--fill-color);\n",
              "    }\n",
              "  }\n",
              "</style>\n",
              "\n",
              "  <script>\n",
              "    async function quickchart(key) {\n",
              "      const quickchartButtonEl =\n",
              "        document.querySelector('#' + key + ' button');\n",
              "      quickchartButtonEl.disabled = true;  // To prevent multiple clicks.\n",
              "      quickchartButtonEl.classList.add('colab-df-spinner');\n",
              "      try {\n",
              "        const charts = await google.colab.kernel.invokeFunction(\n",
              "            'suggestCharts', [key], {});\n",
              "      } catch (error) {\n",
              "        console.error('Error during call to suggestCharts:', error);\n",
              "      }\n",
              "      quickchartButtonEl.classList.remove('colab-df-spinner');\n",
              "      quickchartButtonEl.classList.add('colab-df-quickchart-complete');\n",
              "    }\n",
              "    (() => {\n",
              "      let quickchartButtonEl =\n",
              "        document.querySelector('#df-4c285d05-0dca-4fcc-bcd6-f7e9232adeea button');\n",
              "      quickchartButtonEl.style.display =\n",
              "        google.colab.kernel.accessAllowed ? 'block' : 'none';\n",
              "    })();\n",
              "  </script>\n",
              "</div>\n",
              "\n",
              "    </div>\n",
              "  </div>\n"
            ],
            "text/plain": [
              "                    title                                         input_text  \\\n",
              "0  Johan August Arfwedson  Johan August Arfwedson  was a  Swedish chemist...   \n",
              "1            Kokarit frog  Humerana lateralis is a species of frog in the...   \n",
              "2                 Moundou  Moundou  is the second-largest city in Chad an...   \n",
              "6         Lone Rock, Iowa  Lone Rock is a city in Kossuth County, Iowa, U...   \n",
              "8              Japan Mint  The Japan Mint  is an Independent Administrati...   \n",
              "\n",
              "                                         target_text  compression_ratio  \\\n",
              "0  Johan August Arfwedson  was a Swedish chemist....           0.862500   \n",
              "1  The Kokarit frog, meng-yang frog, yellow frog,...           0.241987   \n",
              "2  Moundou is the capital of the Logone Occidenta...           0.617577   \n",
              "6  Lone Rock is a city in Iowa in the United States.           0.230047   \n",
              "8  The Japan Mint  is an Incorporated Administrat...           0.628272   \n",
              "\n",
              "   readability_score   rouge-1   rouge-2   rouge-l  \n",
              "0              53.88  0.864865  0.756757  0.864865  \n",
              "1              58.62  0.224719  0.051282  0.224719  \n",
              "2              86.71  0.538462  0.333333  0.538462  \n",
              "6              68.77  0.465116  0.285714  0.465116  \n",
              "8              43.69  0.470588  0.303797  0.470588  "
            ]
          },
          "execution_count": 43,
          "metadata": {},
          "output_type": "execute_result"
        }
      ],
      "source": [
        "# calculating ROUGE scores\n",
        "rouge = Rouge()\n",
        "\n",
        "\n",
        "def calculate_rouge(row):\n",
        "    scores = rouge.get_scores(row['target_text'], row['input_text'])[0]\n",
        "    return scores['rouge-1']['f'], scores['rouge-2']['f'], scores['rouge-l']['f']\n",
        "\n",
        "\n",
        "filtered_df[['rouge-1', 'rouge-2', 'rouge-l']\n",
        "            ] = filtered_df.apply(calculate_rouge, axis=1, result_type='expand')\n",
        "\n",
        "filtered_df.head()"
      ]
    },
    {
      "cell_type": "code",
      "execution_count": 81,
      "metadata": {
        "id": "4dIF32i_fwM0"
      },
      "outputs": [],
      "source": [
        "min_readability_score = 40\n",
        "\n",
        "filtered_df = filtered_df[\n",
        "    (filtered_df['readability_score'] >= min_readability_score)\n",
        "]"
      ]
    },
    {
      "cell_type": "code",
      "execution_count": 82,
      "metadata": {},
      "outputs": [
        {
          "name": "stdout",
          "output_type": "stream",
          "text": [
            "<class 'pandas.core.frame.DataFrame'>\n",
            "Index: 22214 entries, 0 to 38293\n",
            "Data columns (total 5 columns):\n",
            " #   Column             Non-Null Count  Dtype  \n",
            "---  ------             --------------  -----  \n",
            " 0   title              22214 non-null  object \n",
            " 1   input_text         22214 non-null  object \n",
            " 2   target_text        22214 non-null  object \n",
            " 3   compression_ratio  22214 non-null  float64\n",
            " 4   readability_score  22214 non-null  float64\n",
            "dtypes: float64(2), object(3)\n",
            "memory usage: 1.0+ MB\n"
          ]
        },
        {
          "data": {
            "text/html": [
              "<div>\n",
              "<style scoped>\n",
              "    .dataframe tbody tr th:only-of-type {\n",
              "        vertical-align: middle;\n",
              "    }\n",
              "\n",
              "    .dataframe tbody tr th {\n",
              "        vertical-align: top;\n",
              "    }\n",
              "\n",
              "    .dataframe thead th {\n",
              "        text-align: right;\n",
              "    }\n",
              "</style>\n",
              "<table border=\"1\" class=\"dataframe\">\n",
              "  <thead>\n",
              "    <tr style=\"text-align: right;\">\n",
              "      <th></th>\n",
              "      <th>title</th>\n",
              "      <th>input_text</th>\n",
              "      <th>target_text</th>\n",
              "      <th>compression_ratio</th>\n",
              "      <th>readability_score</th>\n",
              "    </tr>\n",
              "  </thead>\n",
              "  <tbody>\n",
              "    <tr>\n",
              "      <th>0</th>\n",
              "      <td>Johan August Arfwedson</td>\n",
              "      <td>Johan August Arfwedson  was a  Swedish chemist...</td>\n",
              "      <td>Johan August Arfwedson  was a Swedish chemist....</td>\n",
              "      <td>0.862500</td>\n",
              "      <td>70.80</td>\n",
              "    </tr>\n",
              "    <tr>\n",
              "      <th>1</th>\n",
              "      <td>Kokarit frog</td>\n",
              "      <td>Humerana lateralis is a species of frog in the...</td>\n",
              "      <td>The Kokarit frog, meng-yang frog, yellow frog,...</td>\n",
              "      <td>0.241987</td>\n",
              "      <td>67.08</td>\n",
              "    </tr>\n",
              "    <tr>\n",
              "      <th>2</th>\n",
              "      <td>Moundou</td>\n",
              "      <td>Moundou  is the second-largest city in Chad an...</td>\n",
              "      <td>Moundou is the capital of the Logone Occidenta...</td>\n",
              "      <td>0.617577</td>\n",
              "      <td>86.71</td>\n",
              "    </tr>\n",
              "    <tr>\n",
              "      <th>6</th>\n",
              "      <td>Lone Rock, Iowa</td>\n",
              "      <td>Lone Rock is a city in Kossuth County, Iowa, U...</td>\n",
              "      <td>Lone Rock is a city in Iowa in the United States.</td>\n",
              "      <td>0.230047</td>\n",
              "      <td>102.61</td>\n",
              "    </tr>\n",
              "    <tr>\n",
              "      <th>8</th>\n",
              "      <td>Japan Mint</td>\n",
              "      <td>The Japan Mint  is an Independent Administrati...</td>\n",
              "      <td>The Japan Mint  is an Incorporated Administrat...</td>\n",
              "      <td>0.628272</td>\n",
              "      <td>52.15</td>\n",
              "    </tr>\n",
              "    <tr>\n",
              "      <th>...</th>\n",
              "      <td>...</td>\n",
              "      <td>...</td>\n",
              "      <td>...</td>\n",
              "      <td>...</td>\n",
              "      <td>...</td>\n",
              "    </tr>\n",
              "    <tr>\n",
              "      <th>38288</th>\n",
              "      <td>Shabestar</td>\n",
              "      <td>Shabestar  is a city in the Central District o...</td>\n",
              "      <td>Shabestar  is a city and is the capital of Sha...</td>\n",
              "      <td>0.461874</td>\n",
              "      <td>76.22</td>\n",
              "    </tr>\n",
              "    <tr>\n",
              "      <th>38290</th>\n",
              "      <td>Jack Garfein</td>\n",
              "      <td>Jakob Garfein  was an American film and theatr...</td>\n",
              "      <td>Jack Garfein  was an American director and act...</td>\n",
              "      <td>0.426441</td>\n",
              "      <td>74.79</td>\n",
              "    </tr>\n",
              "    <tr>\n",
              "      <th>38291</th>\n",
              "      <td>Balinghem</td>\n",
              "      <td>Balinghem  is a commune in the Pas-de-Calais d...</td>\n",
              "      <td>Balinghem is a commune. It is found in the reg...</td>\n",
              "      <td>0.870504</td>\n",
              "      <td>69.79</td>\n",
              "    </tr>\n",
              "    <tr>\n",
              "      <th>38292</th>\n",
              "      <td>Limony</td>\n",
              "      <td>Limony  is a commune in the Ardèche department...</td>\n",
              "      <td>Limony  is a commune in the Ardèche départemen...</td>\n",
              "      <td>0.582609</td>\n",
              "      <td>68.77</td>\n",
              "    </tr>\n",
              "    <tr>\n",
              "      <th>38293</th>\n",
              "      <td>Cuxac-Cabardès</td>\n",
              "      <td>Cuxac-Cabardès  is a commune in the Aude depar...</td>\n",
              "      <td>Cuxac-Cabardès is a commune of 911 people . It...</td>\n",
              "      <td>0.887324</td>\n",
              "      <td>68.77</td>\n",
              "    </tr>\n",
              "  </tbody>\n",
              "</table>\n",
              "<p>22214 rows × 5 columns</p>\n",
              "</div>"
            ],
            "text/plain": [
              "                        title  \\\n",
              "0      Johan August Arfwedson   \n",
              "1                Kokarit frog   \n",
              "2                     Moundou   \n",
              "6             Lone Rock, Iowa   \n",
              "8                  Japan Mint   \n",
              "...                       ...   \n",
              "38288               Shabestar   \n",
              "38290            Jack Garfein   \n",
              "38291               Balinghem   \n",
              "38292                  Limony   \n",
              "38293          Cuxac-Cabardès   \n",
              "\n",
              "                                              input_text  \\\n",
              "0      Johan August Arfwedson  was a  Swedish chemist...   \n",
              "1      Humerana lateralis is a species of frog in the...   \n",
              "2      Moundou  is the second-largest city in Chad an...   \n",
              "6      Lone Rock is a city in Kossuth County, Iowa, U...   \n",
              "8      The Japan Mint  is an Independent Administrati...   \n",
              "...                                                  ...   \n",
              "38288  Shabestar  is a city in the Central District o...   \n",
              "38290  Jakob Garfein  was an American film and theatr...   \n",
              "38291  Balinghem  is a commune in the Pas-de-Calais d...   \n",
              "38292  Limony  is a commune in the Ardèche department...   \n",
              "38293  Cuxac-Cabardès  is a commune in the Aude depar...   \n",
              "\n",
              "                                             target_text  compression_ratio  \\\n",
              "0      Johan August Arfwedson  was a Swedish chemist....           0.862500   \n",
              "1      The Kokarit frog, meng-yang frog, yellow frog,...           0.241987   \n",
              "2      Moundou is the capital of the Logone Occidenta...           0.617577   \n",
              "6      Lone Rock is a city in Iowa in the United States.           0.230047   \n",
              "8      The Japan Mint  is an Incorporated Administrat...           0.628272   \n",
              "...                                                  ...                ...   \n",
              "38288  Shabestar  is a city and is the capital of Sha...           0.461874   \n",
              "38290  Jack Garfein  was an American director and act...           0.426441   \n",
              "38291  Balinghem is a commune. It is found in the reg...           0.870504   \n",
              "38292  Limony  is a commune in the Ardèche départemen...           0.582609   \n",
              "38293  Cuxac-Cabardès is a commune of 911 people . It...           0.887324   \n",
              "\n",
              "       readability_score  \n",
              "0                  70.80  \n",
              "1                  67.08  \n",
              "2                  86.71  \n",
              "6                 102.61  \n",
              "8                  52.15  \n",
              "...                  ...  \n",
              "38288              76.22  \n",
              "38290              74.79  \n",
              "38291              69.79  \n",
              "38292              68.77  \n",
              "38293              68.77  \n",
              "\n",
              "[22214 rows x 5 columns]"
            ]
          },
          "execution_count": 82,
          "metadata": {},
          "output_type": "execute_result"
        }
      ],
      "source": [
        "filtered_df.info()\n",
        "filtered_df"
      ]
    },
    {
      "cell_type": "code",
      "execution_count": 83,
      "metadata": {
        "id": "P6AICXoNkKK5"
      },
      "outputs": [],
      "source": [
        "filtered_df.to_json(\"../processed_data/data.jsonl\", orient=\"records\", lines=True)"
      ]
    },
    {
      "cell_type": "code",
      "execution_count": 84,
      "metadata": {
        "id": "n5nWGNn9kyQQ"
      },
      "outputs": [],
      "source": [
        "df = pd.read_json(\"../processed_data/data.jsonl\", lines=True)"
      ]
    },
    {
      "cell_type": "code",
      "execution_count": 85,
      "metadata": {
        "colab": {
          "base_uri": "https://localhost:8080/",
          "height": 1000
        },
        "id": "V54Wq-G_nPiQ",
        "outputId": "6e329c71-8dd9-4b29-e6a0-8b5309362bba"
      },
      "outputs": [
        {
          "data": {
            "text/html": [
              "<div>\n",
              "<style scoped>\n",
              "    .dataframe tbody tr th:only-of-type {\n",
              "        vertical-align: middle;\n",
              "    }\n",
              "\n",
              "    .dataframe tbody tr th {\n",
              "        vertical-align: top;\n",
              "    }\n",
              "\n",
              "    .dataframe thead th {\n",
              "        text-align: right;\n",
              "    }\n",
              "</style>\n",
              "<table border=\"1\" class=\"dataframe\">\n",
              "  <thead>\n",
              "    <tr style=\"text-align: right;\">\n",
              "      <th></th>\n",
              "      <th>title</th>\n",
              "      <th>input_text</th>\n",
              "      <th>target_text</th>\n",
              "      <th>compression_ratio</th>\n",
              "      <th>readability_score</th>\n",
              "    </tr>\n",
              "  </thead>\n",
              "  <tbody>\n",
              "    <tr>\n",
              "      <th>0</th>\n",
              "      <td>Johan August Arfwedson</td>\n",
              "      <td>Johan August Arfwedson  was a  Swedish chemist...</td>\n",
              "      <td>Johan August Arfwedson  was a Swedish chemist....</td>\n",
              "      <td>0.862500</td>\n",
              "      <td>70.80</td>\n",
              "    </tr>\n",
              "    <tr>\n",
              "      <th>1</th>\n",
              "      <td>Kokarit frog</td>\n",
              "      <td>Humerana lateralis is a species of frog in the...</td>\n",
              "      <td>The Kokarit frog, meng-yang frog, yellow frog,...</td>\n",
              "      <td>0.241987</td>\n",
              "      <td>67.08</td>\n",
              "    </tr>\n",
              "    <tr>\n",
              "      <th>2</th>\n",
              "      <td>Moundou</td>\n",
              "      <td>Moundou  is the second-largest city in Chad an...</td>\n",
              "      <td>Moundou is the capital of the Logone Occidenta...</td>\n",
              "      <td>0.617577</td>\n",
              "      <td>86.71</td>\n",
              "    </tr>\n",
              "    <tr>\n",
              "      <th>3</th>\n",
              "      <td>Lone Rock, Iowa</td>\n",
              "      <td>Lone Rock is a city in Kossuth County, Iowa, U...</td>\n",
              "      <td>Lone Rock is a city in Iowa in the United States.</td>\n",
              "      <td>0.230047</td>\n",
              "      <td>102.61</td>\n",
              "    </tr>\n",
              "    <tr>\n",
              "      <th>4</th>\n",
              "      <td>Japan Mint</td>\n",
              "      <td>The Japan Mint  is an Independent Administrati...</td>\n",
              "      <td>The Japan Mint  is an Incorporated Administrat...</td>\n",
              "      <td>0.628272</td>\n",
              "      <td>52.15</td>\n",
              "    </tr>\n",
              "    <tr>\n",
              "      <th>...</th>\n",
              "      <td>...</td>\n",
              "      <td>...</td>\n",
              "      <td>...</td>\n",
              "      <td>...</td>\n",
              "      <td>...</td>\n",
              "    </tr>\n",
              "    <tr>\n",
              "      <th>22209</th>\n",
              "      <td>Shabestar</td>\n",
              "      <td>Shabestar  is a city in the Central District o...</td>\n",
              "      <td>Shabestar  is a city and is the capital of Sha...</td>\n",
              "      <td>0.461874</td>\n",
              "      <td>76.22</td>\n",
              "    </tr>\n",
              "    <tr>\n",
              "      <th>22210</th>\n",
              "      <td>Jack Garfein</td>\n",
              "      <td>Jakob Garfein  was an American film and theatr...</td>\n",
              "      <td>Jack Garfein  was an American director and act...</td>\n",
              "      <td>0.426441</td>\n",
              "      <td>74.79</td>\n",
              "    </tr>\n",
              "    <tr>\n",
              "      <th>22211</th>\n",
              "      <td>Balinghem</td>\n",
              "      <td>Balinghem  is a commune in the Pas-de-Calais d...</td>\n",
              "      <td>Balinghem is a commune. It is found in the reg...</td>\n",
              "      <td>0.870504</td>\n",
              "      <td>69.79</td>\n",
              "    </tr>\n",
              "    <tr>\n",
              "      <th>22212</th>\n",
              "      <td>Limony</td>\n",
              "      <td>Limony  is a commune in the Ardèche department...</td>\n",
              "      <td>Limony  is a commune in the Ardèche départemen...</td>\n",
              "      <td>0.582609</td>\n",
              "      <td>68.77</td>\n",
              "    </tr>\n",
              "    <tr>\n",
              "      <th>22213</th>\n",
              "      <td>Cuxac-Cabardès</td>\n",
              "      <td>Cuxac-Cabardès  is a commune in the Aude depar...</td>\n",
              "      <td>Cuxac-Cabardès is a commune of 911 people . It...</td>\n",
              "      <td>0.887324</td>\n",
              "      <td>68.77</td>\n",
              "    </tr>\n",
              "  </tbody>\n",
              "</table>\n",
              "<p>22214 rows × 5 columns</p>\n",
              "</div>"
            ],
            "text/plain": [
              "                        title  \\\n",
              "0      Johan August Arfwedson   \n",
              "1                Kokarit frog   \n",
              "2                     Moundou   \n",
              "3             Lone Rock, Iowa   \n",
              "4                  Japan Mint   \n",
              "...                       ...   \n",
              "22209               Shabestar   \n",
              "22210            Jack Garfein   \n",
              "22211               Balinghem   \n",
              "22212                  Limony   \n",
              "22213          Cuxac-Cabardès   \n",
              "\n",
              "                                              input_text  \\\n",
              "0      Johan August Arfwedson  was a  Swedish chemist...   \n",
              "1      Humerana lateralis is a species of frog in the...   \n",
              "2      Moundou  is the second-largest city in Chad an...   \n",
              "3      Lone Rock is a city in Kossuth County, Iowa, U...   \n",
              "4      The Japan Mint  is an Independent Administrati...   \n",
              "...                                                  ...   \n",
              "22209  Shabestar  is a city in the Central District o...   \n",
              "22210  Jakob Garfein  was an American film and theatr...   \n",
              "22211  Balinghem  is a commune in the Pas-de-Calais d...   \n",
              "22212  Limony  is a commune in the Ardèche department...   \n",
              "22213  Cuxac-Cabardès  is a commune in the Aude depar...   \n",
              "\n",
              "                                             target_text  compression_ratio  \\\n",
              "0      Johan August Arfwedson  was a Swedish chemist....           0.862500   \n",
              "1      The Kokarit frog, meng-yang frog, yellow frog,...           0.241987   \n",
              "2      Moundou is the capital of the Logone Occidenta...           0.617577   \n",
              "3      Lone Rock is a city in Iowa in the United States.           0.230047   \n",
              "4      The Japan Mint  is an Incorporated Administrat...           0.628272   \n",
              "...                                                  ...                ...   \n",
              "22209  Shabestar  is a city and is the capital of Sha...           0.461874   \n",
              "22210  Jack Garfein  was an American director and act...           0.426441   \n",
              "22211  Balinghem is a commune. It is found in the reg...           0.870504   \n",
              "22212  Limony  is a commune in the Ardèche départemen...           0.582609   \n",
              "22213  Cuxac-Cabardès is a commune of 911 people . It...           0.887324   \n",
              "\n",
              "       readability_score  \n",
              "0                  70.80  \n",
              "1                  67.08  \n",
              "2                  86.71  \n",
              "3                 102.61  \n",
              "4                  52.15  \n",
              "...                  ...  \n",
              "22209              76.22  \n",
              "22210              74.79  \n",
              "22211              69.79  \n",
              "22212              68.77  \n",
              "22213              68.77  \n",
              "\n",
              "[22214 rows x 5 columns]"
            ]
          },
          "execution_count": 85,
          "metadata": {},
          "output_type": "execute_result"
        }
      ],
      "source": [
        "df"
      ]
    },
    {
      "cell_type": "code",
      "execution_count": null,
      "metadata": {
        "id": "9yAYzNAIoMP8"
      },
      "outputs": [],
      "source": []
    }
  ],
  "metadata": {
    "colab": {
      "provenance": []
    },
    "kernelspec": {
      "display_name": "base",
      "language": "python",
      "name": "python3"
    },
    "language_info": {
      "codemirror_mode": {
        "name": "ipython",
        "version": 3
      },
      "file_extension": ".py",
      "mimetype": "text/x-python",
      "name": "python",
      "nbconvert_exporter": "python",
      "pygments_lexer": "ipython3",
      "version": "3.12.8"
    }
  },
  "nbformat": 4,
  "nbformat_minor": 0
}
