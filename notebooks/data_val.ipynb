{
 "cells": [
  {
   "cell_type": "code",
   "execution_count": 1,
   "id": "00d763e3",
   "metadata": {},
   "outputs": [],
   "source": [
    "import pandas as pd\n",
    "import numpy as np"
   ]
  },
  {
   "cell_type": "code",
   "execution_count": null,
   "id": "af9137a6",
   "metadata": {},
   "outputs": [
    {
     "data": {
      "text/html": [
       "<div>\n",
       "<style scoped>\n",
       "    .dataframe tbody tr th:only-of-type {\n",
       "        vertical-align: middle;\n",
       "    }\n",
       "\n",
       "    .dataframe tbody tr th {\n",
       "        vertical-align: top;\n",
       "    }\n",
       "\n",
       "    .dataframe thead th {\n",
       "        text-align: right;\n",
       "    }\n",
       "</style>\n",
       "<table border=\"1\" class=\"dataframe\">\n",
       "  <thead>\n",
       "    <tr style=\"text-align: right;\">\n",
       "      <th></th>\n",
       "      <th>title</th>\n",
       "      <th>input_text</th>\n",
       "      <th>target_text</th>\n",
       "      <th>compression_ratio</th>\n",
       "      <th>summary_len</th>\n",
       "      <th>readability_score</th>\n",
       "      <th>rouge-1</th>\n",
       "      <th>rouge-2</th>\n",
       "      <th>rouge-l</th>\n",
       "    </tr>\n",
       "  </thead>\n",
       "  <tbody>\n",
       "    <tr>\n",
       "      <th>0</th>\n",
       "      <td>Moundou</td>\n",
       "      <td>Moundou  is the second-largest city in Chad an...</td>\n",
       "      <td>Moundou is the capital of the Logone Occidenta...</td>\n",
       "      <td>0.700809</td>\n",
       "      <td>260</td>\n",
       "      <td>86.71</td>\n",
       "      <td>0.538462</td>\n",
       "      <td>0.333333</td>\n",
       "      <td>0.538462</td>\n",
       "    </tr>\n",
       "    <tr>\n",
       "      <th>1</th>\n",
       "      <td>Lone Rock, Iowa</td>\n",
       "      <td>Lone Rock is a city in Kossuth County, Iowa, U...</td>\n",
       "      <td>Lone Rock is a city in Iowa in the United States.</td>\n",
       "      <td>0.230047</td>\n",
       "      <td>49</td>\n",
       "      <td>68.77</td>\n",
       "      <td>0.465116</td>\n",
       "      <td>0.285714</td>\n",
       "      <td>0.465116</td>\n",
       "    </tr>\n",
       "    <tr>\n",
       "      <th>2</th>\n",
       "      <td>Japan Mint</td>\n",
       "      <td>The Japan Mint  is an Independent Administrati...</td>\n",
       "      <td>The Japan Mint  is an Incorporated Administrat...</td>\n",
       "      <td>0.574405</td>\n",
       "      <td>193</td>\n",
       "      <td>43.69</td>\n",
       "      <td>0.470588</td>\n",
       "      <td>0.303797</td>\n",
       "      <td>0.470588</td>\n",
       "    </tr>\n",
       "    <tr>\n",
       "      <th>3</th>\n",
       "      <td>Arkhangelsk Oblast</td>\n",
       "      <td>Arkhangelsk Oblast  is a federal subject of Ru...</td>\n",
       "      <td>Arkhangelsk Oblast  is one of the federal subj...</td>\n",
       "      <td>0.548577</td>\n",
       "      <td>559</td>\n",
       "      <td>50.12</td>\n",
       "      <td>0.483660</td>\n",
       "      <td>0.270270</td>\n",
       "      <td>0.483660</td>\n",
       "    </tr>\n",
       "    <tr>\n",
       "      <th>4</th>\n",
       "      <td>Fred Kida</td>\n",
       "      <td>Fred Kida  was a Japanese-American   comic boo...</td>\n",
       "      <td>Fred Kida  was a Japanese-American  comic book...</td>\n",
       "      <td>0.504026</td>\n",
       "      <td>313</td>\n",
       "      <td>57.27</td>\n",
       "      <td>0.554622</td>\n",
       "      <td>0.418301</td>\n",
       "      <td>0.554622</td>\n",
       "    </tr>\n",
       "  </tbody>\n",
       "</table>\n",
       "</div>"
      ],
      "text/plain": [
       "                title                                         input_text  \\\n",
       "0             Moundou  Moundou  is the second-largest city in Chad an...   \n",
       "1     Lone Rock, Iowa  Lone Rock is a city in Kossuth County, Iowa, U...   \n",
       "2          Japan Mint  The Japan Mint  is an Independent Administrati...   \n",
       "3  Arkhangelsk Oblast  Arkhangelsk Oblast  is a federal subject of Ru...   \n",
       "4           Fred Kida  Fred Kida  was a Japanese-American   comic boo...   \n",
       "\n",
       "                                         target_text  compression_ratio  \\\n",
       "0  Moundou is the capital of the Logone Occidenta...           0.700809   \n",
       "1  Lone Rock is a city in Iowa in the United States.           0.230047   \n",
       "2  The Japan Mint  is an Incorporated Administrat...           0.574405   \n",
       "3  Arkhangelsk Oblast  is one of the federal subj...           0.548577   \n",
       "4  Fred Kida  was a Japanese-American  comic book...           0.504026   \n",
       "\n",
       "   summary_len  readability_score   rouge-1   rouge-2   rouge-l  \n",
       "0          260              86.71  0.538462  0.333333  0.538462  \n",
       "1           49              68.77  0.465116  0.285714  0.465116  \n",
       "2          193              43.69  0.470588  0.303797  0.470588  \n",
       "3          559              50.12  0.483660  0.270270  0.483660  \n",
       "4          313              57.27  0.554622  0.418301  0.554622  "
      ]
     },
     "execution_count": 3,
     "metadata": {},
     "output_type": "execute_result"
    }
   ],
   "source": [
    "df = pd.read_json(\"../processed_data/data.jsonl\", lines=True)\n",
    "df.head()"
   ]
  },
  {
   "cell_type": "code",
   "execution_count": 4,
   "id": "9c419358",
   "metadata": {},
   "outputs": [
    {
     "data": {
      "text/html": [
       "<div>\n",
       "<style scoped>\n",
       "    .dataframe tbody tr th:only-of-type {\n",
       "        vertical-align: middle;\n",
       "    }\n",
       "\n",
       "    .dataframe tbody tr th {\n",
       "        vertical-align: top;\n",
       "    }\n",
       "\n",
       "    .dataframe thead th {\n",
       "        text-align: right;\n",
       "    }\n",
       "</style>\n",
       "<table border=\"1\" class=\"dataframe\">\n",
       "  <thead>\n",
       "    <tr style=\"text-align: right;\">\n",
       "      <th></th>\n",
       "      <th>input_text</th>\n",
       "      <th>target_text</th>\n",
       "    </tr>\n",
       "  </thead>\n",
       "  <tbody>\n",
       "    <tr>\n",
       "      <th>0</th>\n",
       "      <td>Moundou  is the second-largest city in Chad an...</td>\n",
       "      <td>Moundou is the capital of the Logone Occidenta...</td>\n",
       "    </tr>\n",
       "    <tr>\n",
       "      <th>1</th>\n",
       "      <td>Lone Rock is a city in Kossuth County, Iowa, U...</td>\n",
       "      <td>Lone Rock is a city in Iowa in the United States.</td>\n",
       "    </tr>\n",
       "    <tr>\n",
       "      <th>2</th>\n",
       "      <td>The Japan Mint  is an Independent Administrati...</td>\n",
       "      <td>The Japan Mint  is an Incorporated Administrat...</td>\n",
       "    </tr>\n",
       "    <tr>\n",
       "      <th>3</th>\n",
       "      <td>Arkhangelsk Oblast  is a federal subject of Ru...</td>\n",
       "      <td>Arkhangelsk Oblast  is one of the federal subj...</td>\n",
       "    </tr>\n",
       "    <tr>\n",
       "      <th>4</th>\n",
       "      <td>Fred Kida  was a Japanese-American   comic boo...</td>\n",
       "      <td>Fred Kida  was a Japanese-American  comic book...</td>\n",
       "    </tr>\n",
       "  </tbody>\n",
       "</table>\n",
       "</div>"
      ],
      "text/plain": [
       "                                          input_text  \\\n",
       "0  Moundou  is the second-largest city in Chad an...   \n",
       "1  Lone Rock is a city in Kossuth County, Iowa, U...   \n",
       "2  The Japan Mint  is an Independent Administrati...   \n",
       "3  Arkhangelsk Oblast  is a federal subject of Ru...   \n",
       "4  Fred Kida  was a Japanese-American   comic boo...   \n",
       "\n",
       "                                         target_text  \n",
       "0  Moundou is the capital of the Logone Occidenta...  \n",
       "1  Lone Rock is a city in Iowa in the United States.  \n",
       "2  The Japan Mint  is an Incorporated Administrat...  \n",
       "3  Arkhangelsk Oblast  is one of the federal subj...  \n",
       "4  Fred Kida  was a Japanese-American  comic book...  "
      ]
     },
     "execution_count": 4,
     "metadata": {},
     "output_type": "execute_result"
    }
   ],
   "source": [
    "df = df[[\"input_text\", \"target_text\"]]\n",
    "df.head()"
   ]
  },
  {
   "cell_type": "code",
   "execution_count": 5,
   "id": "66253f1d",
   "metadata": {},
   "outputs": [
    {
     "name": "stdout",
     "output_type": "stream",
     "text": [
      "<class 'pandas.core.frame.DataFrame'>\n",
      "RangeIndex: 9869 entries, 0 to 9868\n",
      "Data columns (total 2 columns):\n",
      " #   Column       Non-Null Count  Dtype \n",
      "---  ------       --------------  ----- \n",
      " 0   input_text   9869 non-null   object\n",
      " 1   target_text  9869 non-null   object\n",
      "dtypes: object(2)\n",
      "memory usage: 154.3+ KB\n"
     ]
    }
   ],
   "source": [
    "df.info()"
   ]
  },
  {
   "cell_type": "code",
   "execution_count": 13,
   "id": "c2c971d6",
   "metadata": {},
   "outputs": [],
   "source": [
    "df.dropna(subset=[\"input_text\", \"target_text\"], inplace=True)\n",
    "df.drop_duplicates(subset=[\"input_text\", \"target_text\"], inplace=True)"
   ]
  },
  {
   "cell_type": "code",
   "execution_count": 14,
   "id": "90d4c9f6",
   "metadata": {},
   "outputs": [
    {
     "data": {
      "application/vnd.jupyter.widget-view+json": {
       "model_id": "563f04024eb54d6da0551cf98161cb21",
       "version_major": 2,
       "version_minor": 0
      },
      "text/plain": [
       "interactive(children=(IntSlider(value=0, description='Index:', max=9865), Output()), _dom_classes=('widget-int…"
      ]
     },
     "metadata": {},
     "output_type": "display_data"
    },
    {
     "data": {
      "text/plain": [
       "<function __main__.show_entry(i)>"
      ]
     },
     "execution_count": 14,
     "metadata": {},
     "output_type": "execute_result"
    }
   ],
   "source": [
    "from IPython.display import display\n",
    "import ipywidgets as widgets\n",
    "\n",
    "# Create a slider to scroll through the dataset\n",
    "index_slider = widgets.IntSlider(min=0, max=len(df)-1, step=1, description='Index:')\n",
    "\n",
    "def show_entry(i):\n",
    "    input_text = df.loc[i, 'input_text']\n",
    "    target_text = df.loc[i, 'target_text']\n",
    "    \n",
    "    input_box = widgets.HTML(\n",
    "        value=f\"<b>Input Text:</b><br><div style='white-space: pre-wrap; word-wrap: break-word; max-height: 300px; overflow-y: auto; border: 1px solid #ccc; padding: 10px;'>{input_text}</div>\"\n",
    "    )\n",
    "\n",
    "    target_box = widgets.HTML(\n",
    "        value=f\"<b>Target Text:</b><br><div style='white-space: pre-wrap; word-wrap: break-word; max-height: 300px; overflow-y: auto; border: 1px solid #ccc; padding: 10px;'>{target_text}</div>\"\n",
    "    )\n",
    "\n",
    "    display(input_box, target_box)\n",
    "\n",
    "widgets.interact(show_entry, i=index_slider)"
   ]
  },
  {
   "cell_type": "code",
   "execution_count": 15,
   "id": "4e8c1733",
   "metadata": {},
   "outputs": [
    {
     "name": "stdout",
     "output_type": "stream",
     "text": [
      "<class 'pandas.core.frame.DataFrame'>\n",
      "RangeIndex: 9863 entries, 0 to 9862\n",
      "Data columns (total 2 columns):\n",
      " #   Column       Non-Null Count  Dtype \n",
      "---  ------       --------------  ----- \n",
      " 0   input_text   9863 non-null   object\n",
      " 1   target_text  9863 non-null   object\n",
      "dtypes: object(2)\n",
      "memory usage: 154.2+ KB\n"
     ]
    }
   ],
   "source": [
    "idx_rm = [1, 2, 6]\n",
    "df.drop(index=idx_rm, inplace=True)\n",
    "df.reset_index(drop=True, inplace=True)\n",
    "df.info()"
   ]
  },
  {
   "cell_type": "code",
   "execution_count": 17,
   "id": "a402f5b1",
   "metadata": {},
   "outputs": [],
   "source": [
    "# save dataframe to jsonl\n",
    "df.to_json(\"../processed_data/data.jsonl\", orient=\"records\", lines=True)"
   ]
  },
  {
   "cell_type": "code",
   "execution_count": null,
   "id": "22ba1c1b",
   "metadata": {},
   "outputs": [],
   "source": []
  }
 ],
 "metadata": {
  "kernelspec": {
   "display_name": "base",
   "language": "python",
   "name": "python3"
  },
  "language_info": {
   "codemirror_mode": {
    "name": "ipython",
    "version": 3
   },
   "file_extension": ".py",
   "mimetype": "text/x-python",
   "name": "python",
   "nbconvert_exporter": "python",
   "pygments_lexer": "ipython3",
   "version": "3.12.8"
  }
 },
 "nbformat": 4,
 "nbformat_minor": 5
}
